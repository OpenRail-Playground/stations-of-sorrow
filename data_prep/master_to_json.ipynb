{
 "cells": [
  {
   "cell_type": "code",
   "execution_count": 7,
   "id": "45b40668",
   "metadata": {},
   "outputs": [],
   "source": [
    "import os\n",
    "import polars as pl\n",
    "import numpy as np"
   ]
  },
  {
   "cell_type": "code",
   "execution_count": 2,
   "id": "baebc5f0",
   "metadata": {},
   "outputs": [],
   "source": [
    "region_name = \"Ost\"\n",
    "mngmt_name = \"Mecklenburg-Vorpommern\"\n",
    "mngmt_filter = \"Mecklenburg-Vorpommern\""
   ]
  },
  {
   "cell_type": "code",
   "execution_count": 3,
   "id": "1e1d0a34",
   "metadata": {},
   "outputs": [],
   "source": [
    "pth_data = f\"C:/Users/z187070/Documents/Projects/PAXCOUNTER/data/\"\n",
    "pth_master = pth_data + f\"master/master/{region_name}/master_data/master_data.csv\""
   ]
  },
  {
   "cell_type": "code",
   "execution_count": 5,
   "id": "25e190f7",
   "metadata": {},
   "outputs": [],
   "source": [
    "df_md = pl.read_csv(pth_master, has_header = True, separator=\";\")"
   ]
  },
  {
   "cell_type": "code",
   "execution_count": null,
   "id": "fa9335f4",
   "metadata": {},
   "outputs": [
    {
     "data": {
      "text/html": [
       "<div><style>\n",
       ".dataframe > thead > tr,\n",
       ".dataframe > tbody > tr {\n",
       "  text-align: right;\n",
       "  white-space: pre-wrap;\n",
       "}\n",
       "</style>\n",
       "<small>shape: (296, 14)</small><table border=\"1\" class=\"dataframe\"><thead><tr><th>pax_counter_id</th><th>equipmentname</th><th>station_id</th><th>tplnr</th><th>tpname</th><th>station_name</th><th>station_ril100</th><th>management_name</th><th>region_name</th><th>federal_state_name</th><th>station_longitude</th><th>station_latitude</th><th>produktlinie</th><th>untersegment</th></tr><tr><td>str</td><td>str</td><td>i64</td><td>str</td><td>str</td><td>str</td><td>str</td><td>str</td><td>str</td><td>str</td><td>f64</td><td>f64</td><td>str</td><td>str</td></tr></thead><tbody><tr><td>&quot;a0a3b33115cf&quot;</td><td>&quot;DSA+ Gleis 1&quot;</td><td>128</td><td>&quot;00128-01-B01&quot;</td><td>&quot;Bahnsteig 1 (R…</td><td>&quot;Altranft&quot;</td><td>&quot;BART&quot;</td><td>&quot;Cottbus&quot;</td><td>&quot;Ost&quot;</td><td>&quot;Brandenburg&quot;</td><td>14.082107</td><td>52.763368</td><td>&quot;Zubringerbahnh…</td><td>&quot;ländlicher Zub…</td></tr><tr><td>&quot;a0a3b32f9a73&quot;</td><td>&quot;DSA+_Typ2_GL1b…</td><td>276</td><td>&quot;00276-01-B03&quot;</td><td>&quot;Bahnsteig 1b&quot;</td><td>&quot;Bad Freienwald…</td><td>&quot;WFW&quot;</td><td>&quot;Cottbus&quot;</td><td>&quot;Ost&quot;</td><td>&quot;Brandenburg&quot;</td><td>14.035751</td><td>52.789933</td><td>&quot;Zubringerbahnh…</td><td>&quot;ländlicher Zub…</td></tr><tr><td>&quot;a0a3b32f3067&quot;</td><td>&quot;DSA+_Typ2_GL1a…</td><td>276</td><td>&quot;00276-01-B01&quot;</td><td>&quot;Bahnsteig 1a&quot;</td><td>&quot;Bad Freienwald…</td><td>&quot;WFW&quot;</td><td>&quot;Cottbus&quot;</td><td>&quot;Ost&quot;</td><td>&quot;Brandenburg&quot;</td><td>14.035751</td><td>52.789933</td><td>&quot;Zubringerbahnh…</td><td>&quot;ländlicher Zub…</td></tr><tr><td>&quot;7c9ebd301a6f&quot;</td><td>&quot;DSA+ Typ2 Bahn…</td><td>324</td><td>&quot;00324-01-B01&quot;</td><td>&quot;Bahnsteig 1&quot;</td><td>&quot;Bad Saarow&quot;</td><td>&quot;BBSP&quot;</td><td>&quot;Cottbus&quot;</td><td>&quot;Ost&quot;</td><td>&quot;Brandenburg&quot;</td><td>14.064929</td><td>52.293253</td><td>&quot;Zubringerbahnh…</td><td>&quot;ländlicher Zub…</td></tr><tr><td>&quot;a0a3b32f6b13&quot;</td><td>&quot;DSA+_Typ2_GL2_…</td><td>421</td><td>&quot;00421-01-B02&quot;</td><td>&quot;Bahnsteig 2 (R…</td><td>&quot;Baruth (Mark)&quot;</td><td>&quot;BBA&quot;</td><td>&quot;Cottbus&quot;</td><td>&quot;Ost&quot;</td><td>&quot;Brandenburg&quot;</td><td>13.511963</td><td>52.057916</td><td>&quot;Zubringerbahnh…</td><td>&quot;ländlicher Zub…</td></tr><tr><td>&quot;a0a3b38c537b&quot;</td><td>&quot;DSA+_Typ2_GL1_…</td><td>421</td><td>&quot;00421-01-B01&quot;</td><td>&quot;Bahnsteig 1 (R…</td><td>&quot;Baruth (Mark)&quot;</td><td>&quot;BBA&quot;</td><td>&quot;Cottbus&quot;</td><td>&quot;Ost&quot;</td><td>&quot;Brandenburg&quot;</td><td>13.511963</td><td>52.057916</td><td>&quot;Zubringerbahnh…</td><td>&quot;ländlicher Zub…</td></tr><tr><td>&quot;a0a3b330ce93&quot;</td><td>&quot;DSA+Typ3_GL1a_…</td><td>456</td><td>&quot;00456-01-B01&quot;</td><td>&quot;Bahnsteig 1a (…</td><td>&quot;Beeskow&quot;</td><td>&quot;BBES&quot;</td><td>&quot;Cottbus&quot;</td><td>&quot;Ost&quot;</td><td>&quot;Brandenburg&quot;</td><td>14.250974</td><td>52.177684</td><td>&quot;Zubringerbahnh…</td><td>&quot;Regionaler Zub…</td></tr><tr><td>&quot;a0a3b32f9d53&quot;</td><td>&quot;DSA+Typ3_GL1b_…</td><td>456</td><td>&quot;00456-01-B02&quot;</td><td>&quot;Bahnsteig 1b (…</td><td>&quot;Beeskow&quot;</td><td>&quot;BBES&quot;</td><td>&quot;Cottbus&quot;</td><td>&quot;Ost&quot;</td><td>&quot;Brandenburg&quot;</td><td>14.250974</td><td>52.177684</td><td>&quot;Zubringerbahnh…</td><td>&quot;Regionaler Zub…</td></tr><tr><td>&quot;a0a3b32f3607&quot;</td><td>&quot;DSA+_Typ2_GL2_…</td><td>524</td><td>&quot;00524-01-B02&quot;</td><td>&quot;Bahnsteig 2&quot;</td><td>&quot;Berkenbrück&quot;</td><td>&quot;BBKR&quot;</td><td>&quot;Cottbus&quot;</td><td>&quot;Ost&quot;</td><td>&quot;Brandenburg&quot;</td><td>14.165217</td><td>52.35719</td><td>&quot;Zubringerbahnh…</td><td>&quot;ländlicher Zub…</td></tr><tr><td>&quot;a0a3b32f5b53&quot;</td><td>&quot;DSA+_Typ2_GL2_…</td><td>524</td><td>&quot;00524-01-B02&quot;</td><td>&quot;Bahnsteig 2&quot;</td><td>&quot;Berkenbrück&quot;</td><td>&quot;BBKR&quot;</td><td>&quot;Cottbus&quot;</td><td>&quot;Ost&quot;</td><td>&quot;Brandenburg&quot;</td><td>14.165217</td><td>52.35719</td><td>&quot;Zubringerbahnh…</td><td>&quot;ländlicher Zub…</td></tr><tr><td>&quot;a0a3b38c6bef&quot;</td><td>&quot;DSA+ Bahnsteig…</td><td>590</td><td>&quot;00590-01-B02&quot;</td><td>&quot;Bahnsteig 2 (R…</td><td>&quot;Bestensee&quot;</td><td>&quot;BBST&quot;</td><td>&quot;Cottbus&quot;</td><td>&quot;Ost&quot;</td><td>&quot;Brandenburg&quot;</td><td>13.63492</td><td>52.242129</td><td>&quot;Zubringerbahnh…</td><td>&quot;Regionaler Zub…</td></tr><tr><td>&quot;a0a3b3312ebf&quot;</td><td>&quot;DSA+ Typ2 Bstg…</td><td>590</td><td>&quot;00590-01-B01&quot;</td><td>&quot;Bahnsteig 1 (R…</td><td>&quot;Bestensee&quot;</td><td>&quot;BBST&quot;</td><td>&quot;Cottbus&quot;</td><td>&quot;Ost&quot;</td><td>&quot;Brandenburg&quot;</td><td>13.63492</td><td>52.242129</td><td>&quot;Zubringerbahnh…</td><td>&quot;Regionaler Zub…</td></tr><tr><td>&hellip;</td><td>&hellip;</td><td>&hellip;</td><td>&hellip;</td><td>&hellip;</td><td>&hellip;</td><td>&hellip;</td><td>&hellip;</td><td>&hellip;</td><td>&hellip;</td><td>&hellip;</td><td>&hellip;</td><td>&hellip;</td><td>&hellip;</td></tr><tr><td>&quot;244cab0674d7&quot;</td><td>&quot;DSA+_Typ2_GL2_…</td><td>6165</td><td>&quot;06165-01-B02&quot;</td><td>&quot;Außenbahnsteig…</td><td>&quot;Teltow&quot;</td><td>&quot;BTL&quot;</td><td>&quot;Potsdam&quot;</td><td>&quot;Ost&quot;</td><td>&quot;Brandenburg&quot;</td><td>13.300441</td><td>52.388282</td><td>&quot;Zubringerbahnh…</td><td>&quot;Regionaler Zub…</td></tr><tr><td>&quot;244cab06374b&quot;</td><td>&quot;DSA+_Typ2_GL2_…</td><td>6254</td><td>&quot;06254-01-B02&quot;</td><td>&quot;Außenbahnsteig…</td><td>&quot;Treuenbrietzen…</td><td>&quot;BTZN&quot;</td><td>&quot;Potsdam&quot;</td><td>&quot;Ost&quot;</td><td>&quot;Brandenburg&quot;</td><td>12.857911</td><td>52.091919</td><td>&quot;Zubringerbahnh…</td><td>&quot;ländlicher Zub…</td></tr><tr><td>&quot;244cab04a31b&quot;</td><td>&quot;DSA+_Typ2_GL1_…</td><td>6254</td><td>&quot;06254-01-B01&quot;</td><td>&quot;Außenbahnsteig…</td><td>&quot;Treuenbrietzen…</td><td>&quot;BTZN&quot;</td><td>&quot;Potsdam&quot;</td><td>&quot;Ost&quot;</td><td>&quot;Brandenburg&quot;</td><td>12.857911</td><td>52.091919</td><td>&quot;Zubringerbahnh…</td><td>&quot;ländlicher Zub…</td></tr><tr><td>&quot;a0a3b32f9987&quot;</td><td>&quot;DSA+_Typ2_GL1_…</td><td>6519</td><td>&quot;06519-01-B01&quot;</td><td>&quot;Bahnsteig 1&quot;</td><td>&quot;Walsleben&quot;</td><td>&quot;WWL&quot;</td><td>&quot;Potsdam&quot;</td><td>&quot;Ost&quot;</td><td>&quot;Brandenburg&quot;</td><td>12.679027</td><td>52.947039</td><td>&quot;Zubringerbahnh…</td><td>&quot;ländlicher Zub…</td></tr><tr><td>&quot;a0a3b38c6c17&quot;</td><td>&quot;DSA+_Typ2_GL1_…</td><td>6773</td><td>&quot;06773-01-B02&quot;</td><td>&quot;Bahnsteig Gl.1…</td><td>&quot;Wilhelmshorst&quot;</td><td>&quot;BWHO&quot;</td><td>&quot;Potsdam&quot;</td><td>&quot;Ost&quot;</td><td>&quot;Brandenburg&quot;</td><td>13.067447</td><td>52.331486</td><td>&quot;Zubringerbahnh…</td><td>&quot;Regionaler Zub…</td></tr><tr><td>&quot;a0a3b330e89f&quot;</td><td>&quot;DSA+_Typ2_GL4_…</td><td>6773</td><td>&quot;06773-01-B01&quot;</td><td>&quot;Bahnsteig Gl.4…</td><td>&quot;Wilhelmshorst&quot;</td><td>&quot;BWHO&quot;</td><td>&quot;Potsdam&quot;</td><td>&quot;Ost&quot;</td><td>&quot;Brandenburg&quot;</td><td>13.067447</td><td>52.331486</td><td>&quot;Zubringerbahnh…</td><td>&quot;Regionaler Zub…</td></tr><tr><td>&quot;a0a3b38c6b3f&quot;</td><td>&quot;DSA+_Typ2_GL1_…</td><td>6783</td><td>&quot;06783-01-B01&quot;</td><td>&quot;Bahnsteig 1 Ri…</td><td>&quot;Wilmersdorf (b…</td><td>&quot;WWLD&quot;</td><td>&quot;Potsdam&quot;</td><td>&quot;Ost&quot;</td><td>&quot;Brandenburg&quot;</td><td>13.892457</td><td>53.111628</td><td>&quot;Zubringerbahnh…</td><td>&quot;ländlicher Zub…</td></tr><tr><td>&quot;a0a3b38c6b77&quot;</td><td>&quot;DSA+_Typ2_GL2_…</td><td>6783</td><td>&quot;06783-01-B02&quot;</td><td>&quot;Bahnsteig 2 Ri…</td><td>&quot;Wilmersdorf (b…</td><td>&quot;WWLD&quot;</td><td>&quot;Potsdam&quot;</td><td>&quot;Ost&quot;</td><td>&quot;Brandenburg&quot;</td><td>13.892457</td><td>53.111628</td><td>&quot;Zubringerbahnh…</td><td>&quot;ländlicher Zub…</td></tr><tr><td>&quot;a0a3b330ca43&quot;</td><td>&quot;DSA_Typ3_GL1_W…</td><td>6837</td><td>&quot;06837-01-B01&quot;</td><td>&quot;Bahnsteig 1&quot;</td><td>&quot;Wittstock (Dos…</td><td>&quot;WWK&quot;</td><td>&quot;Potsdam&quot;</td><td>&quot;Ost&quot;</td><td>&quot;Brandenburg&quot;</td><td>12.478911</td><td>53.160621</td><td>&quot;Zubringerbahnh…</td><td>&quot;Regionaler Zub…</td></tr><tr><td>&quot;a0a3b38c5127&quot;</td><td>&quot;DSA_Typ3_GL2_W…</td><td>6837</td><td>&quot;06837-01-B02&quot;</td><td>&quot;Bahnsteig 2&quot;</td><td>&quot;Wittstock (Dos…</td><td>&quot;WWK&quot;</td><td>&quot;Potsdam&quot;</td><td>&quot;Ost&quot;</td><td>&quot;Brandenburg&quot;</td><td>12.478911</td><td>53.160621</td><td>&quot;Zubringerbahnh…</td><td>&quot;Regionaler Zub…</td></tr><tr><td>&quot;a0a3b38c5117&quot;</td><td>&quot;DSA+ Typ2 LWUZ…</td><td>6960</td><td>&quot;06960-01-B02&quot;</td><td>&quot;Bahnsteig Ri. …</td><td>&quot;Wusterwitz&quot;</td><td>&quot;LWUZ&quot;</td><td>&quot;Potsdam&quot;</td><td>&quot;Ost&quot;</td><td>&quot;Brandenburg&quot;</td><td>12.37425</td><td>52.385112</td><td>&quot;Zubringerbahnh…</td><td>&quot;Regionaler Zub…</td></tr><tr><td>&quot;a0a3b32f851f&quot;</td><td>&quot;DSA+ Typ2 LWUZ…</td><td>6960</td><td>&quot;06960-01-B01&quot;</td><td>&quot;Bahnsteig Ri. …</td><td>&quot;Wusterwitz&quot;</td><td>&quot;LWUZ&quot;</td><td>&quot;Potsdam&quot;</td><td>&quot;Ost&quot;</td><td>&quot;Brandenburg&quot;</td><td>12.37425</td><td>52.385112</td><td>&quot;Zubringerbahnh…</td><td>&quot;Regionaler Zub…</td></tr></tbody></table></div>"
      ],
      "text/plain": [
       "shape: (296, 14)\n",
       "┌───────────┬───────────┬───────────┬───────────┬───┬───────────┬───────────┬───────────┬──────────┐\n",
       "│ pax_count ┆ equipment ┆ station_i ┆ tplnr     ┆ … ┆ station_l ┆ station_l ┆ produktli ┆ unterseg │\n",
       "│ er_id     ┆ name      ┆ d         ┆ ---       ┆   ┆ ongitude  ┆ atitude   ┆ nie       ┆ ment     │\n",
       "│ ---       ┆ ---       ┆ ---       ┆ str       ┆   ┆ ---       ┆ ---       ┆ ---       ┆ ---      │\n",
       "│ str       ┆ str       ┆ i64       ┆           ┆   ┆ f64       ┆ f64       ┆ str       ┆ str      │\n",
       "╞═══════════╪═══════════╪═══════════╪═══════════╪═══╪═══════════╪═══════════╪═══════════╪══════════╡\n",
       "│ a0a3b3311 ┆ DSA+      ┆ 128       ┆ 00128-01- ┆ … ┆ 14.082107 ┆ 52.763368 ┆ Zubringer ┆ ländlich │\n",
       "│ 5cf       ┆ Gleis 1   ┆           ┆ B01       ┆   ┆           ┆           ┆ bahnhof   ┆ er Zubri │\n",
       "│           ┆           ┆           ┆           ┆   ┆           ┆           ┆           ┆ nger     │\n",
       "│ a0a3b32f9 ┆ DSA+_Typ2 ┆ 276       ┆ 00276-01- ┆ … ┆ 14.035751 ┆ 52.789933 ┆ Zubringer ┆ ländlich │\n",
       "│ a73       ┆ _GL1b_WFW ┆           ┆ B03       ┆   ┆           ┆           ┆ bahnhof   ┆ er Zubri │\n",
       "│           ┆ 1         ┆           ┆           ┆   ┆           ┆           ┆           ┆ nger     │\n",
       "│ a0a3b32f3 ┆ DSA+_Typ2 ┆ 276       ┆ 00276-01- ┆ … ┆ 14.035751 ┆ 52.789933 ┆ Zubringer ┆ ländlich │\n",
       "│ 067       ┆ _GL1a_WFW ┆           ┆ B01       ┆   ┆           ┆           ┆ bahnhof   ┆ er Zubri │\n",
       "│           ┆ 1         ┆           ┆           ┆   ┆           ┆           ┆           ┆ nger     │\n",
       "│ 7c9ebd301 ┆ DSA+ Typ2 ┆ 324       ┆ 00324-01- ┆ … ┆ 14.064929 ┆ 52.293253 ┆ Zubringer ┆ ländlich │\n",
       "│ a6f       ┆ Bahnsteig ┆           ┆ B01       ┆   ┆           ┆           ┆ bahnhof   ┆ er Zubri │\n",
       "│           ┆ 1         ┆           ┆           ┆   ┆           ┆           ┆           ┆ nger     │\n",
       "│ …         ┆ …         ┆ …         ┆ …         ┆ … ┆ …         ┆ …         ┆ …         ┆ …        │\n",
       "│ a0a3b330c ┆ DSA_Typ3_ ┆ 6837      ┆ 06837-01- ┆ … ┆ 12.478911 ┆ 53.160621 ┆ Zubringer ┆ Regional │\n",
       "│ a43       ┆ GL1_WWK1  ┆           ┆ B01       ┆   ┆           ┆           ┆ bahnhof   ┆ er Zubri │\n",
       "│           ┆           ┆           ┆           ┆   ┆           ┆           ┆           ┆ nger     │\n",
       "│ a0a3b38c5 ┆ DSA_Typ3_ ┆ 6837      ┆ 06837-01- ┆ … ┆ 12.478911 ┆ 53.160621 ┆ Zubringer ┆ Regional │\n",
       "│ 127       ┆ GL2_WWK2  ┆           ┆ B02       ┆   ┆           ┆           ┆ bahnhof   ┆ er Zubri │\n",
       "│           ┆           ┆           ┆           ┆   ┆           ┆           ┆           ┆ nger     │\n",
       "│ a0a3b38c5 ┆ DSA+ Typ2 ┆ 6960      ┆ 06960-01- ┆ … ┆ 12.37425  ┆ 52.385112 ┆ Zubringer ┆ Regional │\n",
       "│ 117       ┆ LWUZ-2    ┆           ┆ B02       ┆   ┆           ┆           ┆ bahnhof   ┆ er Zubri │\n",
       "│           ┆ Bstg.2    ┆           ┆           ┆   ┆           ┆           ┆           ┆ nger     │\n",
       "│ a0a3b32f8 ┆ DSA+ Typ2 ┆ 6960      ┆ 06960-01- ┆ … ┆ 12.37425  ┆ 52.385112 ┆ Zubringer ┆ Regional │\n",
       "│ 51f       ┆ LWUZ-1    ┆           ┆ B01       ┆   ┆           ┆           ┆ bahnhof   ┆ er Zubri │\n",
       "│           ┆ Bstg.1    ┆           ┆           ┆   ┆           ┆           ┆           ┆ nger     │\n",
       "└───────────┴───────────┴───────────┴───────────┴───┴───────────┴───────────┴───────────┴──────────┘"
      ]
     },
     "execution_count": 6,
     "metadata": {},
     "output_type": "execute_result"
    }
   ],
   "source": [
    "df_md.select(\n",
    "    pl.col(\"station_name\").alias(\"name\"),\n",
    "    pl.col(\"station_longitude\").alias,\n",
    "    pl.col(\"station_latitude\")\n",
    ").with_columns(\n",
    "    pl.lit(np.random.rand(df.height)).alias(\"prob\")\n",
    ")"
   ]
  }
 ],
 "metadata": {
  "kernelspec": {
   "display_name": "Python 3",
   "language": "python",
   "name": "python3"
  },
  "language_info": {
   "codemirror_mode": {
    "name": "ipython",
    "version": 3
   },
   "file_extension": ".py",
   "mimetype": "text/x-python",
   "name": "python",
   "nbconvert_exporter": "python",
   "pygments_lexer": "ipython3",
   "version": "3.11.3"
  }
 },
 "nbformat": 4,
 "nbformat_minor": 5
}
