{
 "cells": [
  {
   "cell_type": "code",
   "execution_count": 1,
   "id": "db333b1c",
   "metadata": {},
   "outputs": [],
   "source": [
    "import polars as pl\n",
    "import datetime as dt\n",
    "import seaborn as sns"
   ]
  },
  {
   "cell_type": "code",
   "execution_count": 2,
   "id": "47baa0a3",
   "metadata": {},
   "outputs": [],
   "source": [
    "pth_data = f\"C:/Users/z187070/Documents/Projects/PAXCOUNTER/data/\""
   ]
  },
  {
   "cell_type": "code",
   "execution_count": 3,
   "id": "e4ad02b7",
   "metadata": {},
   "outputs": [],
   "source": [
    "region_name = \"Ost\"\n",
    "mngmt_name = \"Mecklenburg-Vorpommern\"\n",
    "mngmt_filter = \"Mecklenburg-Vorpommern\""
   ]
  },
  {
   "cell_type": "code",
   "execution_count": 4,
   "id": "6d73c801",
   "metadata": {},
   "outputs": [],
   "source": [
    "#pth_master = pth_data + f\"master/master/{region_name}/master_data/master_data.csv\"\n",
    "pth_ris = pth_data + f\"ris/ris/{region_name}/{mngmt_name}/ris_data/ris_data.csv\"\n",
    "pth_ris_extra = pth_data + f\"{mngmt_name}/ris_data/ris_data.csv\"\n",
    "pth_pax = pth_data + f\"pax_data_{region_name}_{mngmt_name}.parquet\""
   ]
  },
  {
   "cell_type": "markdown",
   "id": "253fa590",
   "metadata": {},
   "source": [
    "## read data from ris"
   ]
  },
  {
   "cell_type": "code",
   "execution_count": 5,
   "id": "052c80b0",
   "metadata": {},
   "outputs": [],
   "source": [
    "ris = pl.read_csv(pth_ris, has_header=True, separator=\";\")\n",
    "ris_extra = pl.read_csv(pth_ris_extra, has_header = True, separator=\";\")\n",
    "ris = pl.concat([ris, ris_extra])"
   ]
  },
  {
   "cell_type": "code",
   "execution_count": 6,
   "id": "2265f979",
   "metadata": {},
   "outputs": [
    {
     "data": {
      "text/html": [
       "<div><style>\n",
       ".dataframe > thead > tr,\n",
       ".dataframe > tbody > tr {\n",
       "  text-align: right;\n",
       "  white-space: pre-wrap;\n",
       "}\n",
       "</style>\n",
       "<small>shape: (4, 1)</small><table border=\"1\" class=\"dataframe\"><thead><tr><th>case</th></tr><tr><td>str</td></tr></thead><tbody><tr><td>&quot;endbahnhof&quot;</td></tr><tr><td>&quot;ankunft&quot;</td></tr><tr><td>&quot;abfahrt&quot;</td></tr><tr><td>&quot;startbahnhof&quot;</td></tr></tbody></table></div>"
      ],
      "text/plain": [
       "shape: (4, 1)\n",
       "┌──────────────┐\n",
       "│ case         │\n",
       "│ ---          │\n",
       "│ str          │\n",
       "╞══════════════╡\n",
       "│ endbahnhof   │\n",
       "│ ankunft      │\n",
       "│ abfahrt      │\n",
       "│ startbahnhof │\n",
       "└──────────────┘"
      ]
     },
     "execution_count": 6,
     "metadata": {},
     "output_type": "execute_result"
    }
   ],
   "source": [
    "ris.select(pl.col(\"case\").unique())"
   ]
  },
  {
   "cell_type": "code",
   "execution_count": 7,
   "id": "f58ff0f2",
   "metadata": {},
   "outputs": [
    {
     "data": {
      "text/html": [
       "<div><style>\n",
       ".dataframe > thead > tr,\n",
       ".dataframe > tbody > tr {\n",
       "  text-align: right;\n",
       "  white-space: pre-wrap;\n",
       "}\n",
       "</style>\n",
       "<small>shape: (2, 8)</small><table border=\"1\" class=\"dataframe\"><thead><tr><th>fahrtid</th><th>ereignis_station_id</th><th>zeit_echt</th><th>zeit_echt_verspaetung</th><th>gleis_echt</th><th>tpname_bahnsteig_echt</th><th>gattung</th><th>case</th></tr><tr><td>str</td><td>i64</td><td>str</td><td>i64</td><td>str</td><td>str</td><td>str</td><td>str</td></tr></thead><tbody><tr><td>&quot;20241130-6c7c3…</td><td>2468</td><td>&quot;2024-12-01 00:…</td><td>4</td><td>&quot;02468-01-B02-G…</td><td>&quot;Bahnsteig 02&quot;</td><td>&quot;RE&quot;</td><td>&quot;ankunft&quot;</td></tr><tr><td>&quot;20241130-6c7c3…</td><td>2468</td><td>&quot;2024-12-01 00:…</td><td>5</td><td>&quot;02468-01-B02-G…</td><td>&quot;Bahnsteig 02&quot;</td><td>&quot;RE&quot;</td><td>&quot;abfahrt&quot;</td></tr></tbody></table></div>"
      ],
      "text/plain": [
       "shape: (2, 8)\n",
       "┌─────────────┬────────────┬────────────┬────────────┬────────────┬────────────┬─────────┬─────────┐\n",
       "│ fahrtid     ┆ ereignis_s ┆ zeit_echt  ┆ zeit_echt_ ┆ gleis_echt ┆ tpname_bah ┆ gattung ┆ case    │\n",
       "│ ---         ┆ tation_id  ┆ ---        ┆ verspaetun ┆ ---        ┆ nsteig_ech ┆ ---     ┆ ---     │\n",
       "│ str         ┆ ---        ┆ str        ┆ g          ┆ str        ┆ t          ┆ str     ┆ str     │\n",
       "│             ┆ i64        ┆            ┆ ---        ┆            ┆ ---        ┆         ┆         │\n",
       "│             ┆            ┆            ┆ i64        ┆            ┆ str        ┆         ┆         │\n",
       "╞═════════════╪════════════╪════════════╪════════════╪════════════╪════════════╪═════════╪═════════╡\n",
       "│ 20241130-6c ┆ 2468       ┆ 2024-12-01 ┆ 4          ┆ 02468-01-B ┆ Bahnsteig  ┆ RE      ┆ ankunft │\n",
       "│ 7c332f-4123 ┆            ┆ 00:03:14   ┆            ┆ 02-G02     ┆ 02         ┆         ┆         │\n",
       "│ -3241-8638… ┆            ┆            ┆            ┆            ┆            ┆         ┆         │\n",
       "│ 20241130-6c ┆ 2468       ┆ 2024-12-01 ┆ 5          ┆ 02468-01-B ┆ Bahnsteig  ┆ RE      ┆ abfahrt │\n",
       "│ 7c332f-4123 ┆            ┆ 00:04:21   ┆            ┆ 02-G02     ┆ 02         ┆         ┆         │\n",
       "│ -3241-8638… ┆            ┆            ┆            ┆            ┆            ┆         ┆         │\n",
       "└─────────────┴────────────┴────────────┴────────────┴────────────┴────────────┴─────────┴─────────┘"
      ]
     },
     "execution_count": 7,
     "metadata": {},
     "output_type": "execute_result"
    }
   ],
   "source": [
    "ris.head(2)"
   ]
  },
  {
   "cell_type": "code",
   "execution_count": 8,
   "id": "11256073",
   "metadata": {},
   "outputs": [
    {
     "data": {
      "text/plain": [
       "['2024-12-01 00:03:14', '2024-12-01 00:04:21']"
      ]
     },
     "execution_count": 8,
     "metadata": {},
     "output_type": "execute_result"
    }
   ],
   "source": [
    "ris.head(2).select(\"zeit_echt\").to_series().to_list()"
   ]
  },
  {
   "cell_type": "code",
   "execution_count": 9,
   "id": "6529575d",
   "metadata": {},
   "outputs": [],
   "source": [
    "data_filter_date = dt.datetime(2025, 4, 1)"
   ]
  },
  {
   "cell_type": "code",
   "execution_count": 10,
   "id": "23af005a",
   "metadata": {},
   "outputs": [],
   "source": [
    "base_data = ris.select(\n",
    "    pl.col(\"fahrtid\"), \n",
    "    pl.col(\"ereignis_station_id\"),\n",
    "    pl.col(\"zeit_echt\").str.to_datetime(), \n",
    "    pl.col(\"case\")\n",
    ").filter(\n",
    "    pl.col(\"zeit_echt\") >= data_filter_date\n",
    ")"
   ]
  },
  {
   "cell_type": "code",
   "execution_count": 11,
   "id": "9892f2cb",
   "metadata": {},
   "outputs": [
    {
     "data": {
      "text/html": [
       "<div><style>\n",
       ".dataframe > thead > tr,\n",
       ".dataframe > tbody > tr {\n",
       "  text-align: right;\n",
       "  white-space: pre-wrap;\n",
       "}\n",
       "</style>\n",
       "<small>shape: (1, 1)</small><table border=\"1\" class=\"dataframe\"><thead><tr><th>count</th></tr><tr><td>u32</td></tr></thead><tbody><tr><td>270597</td></tr></tbody></table></div>"
      ],
      "text/plain": [
       "shape: (1, 1)\n",
       "┌────────┐\n",
       "│ count  │\n",
       "│ ---    │\n",
       "│ u32    │\n",
       "╞════════╡\n",
       "│ 270597 │\n",
       "└────────┘"
      ]
     },
     "execution_count": 11,
     "metadata": {},
     "output_type": "execute_result"
    }
   ],
   "source": [
    "base_data.select(pl.count())"
   ]
  },
  {
   "cell_type": "code",
   "execution_count": 12,
   "id": "a31fcfc6",
   "metadata": {},
   "outputs": [
    {
     "data": {
      "text/html": [
       "<div><style>\n",
       ".dataframe > thead > tr,\n",
       ".dataframe > tbody > tr {\n",
       "  text-align: right;\n",
       "  white-space: pre-wrap;\n",
       "}\n",
       "</style>\n",
       "<small>shape: (5, 4)</small><table border=\"1\" class=\"dataframe\"><thead><tr><th>fahrtid</th><th>ereignis_station_id</th><th>zeit_echt</th><th>case</th></tr><tr><td>str</td><td>i64</td><td>datetime[μs]</td><td>str</td></tr></thead><tbody><tr><td>&quot;20250331-f653a…</td><td>3830</td><td>2025-04-01 00:01:26</td><td>&quot;ankunft&quot;</td></tr><tr><td>&quot;20250331-086e5…</td><td>3559</td><td>2025-04-01 00:03:15</td><td>&quot;ankunft&quot;</td></tr><tr><td>&quot;20250331-086e5…</td><td>3559</td><td>2025-04-01 00:03:15</td><td>&quot;abfahrt&quot;</td></tr><tr><td>&quot;20250331-ff899…</td><td>2468</td><td>2025-04-01 00:03:38</td><td>&quot;ankunft&quot;</td></tr><tr><td>&quot;20250401-ebd72…</td><td>6050</td><td>2025-04-01 00:04:12</td><td>&quot;ankunft&quot;</td></tr></tbody></table></div>"
      ],
      "text/plain": [
       "shape: (5, 4)\n",
       "┌───────────────────────────────────┬─────────────────────┬─────────────────────┬─────────┐\n",
       "│ fahrtid                           ┆ ereignis_station_id ┆ zeit_echt           ┆ case    │\n",
       "│ ---                               ┆ ---                 ┆ ---                 ┆ ---     │\n",
       "│ str                               ┆ i64                 ┆ datetime[μs]        ┆ str     │\n",
       "╞═══════════════════════════════════╪═════════════════════╪═════════════════════╪═════════╡\n",
       "│ 20250331-f653a240-d4ff-32f6-9759… ┆ 3830                ┆ 2025-04-01 00:01:26 ┆ ankunft │\n",
       "│ 20250331-086e5a85-3fa6-338f-affc… ┆ 3559                ┆ 2025-04-01 00:03:15 ┆ ankunft │\n",
       "│ 20250331-086e5a85-3fa6-338f-affc… ┆ 3559                ┆ 2025-04-01 00:03:15 ┆ abfahrt │\n",
       "│ 20250331-ff899981-92b9-3d82-9d06… ┆ 2468                ┆ 2025-04-01 00:03:38 ┆ ankunft │\n",
       "│ 20250401-ebd72dea-f30f-3725-a9de… ┆ 6050                ┆ 2025-04-01 00:04:12 ┆ ankunft │\n",
       "└───────────────────────────────────┴─────────────────────┴─────────────────────┴─────────┘"
      ]
     },
     "execution_count": 12,
     "metadata": {},
     "output_type": "execute_result"
    }
   ],
   "source": [
    "base_data.head()"
   ]
  },
  {
   "cell_type": "code",
   "execution_count": 13,
   "id": "4b4ed789",
   "metadata": {},
   "outputs": [
    {
     "data": {
      "text/html": [
       "<div><style>\n",
       ".dataframe > thead > tr,\n",
       ".dataframe > tbody > tr {\n",
       "  text-align: right;\n",
       "  white-space: pre-wrap;\n",
       "}\n",
       "</style>\n",
       "<small>shape: (0, 3)</small><table border=\"1\" class=\"dataframe\"><thead><tr><th>fahrtid</th><th>ereignis_station_id</th><th>count</th></tr><tr><td>str</td><td>i64</td><td>u32</td></tr></thead><tbody></tbody></table></div>"
      ],
      "text/plain": [
       "shape: (0, 3)\n",
       "┌─────────┬─────────────────────┬───────┐\n",
       "│ fahrtid ┆ ereignis_station_id ┆ count │\n",
       "│ ---     ┆ ---                 ┆ ---   │\n",
       "│ str     ┆ i64                 ┆ u32   │\n",
       "╞═════════╪═════════════════════╪═══════╡\n",
       "└─────────┴─────────────────────┴───────┘"
      ]
     },
     "execution_count": 13,
     "metadata": {},
     "output_type": "execute_result"
    }
   ],
   "source": [
    "base_data.group_by([\"fahrtid\", \"ereignis_station_id\"]).agg(pl.count()).filter(pl.col(\"count\") > 2).head()"
   ]
  },
  {
   "cell_type": "markdown",
   "id": "4ba4185e",
   "metadata": {},
   "source": [
    "checking data quality - some arrival/departure combinations are doubles (4 rows instead of 2) - there is no 3 and no more than 4, the time seems to be the same in all cases, i will just take one of these values\n",
    "\n",
    "this is not the case for data later than 01.05.2025??"
   ]
  },
  {
   "cell_type": "code",
   "execution_count": 14,
   "id": "f66a0da1",
   "metadata": {},
   "outputs": [
    {
     "data": {
      "text/plain": [
       "[]"
      ]
     },
     "execution_count": 14,
     "metadata": {},
     "output_type": "execute_result"
    }
   ],
   "source": [
    "base_data.group_by([\"fahrtid\", \"ereignis_station_id\"]).agg(pl.count()).filter(pl.col(\"count\") > 4).head(2).select(\"fahrtid\").to_series().to_list()"
   ]
  },
  {
   "cell_type": "code",
   "execution_count": 15,
   "id": "88187bf5",
   "metadata": {},
   "outputs": [
    {
     "data": {
      "text/html": [
       "<div><style>\n",
       ".dataframe > thead > tr,\n",
       ".dataframe > tbody > tr {\n",
       "  text-align: right;\n",
       "  white-space: pre-wrap;\n",
       "}\n",
       "</style>\n",
       "<small>shape: (0, 4)</small><table border=\"1\" class=\"dataframe\"><thead><tr><th>fahrtid</th><th>ereignis_station_id</th><th>zeit_echt</th><th>case</th></tr><tr><td>str</td><td>i64</td><td>datetime[μs]</td><td>str</td></tr></thead><tbody></tbody></table></div>"
      ],
      "text/plain": [
       "shape: (0, 4)\n",
       "┌─────────┬─────────────────────┬──────────────┬──────┐\n",
       "│ fahrtid ┆ ereignis_station_id ┆ zeit_echt    ┆ case │\n",
       "│ ---     ┆ ---                 ┆ ---          ┆ ---  │\n",
       "│ str     ┆ i64                 ┆ datetime[μs] ┆ str  │\n",
       "╞═════════╪═════════════════════╪══════════════╪══════╡\n",
       "└─────────┴─────────────────────┴──────────────┴──────┘"
      ]
     },
     "execution_count": 15,
     "metadata": {},
     "output_type": "execute_result"
    }
   ],
   "source": [
    "base_data.filter(pl.col(\"fahrtid\") == '20250325-353a3053-1386-374c-83d3-c200e93212cb')"
   ]
  },
  {
   "cell_type": "code",
   "execution_count": 16,
   "id": "58eb90b3",
   "metadata": {},
   "outputs": [],
   "source": [
    "time_info = base_data.filter(pl.col(\"case\").is_in([\"abfahrt\", \"ankunft\"])).\\\n",
    "pivot(columns = \"case\", index = [\"fahrtid\", \"ereignis_station_id\"], values = \"zeit_echt\", aggregate_function=\"min\").\\\n",
    "with_columns(\n",
    "    (pl.col(\"abfahrt\")-pl.col(\"ankunft\")).alias(\"time_diff\")\n",
    ")"
   ]
  },
  {
   "cell_type": "code",
   "execution_count": 17,
   "id": "7fbfa3fc",
   "metadata": {},
   "outputs": [
    {
     "data": {
      "text/html": [
       "<div><style>\n",
       ".dataframe > thead > tr,\n",
       ".dataframe > tbody > tr {\n",
       "  text-align: right;\n",
       "  white-space: pre-wrap;\n",
       "}\n",
       "</style>\n",
       "<small>shape: (5, 5)</small><table border=\"1\" class=\"dataframe\"><thead><tr><th>fahrtid</th><th>ereignis_station_id</th><th>ankunft</th><th>abfahrt</th><th>time_diff</th></tr><tr><td>str</td><td>i64</td><td>datetime[μs]</td><td>datetime[μs]</td><td>duration[μs]</td></tr></thead><tbody><tr><td>&quot;20250331-f653a…</td><td>3830</td><td>2025-04-01 00:01:26</td><td>null</td><td>null</td></tr><tr><td>&quot;20250331-086e5…</td><td>3559</td><td>2025-04-01 00:03:15</td><td>2025-04-01 00:03:15</td><td>0µs</td></tr><tr><td>&quot;20250331-ff899…</td><td>2468</td><td>2025-04-01 00:03:38</td><td>2025-04-01 00:04:35</td><td>57s</td></tr><tr><td>&quot;20250401-ebd72…</td><td>6050</td><td>2025-04-01 00:04:12</td><td>2025-04-01 00:05:10</td><td>58s</td></tr><tr><td>&quot;20250331-9b2fd…</td><td>5127</td><td>2025-04-01 00:04:31</td><td>2025-04-01 00:04:44</td><td>13s</td></tr></tbody></table></div>"
      ],
      "text/plain": [
       "shape: (5, 5)\n",
       "┌──────────────────────┬──────────────────────┬──────────────┬──────────────────────┬──────────────┐\n",
       "│ fahrtid              ┆ ereignis_station_id  ┆ ankunft      ┆ abfahrt              ┆ time_diff    │\n",
       "│ ---                  ┆ ---                  ┆ ---          ┆ ---                  ┆ ---          │\n",
       "│ str                  ┆ i64                  ┆ datetime[μs] ┆ datetime[μs]         ┆ duration[μs] │\n",
       "╞══════════════════════╪══════════════════════╪══════════════╪══════════════════════╪══════════════╡\n",
       "│ 20250331-f653a240-d4 ┆ 3830                 ┆ 2025-04-01   ┆ null                 ┆ null         │\n",
       "│ ff-32f6-9759…        ┆                      ┆ 00:01:26     ┆                      ┆              │\n",
       "│ 20250331-086e5a85-3f ┆ 3559                 ┆ 2025-04-01   ┆ 2025-04-01 00:03:15  ┆ 0µs          │\n",
       "│ a6-338f-affc…        ┆                      ┆ 00:03:15     ┆                      ┆              │\n",
       "│ 20250331-ff899981-92 ┆ 2468                 ┆ 2025-04-01   ┆ 2025-04-01 00:04:35  ┆ 57s          │\n",
       "│ b9-3d82-9d06…        ┆                      ┆ 00:03:38     ┆                      ┆              │\n",
       "│ 20250401-ebd72dea-f3 ┆ 6050                 ┆ 2025-04-01   ┆ 2025-04-01 00:05:10  ┆ 58s          │\n",
       "│ 0f-3725-a9de…        ┆                      ┆ 00:04:12     ┆                      ┆              │\n",
       "│ 20250331-9b2fdb57-99 ┆ 5127                 ┆ 2025-04-01   ┆ 2025-04-01 00:04:44  ┆ 13s          │\n",
       "│ 09-3d79-92f2…        ┆                      ┆ 00:04:31     ┆                      ┆              │\n",
       "└──────────────────────┴──────────────────────┴──────────────┴──────────────────────┴──────────────┘"
      ]
     },
     "execution_count": 17,
     "metadata": {},
     "output_type": "execute_result"
    }
   ],
   "source": [
    "time_info.head()"
   ]
  },
  {
   "cell_type": "markdown",
   "id": "5fe7c8ab",
   "metadata": {},
   "source": [
    "## creating the table"
   ]
  },
  {
   "cell_type": "code",
   "execution_count": 18,
   "id": "f0e2680f",
   "metadata": {},
   "outputs": [],
   "source": [
    "minutes_before_ankunft = 10\n",
    "minutes_after_ankunft = 5"
   ]
  },
  {
   "cell_type": "code",
   "execution_count": 19,
   "id": "28b67186",
   "metadata": {},
   "outputs": [
    {
     "data": {
      "text/html": [
       "<div><style>\n",
       ".dataframe > thead > tr,\n",
       ".dataframe > tbody > tr {\n",
       "  text-align: right;\n",
       "  white-space: pre-wrap;\n",
       "}\n",
       "</style>\n",
       "<small>shape: (5, 6)</small><table border=\"1\" class=\"dataframe\"><thead><tr><th>fahrtid</th><th>ereignis_station_id</th><th>ankunft</th><th>begin_tw</th><th>end_tw</th><th>date</th></tr><tr><td>str</td><td>i64</td><td>datetime[μs]</td><td>datetime[μs]</td><td>datetime[μs]</td><td>date</td></tr></thead><tbody><tr><td>&quot;20250331-f653a…</td><td>3830</td><td>2025-04-01 00:01:26</td><td>2025-03-31 23:51:26</td><td>2025-04-01 00:06:26</td><td>2025-04-01</td></tr><tr><td>&quot;20250331-086e5…</td><td>3559</td><td>2025-04-01 00:03:15</td><td>2025-03-31 23:53:15</td><td>2025-04-01 00:08:15</td><td>2025-04-01</td></tr><tr><td>&quot;20250331-ff899…</td><td>2468</td><td>2025-04-01 00:03:38</td><td>2025-03-31 23:53:38</td><td>2025-04-01 00:08:38</td><td>2025-04-01</td></tr><tr><td>&quot;20250401-ebd72…</td><td>6050</td><td>2025-04-01 00:04:12</td><td>2025-03-31 23:54:12</td><td>2025-04-01 00:09:12</td><td>2025-04-01</td></tr><tr><td>&quot;20250331-9b2fd…</td><td>5127</td><td>2025-04-01 00:04:31</td><td>2025-03-31 23:54:31</td><td>2025-04-01 00:09:31</td><td>2025-04-01</td></tr></tbody></table></div>"
      ],
      "text/plain": [
       "shape: (5, 6)\n",
       "┌─────────────────┬────────────────┬────────────────┬────────────────┬────────────────┬────────────┐\n",
       "│ fahrtid         ┆ ereignis_stati ┆ ankunft        ┆ begin_tw       ┆ end_tw         ┆ date       │\n",
       "│ ---             ┆ on_id          ┆ ---            ┆ ---            ┆ ---            ┆ ---        │\n",
       "│ str             ┆ ---            ┆ datetime[μs]   ┆ datetime[μs]   ┆ datetime[μs]   ┆ date       │\n",
       "│                 ┆ i64            ┆                ┆                ┆                ┆            │\n",
       "╞═════════════════╪════════════════╪════════════════╪════════════════╪════════════════╪════════════╡\n",
       "│ 20250331-f653a2 ┆ 3830           ┆ 2025-04-01     ┆ 2025-03-31     ┆ 2025-04-01     ┆ 2025-04-01 │\n",
       "│ 40-d4ff-32f6-97 ┆                ┆ 00:01:26       ┆ 23:51:26       ┆ 00:06:26       ┆            │\n",
       "│ 59…             ┆                ┆                ┆                ┆                ┆            │\n",
       "│ 20250331-086e5a ┆ 3559           ┆ 2025-04-01     ┆ 2025-03-31     ┆ 2025-04-01     ┆ 2025-04-01 │\n",
       "│ 85-3fa6-338f-af ┆                ┆ 00:03:15       ┆ 23:53:15       ┆ 00:08:15       ┆            │\n",
       "│ fc…             ┆                ┆                ┆                ┆                ┆            │\n",
       "│ 20250331-ff8999 ┆ 2468           ┆ 2025-04-01     ┆ 2025-03-31     ┆ 2025-04-01     ┆ 2025-04-01 │\n",
       "│ 81-92b9-3d82-9d ┆                ┆ 00:03:38       ┆ 23:53:38       ┆ 00:08:38       ┆            │\n",
       "│ 06…             ┆                ┆                ┆                ┆                ┆            │\n",
       "│ 20250401-ebd72d ┆ 6050           ┆ 2025-04-01     ┆ 2025-03-31     ┆ 2025-04-01     ┆ 2025-04-01 │\n",
       "│ ea-f30f-3725-a9 ┆                ┆ 00:04:12       ┆ 23:54:12       ┆ 00:09:12       ┆            │\n",
       "│ de…             ┆                ┆                ┆                ┆                ┆            │\n",
       "│ 20250331-9b2fdb ┆ 5127           ┆ 2025-04-01     ┆ 2025-03-31     ┆ 2025-04-01     ┆ 2025-04-01 │\n",
       "│ 57-9909-3d79-92 ┆                ┆ 00:04:31       ┆ 23:54:31       ┆ 00:09:31       ┆            │\n",
       "│ f2…             ┆                ┆                ┆                ┆                ┆            │\n",
       "└─────────────────┴────────────────┴────────────────┴────────────────┴────────────────┴────────────┘"
      ]
     },
     "execution_count": 19,
     "metadata": {},
     "output_type": "execute_result"
    }
   ],
   "source": [
    "df_timematch = time_info.\\\n",
    "    filter(pl.col(\"ankunft\").is_not_null()).\\\n",
    "    select(\n",
    "        pl.col(\"fahrtid\"),\n",
    "        pl.col(\"ereignis_station_id\"),\n",
    "        pl.col(\"ankunft\"),\n",
    "        (pl.col(\"ankunft\") - dt.timedelta(minutes=minutes_before_ankunft)).alias(\"begin_tw\"),\n",
    "        (pl.col(\"ankunft\") + dt.timedelta(minutes=minutes_after_ankunft)).alias(\"end_tw\")\n",
    ").with_columns(\n",
    "    pl.col(\"ankunft\").dt.date().alias(\"date\")\n",
    ")\n",
    "df_timematch.head()"
   ]
  },
  {
   "cell_type": "code",
   "execution_count": 20,
   "id": "3571d95b",
   "metadata": {},
   "outputs": [
    {
     "data": {
      "text/html": [
       "<div><style>\n",
       ".dataframe > thead > tr,\n",
       ".dataframe > tbody > tr {\n",
       "  text-align: right;\n",
       "  white-space: pre-wrap;\n",
       "}\n",
       "</style>\n",
       "<small>shape: (5, 5)</small><table border=\"1\" class=\"dataframe\"><thead><tr><th>pax_counter_id</th><th>time_iot</th><th>station_id</th><th>data_pax</th><th>date</th></tr><tr><td>str</td><td>datetime[μs]</td><td>i64</td><td>i64</td><td>date</td></tr></thead><tbody><tr><td>&quot;083af23fd0df&quot;</td><td>2025-04-01 00:00:20</td><td>719</td><td>0</td><td>2025-04-01</td></tr><tr><td>&quot;083af23fd0df&quot;</td><td>2025-04-01 00:01:20</td><td>719</td><td>0</td><td>2025-04-01</td></tr><tr><td>&quot;083af23fd0df&quot;</td><td>2025-04-01 00:02:20</td><td>719</td><td>0</td><td>2025-04-01</td></tr><tr><td>&quot;083af23fd0df&quot;</td><td>2025-04-01 00:03:20</td><td>719</td><td>0</td><td>2025-04-01</td></tr><tr><td>&quot;083af23fd0df&quot;</td><td>2025-04-01 00:04:20</td><td>719</td><td>0</td><td>2025-04-01</td></tr></tbody></table></div>"
      ],
      "text/plain": [
       "shape: (5, 5)\n",
       "┌────────────────┬─────────────────────┬────────────┬──────────┬────────────┐\n",
       "│ pax_counter_id ┆ time_iot            ┆ station_id ┆ data_pax ┆ date       │\n",
       "│ ---            ┆ ---                 ┆ ---        ┆ ---      ┆ ---        │\n",
       "│ str            ┆ datetime[μs]        ┆ i64        ┆ i64      ┆ date       │\n",
       "╞════════════════╪═════════════════════╪════════════╪══════════╪════════════╡\n",
       "│ 083af23fd0df   ┆ 2025-04-01 00:00:20 ┆ 719        ┆ 0        ┆ 2025-04-01 │\n",
       "│ 083af23fd0df   ┆ 2025-04-01 00:01:20 ┆ 719        ┆ 0        ┆ 2025-04-01 │\n",
       "│ 083af23fd0df   ┆ 2025-04-01 00:02:20 ┆ 719        ┆ 0        ┆ 2025-04-01 │\n",
       "│ 083af23fd0df   ┆ 2025-04-01 00:03:20 ┆ 719        ┆ 0        ┆ 2025-04-01 │\n",
       "│ 083af23fd0df   ┆ 2025-04-01 00:04:20 ┆ 719        ┆ 0        ┆ 2025-04-01 │\n",
       "└────────────────┴─────────────────────┴────────────┴──────────┴────────────┘"
      ]
     },
     "execution_count": 20,
     "metadata": {},
     "output_type": "execute_result"
    }
   ],
   "source": [
    "df_pax = pl.read_parquet(pth_pax).\\\n",
    "    select(\n",
    "        pl.col(\"pax_counter_id\"),\n",
    "        pl.col(\"time_iot\").str.to_datetime(), \n",
    "        pl.col(\"station_id\"),\n",
    "        pl.col(\"data_pax\")).\\\n",
    "    filter(\n",
    "        pl.col(\"time_iot\") >= data_filter_date,\n",
    "        \n",
    "    ).with_columns(\n",
    "        pl.col(\"time_iot\").dt.date().alias(\"date\")\n",
    "    )\n",
    "\n",
    "df_pax.head()"
   ]
  },
  {
   "cell_type": "code",
   "execution_count": 21,
   "id": "e6ea0f33",
   "metadata": {},
   "outputs": [
    {
     "data": {
      "text/plain": [
       "84"
      ]
     },
     "execution_count": 21,
     "metadata": {},
     "output_type": "execute_result"
    }
   ],
   "source": [
    "dates_to_process = df_timematch.select(pl.col(\"date\").unique()).to_series().to_list()\n",
    "len(dates_to_process)"
   ]
  },
  {
   "cell_type": "code",
   "execution_count": 22,
   "id": "b27f3842",
   "metadata": {},
   "outputs": [
    {
     "name": "stderr",
     "output_type": "stream",
     "text": [
      "C:\\Users\\z187070\\AppData\\Local\\Temp\\ipykernel_16148\\426990937.py:14: DeprecationWarning: in a future version, string input will be parsed as a column name rather than a string literal. To silence this warning, pass the input as an expression instead: `pl.lit('before')`\n",
      "  then(\"before\").\\\n",
      "C:\\Users\\z187070\\AppData\\Local\\Temp\\ipykernel_16148\\426990937.py:16: DeprecationWarning: in a future version, string input will be parsed as a column name rather than a string literal. To silence this warning, pass the input as an expression instead: `pl.lit('after')`\n",
      "  then(\"after\").\\\n",
      "C:\\Users\\z187070\\AppData\\Local\\Temp\\ipykernel_16148\\426990937.py:17: DeprecationWarning: in a future version, string input will be parsed as a column name rather than a string literal. To silence this warning, pass the input as an expression instead: `pl.lit('undefined')`\n",
      "  otherwise(\"undefined\")).alias(\"pax_status\")\n"
     ]
    }
   ],
   "source": [
    "for date in dates_to_process:\n",
    "    df_joined_date = df_timematch.filter(\n",
    "            pl.col(\"date\") == date\n",
    "        ).join(\n",
    "            df_pax.filter(pl.col(\"date\") == date),\n",
    "            left_on = \"ereignis_station_id\",\n",
    "            right_on = \"station_id\",\n",
    "            how = \"inner\"\n",
    "        ).filter(\n",
    "            (pl.col(\"time_iot\") >= pl.col(\"begin_tw\")),\n",
    "            (pl.col(\"time_iot\") <= pl.col(\"end_tw\"))\n",
    "        ).with_columns(\n",
    "            pl.when(pl.col(\"time_iot\") <= pl.col(\"ankunft\")).\\\n",
    "                then(\"before\").\\\n",
    "                otherwise(pl.when(pl.col(\"time_iot\") > pl.col(\"ankunft\")).\\\n",
    "                    then(\"after\").\\\n",
    "                    otherwise(\"undefined\")).alias(\"pax_status\")\n",
    "        )\n",
    "    \n",
    "    df_before = df_joined_date.filter(pl.col(\"pax_status\") == \"before\").\\\n",
    "        group_by([\"fahrtid\", \"ereignis_station_id\", \"pax_counter_id\"]).\\\n",
    "        agg(pl.col(\"data_pax\").max().alias(\"data_pax_before\"))\n",
    "\n",
    "    df_after = df_joined_date.filter(pl.col(\"pax_status\") == \"after\").\\\n",
    "        group_by([\"fahrtid\", \"ereignis_station_id\", \"pax_counter_id\"]).\\\n",
    "        agg(pl.col(\"data_pax\").min().alias(\"data_pax_after\"))\n",
    "    \n",
    "    # if len(df_after) != len(df_before):\n",
    "    #     raise ValueError(\"number of entries in after/before not the same\")#\n",
    "    \n",
    "    df_pax_agg = df_before.\\\n",
    "    join(df_after,\n",
    "    on = [\"fahrtid\", \"ereignis_station_id\", \"pax_counter_id\"],\n",
    "    how = \"outer\")\n",
    "\n",
    "    # if len(df_pax_agg) != len(df_before):\n",
    "    #     raise ValueError(\"number of entries changed by joining\")\n",
    "    \n",
    "    id_table = base_data.with_columns(\n",
    "            pl.col(\"zeit_echt\").dt.date().alias(\"date\")\n",
    "        ).filter(\n",
    "            pl.col(\"date\") == date\n",
    "        ).\\\n",
    "        group_by([\"fahrtid\", \"ereignis_station_id\"]).agg(pl.count()).select([\"fahrtid\", \"ereignis_station_id\"])\n",
    "\n",
    "    df_pax_result_date = df_pax_agg.join(id_table, on = [\"fahrtid\", \"ereignis_station_id\"], how = \"left\")\n",
    "\n",
    "    df_pax_result_date.write_parquet(f\"../../data/congestion_data/congestion_data_{region_name}_{mngmt_name}_{date}.parquet\")\n",
    "\n",
    "\n",
    "    "
   ]
  },
  {
   "cell_type": "markdown",
   "id": "62c3c35b",
   "metadata": {},
   "source": [
    "### read all the data in again"
   ]
  },
  {
   "cell_type": "code",
   "execution_count": 23,
   "id": "505071bf",
   "metadata": {},
   "outputs": [
    {
     "data": {
      "text/html": [
       "<div><style>\n",
       ".dataframe > thead > tr,\n",
       ".dataframe > tbody > tr {\n",
       "  text-align: right;\n",
       "  white-space: pre-wrap;\n",
       "}\n",
       "</style>\n",
       "<small>shape: (5, 5)</small><table border=\"1\" class=\"dataframe\"><thead><tr><th>fahrtid</th><th>ereignis_station_id</th><th>pax_counter_id</th><th>data_pax_before</th><th>data_pax_after</th></tr><tr><td>str</td><td>i64</td><td>str</td><td>i64</td><td>i64</td></tr></thead><tbody><tr><td>&quot;20250401-288a8…</td><td>719</td><td>&quot;083af23fd0df&quot;</td><td>1</td><td>0</td></tr><tr><td>&quot;20250401-a76ba…</td><td>719</td><td>&quot;083af23fd0df&quot;</td><td>1</td><td>0</td></tr><tr><td>&quot;20250401-74933…</td><td>719</td><td>&quot;083af23fd0df&quot;</td><td>3</td><td>1</td></tr><tr><td>&quot;20250401-6a4eb…</td><td>719</td><td>&quot;083af23fd0df&quot;</td><td>0</td><td>0</td></tr><tr><td>&quot;20250401-12872…</td><td>2468</td><td>&quot;083af23ff6e7&quot;</td><td>26</td><td>2</td></tr></tbody></table></div>"
      ],
      "text/plain": [
       "shape: (5, 5)\n",
       "┌────────────────────────┬─────────────────────┬────────────────┬─────────────────┬────────────────┐\n",
       "│ fahrtid                ┆ ereignis_station_id ┆ pax_counter_id ┆ data_pax_before ┆ data_pax_after │\n",
       "│ ---                    ┆ ---                 ┆ ---            ┆ ---             ┆ ---            │\n",
       "│ str                    ┆ i64                 ┆ str            ┆ i64             ┆ i64            │\n",
       "╞════════════════════════╪═════════════════════╪════════════════╪═════════════════╪════════════════╡\n",
       "│ 20250401-288a8f29-54d2 ┆ 719                 ┆ 083af23fd0df   ┆ 1               ┆ 0              │\n",
       "│ -319a-86e5…            ┆                     ┆                ┆                 ┆                │\n",
       "│ 20250401-a76bae02-e295 ┆ 719                 ┆ 083af23fd0df   ┆ 1               ┆ 0              │\n",
       "│ -3772-9940…            ┆                     ┆                ┆                 ┆                │\n",
       "│ 20250401-7493311d-3857 ┆ 719                 ┆ 083af23fd0df   ┆ 3               ┆ 1              │\n",
       "│ -320b-a4a0…            ┆                     ┆                ┆                 ┆                │\n",
       "│ 20250401-6a4eb4fc-cdaf ┆ 719                 ┆ 083af23fd0df   ┆ 0               ┆ 0              │\n",
       "│ -3c97-83d5…            ┆                     ┆                ┆                 ┆                │\n",
       "│ 20250401-12872f4a-acea ┆ 2468                ┆ 083af23ff6e7   ┆ 26              ┆ 2              │\n",
       "│ -3272-8bc7…            ┆                     ┆                ┆                 ┆                │\n",
       "└────────────────────────┴─────────────────────┴────────────────┴─────────────────┴────────────────┘"
      ]
     },
     "execution_count": 23,
     "metadata": {},
     "output_type": "execute_result"
    }
   ],
   "source": [
    "dat = pl.read_parquet(f\"../../data/congestion_data/*.parquet\")\n",
    "dat.head()"
   ]
  },
  {
   "cell_type": "code",
   "execution_count": 24,
   "id": "3596631e",
   "metadata": {},
   "outputs": [
    {
     "data": {
      "text/plain": [
       "193641"
      ]
     },
     "execution_count": 24,
     "metadata": {},
     "output_type": "execute_result"
    }
   ],
   "source": [
    "len(dat)"
   ]
  },
  {
   "cell_type": "code",
   "execution_count": 25,
   "id": "bdf04a12",
   "metadata": {},
   "outputs": [
    {
     "data": {
      "text/plain": [
       "270597"
      ]
     },
     "execution_count": 25,
     "metadata": {},
     "output_type": "execute_result"
    }
   ],
   "source": [
    "len(base_data)"
   ]
  },
  {
   "cell_type": "markdown",
   "id": "52e47947",
   "metadata": {},
   "source": [
    "## data quality checks - what is happening in singular steps"
   ]
  },
  {
   "cell_type": "code",
   "execution_count": 26,
   "id": "b3077fa1",
   "metadata": {},
   "outputs": [],
   "source": [
    "filter_date = date"
   ]
  },
  {
   "cell_type": "code",
   "execution_count": 27,
   "id": "7dfb782b",
   "metadata": {},
   "outputs": [
    {
     "name": "stderr",
     "output_type": "stream",
     "text": [
      "C:\\Users\\z187070\\AppData\\Local\\Temp\\ipykernel_16148\\1511106251.py:13: DeprecationWarning: in a future version, string input will be parsed as a column name rather than a string literal. To silence this warning, pass the input as an expression instead: `pl.lit('before')`\n",
      "  then(\"before\").\\\n",
      "C:\\Users\\z187070\\AppData\\Local\\Temp\\ipykernel_16148\\1511106251.py:15: DeprecationWarning: in a future version, string input will be parsed as a column name rather than a string literal. To silence this warning, pass the input as an expression instead: `pl.lit('after')`\n",
      "  then(\"after\").\\\n",
      "C:\\Users\\z187070\\AppData\\Local\\Temp\\ipykernel_16148\\1511106251.py:16: DeprecationWarning: in a future version, string input will be parsed as a column name rather than a string literal. To silence this warning, pass the input as an expression instead: `pl.lit('undefined')`\n",
      "  otherwise(\"undefined\")).alias(\"pax_status\")\n"
     ]
    },
    {
     "data": {
      "text/html": [
       "<div><style>\n",
       ".dataframe > thead > tr,\n",
       ".dataframe > tbody > tr {\n",
       "  text-align: right;\n",
       "  white-space: pre-wrap;\n",
       "}\n",
       "</style>\n",
       "<small>shape: (5, 11)</small><table border=\"1\" class=\"dataframe\"><thead><tr><th>fahrtid</th><th>ereignis_station_id</th><th>ankunft</th><th>begin_tw</th><th>end_tw</th><th>date</th><th>pax_counter_id</th><th>time_iot</th><th>data_pax</th><th>date_right</th><th>pax_status</th></tr><tr><td>str</td><td>i64</td><td>datetime[μs]</td><td>datetime[μs]</td><td>datetime[μs]</td><td>date</td><td>str</td><td>datetime[μs]</td><td>i64</td><td>date</td><td>str</td></tr></thead><tbody><tr><td>&quot;20250622-c8d8d…</td><td>2468</td><td>2025-06-23 00:16:21</td><td>2025-06-23 00:06:21</td><td>2025-06-23 00:21:21</td><td>2025-06-23</td><td>&quot;083af23ff6e7&quot;</td><td>2025-06-23 00:06:31</td><td>0</td><td>2025-06-23</td><td>&quot;before&quot;</td></tr><tr><td>&quot;20250622-c8d8d…</td><td>2468</td><td>2025-06-23 00:16:21</td><td>2025-06-23 00:06:21</td><td>2025-06-23 00:21:21</td><td>2025-06-23</td><td>&quot;083af23ff6e7&quot;</td><td>2025-06-23 00:07:31</td><td>0</td><td>2025-06-23</td><td>&quot;before&quot;</td></tr><tr><td>&quot;20250622-c8d8d…</td><td>2468</td><td>2025-06-23 00:16:21</td><td>2025-06-23 00:06:21</td><td>2025-06-23 00:21:21</td><td>2025-06-23</td><td>&quot;083af23ff6e7&quot;</td><td>2025-06-23 00:08:31</td><td>0</td><td>2025-06-23</td><td>&quot;before&quot;</td></tr><tr><td>&quot;20250622-c8d8d…</td><td>2468</td><td>2025-06-23 00:16:21</td><td>2025-06-23 00:06:21</td><td>2025-06-23 00:21:21</td><td>2025-06-23</td><td>&quot;083af23ff6e7&quot;</td><td>2025-06-23 00:09:31</td><td>0</td><td>2025-06-23</td><td>&quot;before&quot;</td></tr><tr><td>&quot;20250622-c8d8d…</td><td>2468</td><td>2025-06-23 00:16:21</td><td>2025-06-23 00:06:21</td><td>2025-06-23 00:21:21</td><td>2025-06-23</td><td>&quot;083af23ff6e7&quot;</td><td>2025-06-23 00:10:31</td><td>0</td><td>2025-06-23</td><td>&quot;before&quot;</td></tr></tbody></table></div>"
      ],
      "text/plain": [
       "shape: (5, 11)\n",
       "┌───────────┬───────────┬───────────┬───────────┬───┬───────────┬──────────┬───────────┬───────────┐\n",
       "│ fahrtid   ┆ ereignis_ ┆ ankunft   ┆ begin_tw  ┆ … ┆ time_iot  ┆ data_pax ┆ date_righ ┆ pax_statu │\n",
       "│ ---       ┆ station_i ┆ ---       ┆ ---       ┆   ┆ ---       ┆ ---      ┆ t         ┆ s         │\n",
       "│ str       ┆ d         ┆ datetime[ ┆ datetime[ ┆   ┆ datetime[ ┆ i64      ┆ ---       ┆ ---       │\n",
       "│           ┆ ---       ┆ μs]       ┆ μs]       ┆   ┆ μs]       ┆          ┆ date      ┆ str       │\n",
       "│           ┆ i64       ┆           ┆           ┆   ┆           ┆          ┆           ┆           │\n",
       "╞═══════════╪═══════════╪═══════════╪═══════════╪═══╪═══════════╪══════════╪═══════════╪═══════════╡\n",
       "│ 20250622- ┆ 2468      ┆ 2025-06-2 ┆ 2025-06-2 ┆ … ┆ 2025-06-2 ┆ 0        ┆ 2025-06-2 ┆ before    │\n",
       "│ c8d8da52- ┆           ┆ 3         ┆ 3         ┆   ┆ 3         ┆          ┆ 3         ┆           │\n",
       "│ 02fa-32cc ┆           ┆ 00:16:21  ┆ 00:06:21  ┆   ┆ 00:06:31  ┆          ┆           ┆           │\n",
       "│ -a323…    ┆           ┆           ┆           ┆   ┆           ┆          ┆           ┆           │\n",
       "│ 20250622- ┆ 2468      ┆ 2025-06-2 ┆ 2025-06-2 ┆ … ┆ 2025-06-2 ┆ 0        ┆ 2025-06-2 ┆ before    │\n",
       "│ c8d8da52- ┆           ┆ 3         ┆ 3         ┆   ┆ 3         ┆          ┆ 3         ┆           │\n",
       "│ 02fa-32cc ┆           ┆ 00:16:21  ┆ 00:06:21  ┆   ┆ 00:07:31  ┆          ┆           ┆           │\n",
       "│ -a323…    ┆           ┆           ┆           ┆   ┆           ┆          ┆           ┆           │\n",
       "│ 20250622- ┆ 2468      ┆ 2025-06-2 ┆ 2025-06-2 ┆ … ┆ 2025-06-2 ┆ 0        ┆ 2025-06-2 ┆ before    │\n",
       "│ c8d8da52- ┆           ┆ 3         ┆ 3         ┆   ┆ 3         ┆          ┆ 3         ┆           │\n",
       "│ 02fa-32cc ┆           ┆ 00:16:21  ┆ 00:06:21  ┆   ┆ 00:08:31  ┆          ┆           ┆           │\n",
       "│ -a323…    ┆           ┆           ┆           ┆   ┆           ┆          ┆           ┆           │\n",
       "│ 20250622- ┆ 2468      ┆ 2025-06-2 ┆ 2025-06-2 ┆ … ┆ 2025-06-2 ┆ 0        ┆ 2025-06-2 ┆ before    │\n",
       "│ c8d8da52- ┆           ┆ 3         ┆ 3         ┆   ┆ 3         ┆          ┆ 3         ┆           │\n",
       "│ 02fa-32cc ┆           ┆ 00:16:21  ┆ 00:06:21  ┆   ┆ 00:09:31  ┆          ┆           ┆           │\n",
       "│ -a323…    ┆           ┆           ┆           ┆   ┆           ┆          ┆           ┆           │\n",
       "│ 20250622- ┆ 2468      ┆ 2025-06-2 ┆ 2025-06-2 ┆ … ┆ 2025-06-2 ┆ 0        ┆ 2025-06-2 ┆ before    │\n",
       "│ c8d8da52- ┆           ┆ 3         ┆ 3         ┆   ┆ 3         ┆          ┆ 3         ┆           │\n",
       "│ 02fa-32cc ┆           ┆ 00:16:21  ┆ 00:06:21  ┆   ┆ 00:10:31  ┆          ┆           ┆           │\n",
       "│ -a323…    ┆           ┆           ┆           ┆   ┆           ┆          ┆           ┆           │\n",
       "└───────────┴───────────┴───────────┴───────────┴───┴───────────┴──────────┴───────────┴───────────┘"
      ]
     },
     "execution_count": 27,
     "metadata": {},
     "output_type": "execute_result"
    }
   ],
   "source": [
    "first_try = df_timematch.filter(\n",
    "    pl.col(\"date\") == filter_date\n",
    ").join(\n",
    "    df_pax.filter(pl.col(\"date\") == filter_date),\n",
    "    left_on = \"ereignis_station_id\",\n",
    "    right_on = \"station_id\",\n",
    "    how = \"inner\"\n",
    ").filter(\n",
    "    (pl.col(\"time_iot\") >= pl.col(\"begin_tw\")),\n",
    "    (pl.col(\"time_iot\") <= pl.col(\"end_tw\"))\n",
    ").with_columns(\n",
    "    pl.when(pl.col(\"time_iot\") <= pl.col(\"ankunft\")).\\\n",
    "        then(\"before\").\\\n",
    "        otherwise(pl.when(pl.col(\"time_iot\") > pl.col(\"ankunft\")).\\\n",
    "            then(\"after\").\\\n",
    "            otherwise(\"undefined\")).alias(\"pax_status\")\n",
    ")\n",
    "\n",
    "first_try.head()"
   ]
  },
  {
   "cell_type": "code",
   "execution_count": 28,
   "id": "ea3d7ea5",
   "metadata": {},
   "outputs": [
    {
     "data": {
      "text/html": [
       "<div><style>\n",
       ".dataframe > thead > tr,\n",
       ".dataframe > tbody > tr {\n",
       "  text-align: right;\n",
       "  white-space: pre-wrap;\n",
       "}\n",
       "</style>\n",
       "<small>shape: (2, 1)</small><table border=\"1\" class=\"dataframe\"><thead><tr><th>pax_status</th></tr><tr><td>str</td></tr></thead><tbody><tr><td>&quot;after&quot;</td></tr><tr><td>&quot;before&quot;</td></tr></tbody></table></div>"
      ],
      "text/plain": [
       "shape: (2, 1)\n",
       "┌────────────┐\n",
       "│ pax_status │\n",
       "│ ---        │\n",
       "│ str        │\n",
       "╞════════════╡\n",
       "│ after      │\n",
       "│ before     │\n",
       "└────────────┘"
      ]
     },
     "execution_count": 28,
     "metadata": {},
     "output_type": "execute_result"
    }
   ],
   "source": [
    "first_try.select(pl.col(\"pax_status\").unique())"
   ]
  },
  {
   "cell_type": "code",
   "execution_count": 29,
   "id": "5fc38bd6",
   "metadata": {},
   "outputs": [],
   "source": [
    "df_before = first_try.filter(pl.col(\"pax_status\") == \"before\").\\\n",
    "    group_by([\"fahrtid\", \"ereignis_station_id\", \"pax_counter_id\"]).\\\n",
    "    agg(pl.col(\"data_pax\").max().alias(\"data_pax_before\"))\n",
    "\n",
    "df_after = first_try.filter(pl.col(\"pax_status\") == \"after\").\\\n",
    "    group_by([\"fahrtid\", \"ereignis_station_id\", \"pax_counter_id\"]).\\\n",
    "    agg(pl.col(\"data_pax\").min().alias(\"data_pax_after\"))"
   ]
  },
  {
   "cell_type": "code",
   "execution_count": 30,
   "id": "9922a6f6",
   "metadata": {},
   "outputs": [
    {
     "data": {
      "text/html": [
       "<div><style>\n",
       ".dataframe > thead > tr,\n",
       ".dataframe > tbody > tr {\n",
       "  text-align: right;\n",
       "  white-space: pre-wrap;\n",
       "}\n",
       "</style>\n",
       "<small>shape: (1, 1)</small><table border=\"1\" class=\"dataframe\"><thead><tr><th>count</th></tr><tr><td>u32</td></tr></thead><tbody><tr><td>2257</td></tr></tbody></table></div>"
      ],
      "text/plain": [
       "shape: (1, 1)\n",
       "┌───────┐\n",
       "│ count │\n",
       "│ ---   │\n",
       "│ u32   │\n",
       "╞═══════╡\n",
       "│ 2257  │\n",
       "└───────┘"
      ]
     },
     "execution_count": 30,
     "metadata": {},
     "output_type": "execute_result"
    }
   ],
   "source": [
    "df_before.select(pl.count())"
   ]
  },
  {
   "cell_type": "code",
   "execution_count": 31,
   "id": "1baf1618",
   "metadata": {},
   "outputs": [
    {
     "data": {
      "text/html": [
       "<div><style>\n",
       ".dataframe > thead > tr,\n",
       ".dataframe > tbody > tr {\n",
       "  text-align: right;\n",
       "  white-space: pre-wrap;\n",
       "}\n",
       "</style>\n",
       "<small>shape: (1, 1)</small><table border=\"1\" class=\"dataframe\"><thead><tr><th>count</th></tr><tr><td>u32</td></tr></thead><tbody><tr><td>2229</td></tr></tbody></table></div>"
      ],
      "text/plain": [
       "shape: (1, 1)\n",
       "┌───────┐\n",
       "│ count │\n",
       "│ ---   │\n",
       "│ u32   │\n",
       "╞═══════╡\n",
       "│ 2229  │\n",
       "└───────┘"
      ]
     },
     "execution_count": 31,
     "metadata": {},
     "output_type": "execute_result"
    }
   ],
   "source": [
    "df_after.select(pl.count())"
   ]
  },
  {
   "cell_type": "code",
   "execution_count": 32,
   "id": "df640077",
   "metadata": {},
   "outputs": [],
   "source": [
    "df_pax_agg = df_before.\\\n",
    "    join(df_after,\n",
    "    on = [\"fahrtid\", \"ereignis_station_id\", \"pax_counter_id\"],\n",
    "    how = \"outer\")"
   ]
  },
  {
   "cell_type": "code",
   "execution_count": 33,
   "id": "2d42bd93",
   "metadata": {},
   "outputs": [
    {
     "data": {
      "text/html": [
       "<div><style>\n",
       ".dataframe > thead > tr,\n",
       ".dataframe > tbody > tr {\n",
       "  text-align: right;\n",
       "  white-space: pre-wrap;\n",
       "}\n",
       "</style>\n",
       "<small>shape: (1, 1)</small><table border=\"1\" class=\"dataframe\"><thead><tr><th>count</th></tr><tr><td>u32</td></tr></thead><tbody><tr><td>2257</td></tr></tbody></table></div>"
      ],
      "text/plain": [
       "shape: (1, 1)\n",
       "┌───────┐\n",
       "│ count │\n",
       "│ ---   │\n",
       "│ u32   │\n",
       "╞═══════╡\n",
       "│ 2257  │\n",
       "└───────┘"
      ]
     },
     "execution_count": 33,
     "metadata": {},
     "output_type": "execute_result"
    }
   ],
   "source": [
    "df_pax_agg.select(pl.count())"
   ]
  },
  {
   "cell_type": "code",
   "execution_count": 34,
   "id": "b95a54a5",
   "metadata": {},
   "outputs": [
    {
     "data": {
      "text/html": [
       "<div><style>\n",
       ".dataframe > thead > tr,\n",
       ".dataframe > tbody > tr {\n",
       "  text-align: right;\n",
       "  white-space: pre-wrap;\n",
       "}\n",
       "</style>\n",
       "<small>shape: (28, 5)</small><table border=\"1\" class=\"dataframe\"><thead><tr><th>fahrtid</th><th>ereignis_station_id</th><th>pax_counter_id</th><th>data_pax_before</th><th>data_pax_after</th></tr><tr><td>str</td><td>i64</td><td>str</td><td>i64</td><td>i64</td></tr></thead><tbody><tr><td>&quot;20250623-83966…</td><td>5758</td><td>&quot;244cab046a7b&quot;</td><td>0</td><td>null</td></tr><tr><td>&quot;20250623-83966…</td><td>5756</td><td>&quot;244cab06259f&quot;</td><td>0</td><td>null</td></tr><tr><td>&quot;20250623-83966…</td><td>2877</td><td>&quot;3494545a2107&quot;</td><td>0</td><td>null</td></tr><tr><td>&quot;20250623-e5aea…</td><td>4457</td><td>&quot;244cab01f457&quot;</td><td>0</td><td>null</td></tr><tr><td>&quot;20250623-99a29…</td><td>1263</td><td>&quot;244cab06fb47&quot;</td><td>0</td><td>null</td></tr><tr><td>&quot;20250623-bcf35…</td><td>5034</td><td>&quot;244cab068dcb&quot;</td><td>0</td><td>null</td></tr><tr><td>&quot;20250623-b6522…</td><td>5127</td><td>&quot;a0a3b38c53a3&quot;</td><td>0</td><td>null</td></tr><tr><td>&quot;20250623-b30a0…</td><td>6173</td><td>&quot;e831cdc2595b&quot;</td><td>0</td><td>null</td></tr><tr><td>&quot;20250623-362f8…</td><td>2468</td><td>&quot;083af23ff6e7&quot;</td><td>1</td><td>null</td></tr><tr><td>&quot;20250623-7fb72…</td><td>2468</td><td>&quot;083af23ff6e7&quot;</td><td>0</td><td>null</td></tr><tr><td>&quot;20250623-c5f63…</td><td>4457</td><td>&quot;244cab01f457&quot;</td><td>0</td><td>null</td></tr><tr><td>&quot;20250623-f2dcf…</td><td>6050</td><td>&quot;244cab06f80b&quot;</td><td>11</td><td>null</td></tr><tr><td>&hellip;</td><td>&hellip;</td><td>&hellip;</td><td>&hellip;</td><td>&hellip;</td></tr><tr><td>&quot;20250623-0dcb4…</td><td>758</td><td>&quot;244cab020efb&quot;</td><td>3</td><td>null</td></tr><tr><td>&quot;20250623-f2dcf…</td><td>79</td><td>&quot;244cab034443&quot;</td><td>0</td><td>null</td></tr><tr><td>&quot;20250623-83966…</td><td>2877</td><td>&quot;a0a3b32f53fb&quot;</td><td>0</td><td>null</td></tr><tr><td>&quot;20250623-057ea…</td><td>6407</td><td>&quot;a0a3b38c536f&quot;</td><td>0</td><td>null</td></tr><tr><td>&quot;20250623-23ce2…</td><td>2730</td><td>&quot;d48afc8ec603&quot;</td><td>0</td><td>null</td></tr><tr><td>&quot;20250623-bcf35…</td><td>5034</td><td>&quot;244cab01fe3f&quot;</td><td>0</td><td>null</td></tr><tr><td>&quot;20250623-83966…</td><td>5756</td><td>&quot;244cab03803f&quot;</td><td>0</td><td>null</td></tr><tr><td>&quot;20250623-7fb72…</td><td>2468</td><td>&quot;3494545a2a2b&quot;</td><td>1</td><td>null</td></tr><tr><td>&quot;20250623-057ea…</td><td>6407</td><td>&quot;244cab00fa6b&quot;</td><td>0</td><td>null</td></tr><tr><td>&quot;20250623-1869b…</td><td>4951</td><td>&quot;3494545a2a1f&quot;</td><td>0</td><td>null</td></tr><tr><td>&quot;20250623-362f8…</td><td>2468</td><td>&quot;3494545a2a2b&quot;</td><td>2</td><td>null</td></tr><tr><td>&quot;20250623-1869b…</td><td>6103</td><td>&quot;3494545a2a5b&quot;</td><td>0</td><td>null</td></tr></tbody></table></div>"
      ],
      "text/plain": [
       "shape: (28, 5)\n",
       "┌────────────────────────┬─────────────────────┬────────────────┬─────────────────┬────────────────┐\n",
       "│ fahrtid                ┆ ereignis_station_id ┆ pax_counter_id ┆ data_pax_before ┆ data_pax_after │\n",
       "│ ---                    ┆ ---                 ┆ ---            ┆ ---             ┆ ---            │\n",
       "│ str                    ┆ i64                 ┆ str            ┆ i64             ┆ i64            │\n",
       "╞════════════════════════╪═════════════════════╪════════════════╪═════════════════╪════════════════╡\n",
       "│ 20250623-83966b5d-31a3 ┆ 5758                ┆ 244cab046a7b   ┆ 0               ┆ null           │\n",
       "│ -3fc5-9c03…            ┆                     ┆                ┆                 ┆                │\n",
       "│ 20250623-83966b5d-31a3 ┆ 5756                ┆ 244cab06259f   ┆ 0               ┆ null           │\n",
       "│ -3fc5-9c03…            ┆                     ┆                ┆                 ┆                │\n",
       "│ 20250623-83966b5d-31a3 ┆ 2877                ┆ 3494545a2107   ┆ 0               ┆ null           │\n",
       "│ -3fc5-9c03…            ┆                     ┆                ┆                 ┆                │\n",
       "│ 20250623-e5aeaff3-6e77 ┆ 4457                ┆ 244cab01f457   ┆ 0               ┆ null           │\n",
       "│ -3569-b5ad…            ┆                     ┆                ┆                 ┆                │\n",
       "│ …                      ┆ …                   ┆ …              ┆ …               ┆ …              │\n",
       "│ 20250623-057eaaf2-5445 ┆ 6407                ┆ 244cab00fa6b   ┆ 0               ┆ null           │\n",
       "│ -36b3-8c09…            ┆                     ┆                ┆                 ┆                │\n",
       "│ 20250623-1869bc1d-cf8e ┆ 4951                ┆ 3494545a2a1f   ┆ 0               ┆ null           │\n",
       "│ -3d13-b814…            ┆                     ┆                ┆                 ┆                │\n",
       "│ 20250623-362f8055-5e7c ┆ 2468                ┆ 3494545a2a2b   ┆ 2               ┆ null           │\n",
       "│ -359e-b172…            ┆                     ┆                ┆                 ┆                │\n",
       "│ 20250623-1869bc1d-cf8e ┆ 6103                ┆ 3494545a2a5b   ┆ 0               ┆ null           │\n",
       "│ -3d13-b814…            ┆                     ┆                ┆                 ┆                │\n",
       "└────────────────────────┴─────────────────────┴────────────────┴─────────────────┴────────────────┘"
      ]
     },
     "execution_count": 34,
     "metadata": {},
     "output_type": "execute_result"
    }
   ],
   "source": [
    "df_pax_agg.filter(pl.col(\"data_pax_after\").is_null())"
   ]
  },
  {
   "cell_type": "markdown",
   "id": "0ae02f54",
   "metadata": {},
   "source": [
    "there are multiple sensors on some stations so more rows than in the cleaned timetable are expected\n",
    "\n",
    "\n",
    "maximum should be 3 though"
   ]
  },
  {
   "cell_type": "code",
   "execution_count": 35,
   "id": "bc30e5d0",
   "metadata": {},
   "outputs": [
    {
     "data": {
      "text/html": [
       "<div><style>\n",
       ".dataframe > thead > tr,\n",
       ".dataframe > tbody > tr {\n",
       "  text-align: right;\n",
       "  white-space: pre-wrap;\n",
       "}\n",
       "</style>\n",
       "<small>shape: (5, 3)</small><table border=\"1\" class=\"dataframe\"><thead><tr><th>fahrtid</th><th>ereignis_station_id</th><th>count</th></tr><tr><td>str</td><td>i64</td><td>u32</td></tr></thead><tbody><tr><td>&quot;20250623-0296e…</td><td>2877</td><td>3</td></tr><tr><td>&quot;20250623-55593…</td><td>2877</td><td>3</td></tr><tr><td>&quot;20250623-caa20…</td><td>2877</td><td>3</td></tr><tr><td>&quot;20250623-d641c…</td><td>2877</td><td>3</td></tr><tr><td>&quot;20250623-e7d31…</td><td>2877</td><td>3</td></tr></tbody></table></div>"
      ],
      "text/plain": [
       "shape: (5, 3)\n",
       "┌───────────────────────────────────┬─────────────────────┬───────┐\n",
       "│ fahrtid                           ┆ ereignis_station_id ┆ count │\n",
       "│ ---                               ┆ ---                 ┆ ---   │\n",
       "│ str                               ┆ i64                 ┆ u32   │\n",
       "╞═══════════════════════════════════╪═════════════════════╪═══════╡\n",
       "│ 20250623-0296e8e7-0271-3281-9845… ┆ 2877                ┆ 3     │\n",
       "│ 20250623-555931ab-f4d5-339a-858a… ┆ 2877                ┆ 3     │\n",
       "│ 20250623-caa209ab-50c2-3d31-9d55… ┆ 2877                ┆ 3     │\n",
       "│ 20250623-d641c7af-ec1e-3311-8512… ┆ 2877                ┆ 3     │\n",
       "│ 20250623-e7d31eb2-3410-3dea-8b67… ┆ 2877                ┆ 3     │\n",
       "└───────────────────────────────────┴─────────────────────┴───────┘"
      ]
     },
     "execution_count": 35,
     "metadata": {},
     "output_type": "execute_result"
    }
   ],
   "source": [
    "df_pax_agg.group_by([\"fahrtid\", \"ereignis_station_id\"]).agg(pl.count()).sort(\"count\", descending=True).head()"
   ]
  },
  {
   "cell_type": "code",
   "execution_count": 36,
   "id": "c7d6b014",
   "metadata": {},
   "outputs": [],
   "source": [
    "id_table = base_data.with_columns(\n",
    "        pl.col(\"zeit_echt\").dt.date().alias(\"date\")\n",
    "    ).filter(\n",
    "        pl.col(\"date\") == filter_date\n",
    "    ).\\\n",
    "    group_by([\"fahrtid\", \"ereignis_station_id\"]).agg(pl.count()).select([\"fahrtid\", \"ereignis_station_id\"])"
   ]
  },
  {
   "cell_type": "code",
   "execution_count": 37,
   "id": "93951f7c",
   "metadata": {},
   "outputs": [
    {
     "data": {
      "text/html": [
       "<div><style>\n",
       ".dataframe > thead > tr,\n",
       ".dataframe > tbody > tr {\n",
       "  text-align: right;\n",
       "  white-space: pre-wrap;\n",
       "}\n",
       "</style>\n",
       "<small>shape: (5, 2)</small><table border=\"1\" class=\"dataframe\"><thead><tr><th>fahrtid</th><th>ereignis_station_id</th></tr><tr><td>str</td><td>i64</td></tr></thead><tbody><tr><td>&quot;20250623-dac59…</td><td>6103</td></tr><tr><td>&quot;20250623-15690…</td><td>4813</td></tr><tr><td>&quot;20250623-15690…</td><td>490</td></tr><tr><td>&quot;20250623-d67b7…</td><td>5756</td></tr><tr><td>&quot;20250623-e4dd9…</td><td>490</td></tr></tbody></table></div>"
      ],
      "text/plain": [
       "shape: (5, 2)\n",
       "┌───────────────────────────────────┬─────────────────────┐\n",
       "│ fahrtid                           ┆ ereignis_station_id │\n",
       "│ ---                               ┆ ---                 │\n",
       "│ str                               ┆ i64                 │\n",
       "╞═══════════════════════════════════╪═════════════════════╡\n",
       "│ 20250623-dac598d5-21a3-30e2-b687… ┆ 6103                │\n",
       "│ 20250623-15690138-3ed3-33ea-bb38… ┆ 4813                │\n",
       "│ 20250623-15690138-3ed3-33ea-bb38… ┆ 490                 │\n",
       "│ 20250623-d67b75a4-ccb7-3d70-8534… ┆ 5756                │\n",
       "│ 20250623-e4dd974a-c379-3137-9869… ┆ 490                 │\n",
       "└───────────────────────────────────┴─────────────────────┘"
      ]
     },
     "execution_count": 37,
     "metadata": {},
     "output_type": "execute_result"
    }
   ],
   "source": [
    "id_table.head()"
   ]
  },
  {
   "cell_type": "code",
   "execution_count": 38,
   "id": "bdf26059",
   "metadata": {},
   "outputs": [],
   "source": [
    "df_pax_result = df_pax_agg.join(id_table, on = [\"fahrtid\", \"ereignis_station_id\"], how = \"left\")"
   ]
  },
  {
   "cell_type": "code",
   "execution_count": 39,
   "id": "eb833e89",
   "metadata": {},
   "outputs": [
    {
     "data": {
      "text/html": [
       "<div><style>\n",
       ".dataframe > thead > tr,\n",
       ".dataframe > tbody > tr {\n",
       "  text-align: right;\n",
       "  white-space: pre-wrap;\n",
       "}\n",
       "</style>\n",
       "<small>shape: (5, 5)</small><table border=\"1\" class=\"dataframe\"><thead><tr><th>fahrtid</th><th>ereignis_station_id</th><th>pax_counter_id</th><th>data_pax_before</th><th>data_pax_after</th></tr><tr><td>str</td><td>i64</td><td>str</td><td>i64</td><td>i64</td></tr></thead><tbody><tr><td>&quot;20250623-55593…</td><td>2468</td><td>&quot;083af23ff6e7&quot;</td><td>4</td><td>1</td></tr><tr><td>&quot;20250623-bb30d…</td><td>2468</td><td>&quot;083af23ff6e7&quot;</td><td>11</td><td>6</td></tr><tr><td>&quot;20250623-2e13c…</td><td>2468</td><td>&quot;083af23ff6e7&quot;</td><td>35</td><td>0</td></tr><tr><td>&quot;20250623-f7b5b…</td><td>2468</td><td>&quot;083af23ff6e7&quot;</td><td>17</td><td>7</td></tr><tr><td>&quot;20250623-ea38e…</td><td>2468</td><td>&quot;083af23ff6e7&quot;</td><td>32</td><td>9</td></tr></tbody></table></div>"
      ],
      "text/plain": [
       "shape: (5, 5)\n",
       "┌────────────────────────┬─────────────────────┬────────────────┬─────────────────┬────────────────┐\n",
       "│ fahrtid                ┆ ereignis_station_id ┆ pax_counter_id ┆ data_pax_before ┆ data_pax_after │\n",
       "│ ---                    ┆ ---                 ┆ ---            ┆ ---             ┆ ---            │\n",
       "│ str                    ┆ i64                 ┆ str            ┆ i64             ┆ i64            │\n",
       "╞════════════════════════╪═════════════════════╪════════════════╪═════════════════╪════════════════╡\n",
       "│ 20250623-555931ab-f4d5 ┆ 2468                ┆ 083af23ff6e7   ┆ 4               ┆ 1              │\n",
       "│ -339a-858a…            ┆                     ┆                ┆                 ┆                │\n",
       "│ 20250623-bb30d91b-4c0a ┆ 2468                ┆ 083af23ff6e7   ┆ 11              ┆ 6              │\n",
       "│ -3798-8e0b…            ┆                     ┆                ┆                 ┆                │\n",
       "│ 20250623-2e13cb31-71c0 ┆ 2468                ┆ 083af23ff6e7   ┆ 35              ┆ 0              │\n",
       "│ -38d6-a213…            ┆                     ┆                ┆                 ┆                │\n",
       "│ 20250623-f7b5bf66-a3a5 ┆ 2468                ┆ 083af23ff6e7   ┆ 17              ┆ 7              │\n",
       "│ -3eb9-98b3…            ┆                     ┆                ┆                 ┆                │\n",
       "│ 20250623-ea38ea49-4a70 ┆ 2468                ┆ 083af23ff6e7   ┆ 32              ┆ 9              │\n",
       "│ -35f2-9903…            ┆                     ┆                ┆                 ┆                │\n",
       "└────────────────────────┴─────────────────────┴────────────────┴─────────────────┴────────────────┘"
      ]
     },
     "execution_count": 39,
     "metadata": {},
     "output_type": "execute_result"
    }
   ],
   "source": [
    "df_pax_result.head()"
   ]
  },
  {
   "cell_type": "markdown",
   "id": "e10e17f5",
   "metadata": {},
   "source": [
    "### something isn't quite right with the data it seems - if i merge the other way around, null entries exist but those sensors should work"
   ]
  },
  {
   "cell_type": "code",
   "execution_count": 40,
   "id": "b997649f",
   "metadata": {},
   "outputs": [
    {
     "data": {
      "text/html": [
       "<div><style>\n",
       ".dataframe > thead > tr,\n",
       ".dataframe > tbody > tr {\n",
       "  text-align: right;\n",
       "  white-space: pre-wrap;\n",
       "}\n",
       "</style>\n",
       "<small>shape: (2_871, 5)</small><table border=\"1\" class=\"dataframe\"><thead><tr><th>fahrtid</th><th>ereignis_station_id</th><th>pax_counter_id</th><th>data_pax_before</th><th>data_pax_after</th></tr><tr><td>str</td><td>i64</td><td>str</td><td>i64</td><td>i64</td></tr></thead><tbody><tr><td>&quot;20250623-55593…</td><td>2468</td><td>&quot;083af23ff6e7&quot;</td><td>4</td><td>1</td></tr><tr><td>&quot;20250623-bb30d…</td><td>2468</td><td>&quot;083af23ff6e7&quot;</td><td>11</td><td>6</td></tr><tr><td>&quot;20250623-2e13c…</td><td>2468</td><td>&quot;083af23ff6e7&quot;</td><td>35</td><td>0</td></tr><tr><td>&quot;20250623-f7b5b…</td><td>2468</td><td>&quot;083af23ff6e7&quot;</td><td>17</td><td>7</td></tr><tr><td>&quot;20250623-ea38e…</td><td>2468</td><td>&quot;083af23ff6e7&quot;</td><td>32</td><td>9</td></tr><tr><td>&quot;20250623-75665…</td><td>5758</td><td>&quot;244cab006177&quot;</td><td>3</td><td>0</td></tr><tr><td>&quot;20250623-7b9e1…</td><td>5758</td><td>&quot;244cab006177&quot;</td><td>9</td><td>0</td></tr><tr><td>&quot;20250623-0fdcf…</td><td>5758</td><td>&quot;244cab006177&quot;</td><td>2</td><td>0</td></tr><tr><td>&quot;20250623-09193…</td><td>5758</td><td>&quot;244cab006177&quot;</td><td>1</td><td>0</td></tr><tr><td>&quot;20250623-403b3…</td><td>5758</td><td>&quot;244cab006177&quot;</td><td>0</td><td>0</td></tr><tr><td>&quot;20250623-2a145…</td><td>5758</td><td>&quot;244cab006177&quot;</td><td>0</td><td>0</td></tr><tr><td>&quot;20250623-c8156…</td><td>3146</td><td>&quot;244cab00b52b&quot;</td><td>5</td><td>0</td></tr><tr><td>&hellip;</td><td>&hellip;</td><td>&hellip;</td><td>&hellip;</td><td>&hellip;</td></tr><tr><td>&quot;20250623-ccd87…</td><td>6383</td><td>null</td><td>null</td><td>null</td></tr><tr><td>&quot;20250623-040cf…</td><td>5315</td><td>null</td><td>null</td><td>null</td></tr><tr><td>&quot;20250623-674b6…</td><td>1086</td><td>null</td><td>null</td><td>null</td></tr><tr><td>&quot;20250623-9bb7d…</td><td>683</td><td>null</td><td>null</td><td>null</td></tr><tr><td>&quot;20250623-2b6b5…</td><td>8375</td><td>null</td><td>null</td><td>null</td></tr><tr><td>&quot;20250623-9bb7d…</td><td>6407</td><td>null</td><td>null</td><td>null</td></tr><tr><td>&quot;20250623-c378b…</td><td>3716</td><td>null</td><td>null</td><td>null</td></tr><tr><td>&quot;20250623-5670d…</td><td>3716</td><td>null</td><td>null</td><td>null</td></tr><tr><td>&quot;20250623-7a4e2…</td><td>4166</td><td>null</td><td>null</td><td>null</td></tr><tr><td>&quot;20250623-a1302…</td><td>683</td><td>null</td><td>null</td><td>null</td></tr><tr><td>&quot;20250623-770b0…</td><td>6093</td><td>null</td><td>null</td><td>null</td></tr><tr><td>&quot;20250623-0c86f…</td><td>3716</td><td>null</td><td>null</td><td>null</td></tr></tbody></table></div>"
      ],
      "text/plain": [
       "shape: (2_871, 5)\n",
       "┌────────────────────────┬─────────────────────┬────────────────┬─────────────────┬────────────────┐\n",
       "│ fahrtid                ┆ ereignis_station_id ┆ pax_counter_id ┆ data_pax_before ┆ data_pax_after │\n",
       "│ ---                    ┆ ---                 ┆ ---            ┆ ---             ┆ ---            │\n",
       "│ str                    ┆ i64                 ┆ str            ┆ i64             ┆ i64            │\n",
       "╞════════════════════════╪═════════════════════╪════════════════╪═════════════════╪════════════════╡\n",
       "│ 20250623-555931ab-f4d5 ┆ 2468                ┆ 083af23ff6e7   ┆ 4               ┆ 1              │\n",
       "│ -339a-858a…            ┆                     ┆                ┆                 ┆                │\n",
       "│ 20250623-bb30d91b-4c0a ┆ 2468                ┆ 083af23ff6e7   ┆ 11              ┆ 6              │\n",
       "│ -3798-8e0b…            ┆                     ┆                ┆                 ┆                │\n",
       "│ 20250623-2e13cb31-71c0 ┆ 2468                ┆ 083af23ff6e7   ┆ 35              ┆ 0              │\n",
       "│ -38d6-a213…            ┆                     ┆                ┆                 ┆                │\n",
       "│ 20250623-f7b5bf66-a3a5 ┆ 2468                ┆ 083af23ff6e7   ┆ 17              ┆ 7              │\n",
       "│ -3eb9-98b3…            ┆                     ┆                ┆                 ┆                │\n",
       "│ …                      ┆ …                   ┆ …              ┆ …               ┆ …              │\n",
       "│ 20250623-7a4e2eb7-030c ┆ 4166                ┆ null           ┆ null            ┆ null           │\n",
       "│ -3514-9351…            ┆                     ┆                ┆                 ┆                │\n",
       "│ 20250623-a13023fc-7d85 ┆ 683                 ┆ null           ┆ null            ┆ null           │\n",
       "│ -3bc4-883a…            ┆                     ┆                ┆                 ┆                │\n",
       "│ 20250623-770b00c4-22d6 ┆ 6093                ┆ null           ┆ null            ┆ null           │\n",
       "│ -3847-9a3b…            ┆                     ┆                ┆                 ┆                │\n",
       "│ 20250623-0c86fef0-0d19 ┆ 3716                ┆ null           ┆ null            ┆ null           │\n",
       "│ -3e10-aadb…            ┆                     ┆                ┆                 ┆                │\n",
       "└────────────────────────┴─────────────────────┴────────────────┴─────────────────┴────────────────┘"
      ]
     },
     "execution_count": 40,
     "metadata": {},
     "output_type": "execute_result"
    }
   ],
   "source": [
    "result = id_table.join(df_pax_agg, \n",
    "    on = [\"fahrtid\", \"ereignis_station_id\"],\n",
    "    how = \"outer\")\n",
    "\n",
    "result"
   ]
  },
  {
   "cell_type": "code",
   "execution_count": 41,
   "id": "ad941419",
   "metadata": {},
   "outputs": [
    {
     "data": {
      "text/html": [
       "<div><style>\n",
       ".dataframe > thead > tr,\n",
       ".dataframe > tbody > tr {\n",
       "  text-align: right;\n",
       "  white-space: pre-wrap;\n",
       "}\n",
       "</style>\n",
       "<small>shape: (5, 5)</small><table border=\"1\" class=\"dataframe\"><thead><tr><th>fahrtid</th><th>ereignis_station_id</th><th>pax_counter_id</th><th>data_pax_before</th><th>data_pax_after</th></tr><tr><td>str</td><td>i64</td><td>str</td><td>i64</td><td>i64</td></tr></thead><tbody><tr><td>&quot;20250623-3868e…</td><td>2730</td><td>null</td><td>null</td><td>null</td></tr><tr><td>&quot;20250623-9bd12…</td><td>4866</td><td>null</td><td>null</td><td>null</td></tr><tr><td>&quot;20250623-5da9b…</td><td>3559</td><td>null</td><td>null</td><td>null</td></tr><tr><td>&quot;20250623-c674d…</td><td>1263</td><td>null</td><td>null</td><td>null</td></tr><tr><td>&quot;20250623-a7e70…</td><td>3716</td><td>null</td><td>null</td><td>null</td></tr></tbody></table></div>"
      ],
      "text/plain": [
       "shape: (5, 5)\n",
       "┌────────────────────────┬─────────────────────┬────────────────┬─────────────────┬────────────────┐\n",
       "│ fahrtid                ┆ ereignis_station_id ┆ pax_counter_id ┆ data_pax_before ┆ data_pax_after │\n",
       "│ ---                    ┆ ---                 ┆ ---            ┆ ---             ┆ ---            │\n",
       "│ str                    ┆ i64                 ┆ str            ┆ i64             ┆ i64            │\n",
       "╞════════════════════════╪═════════════════════╪════════════════╪═════════════════╪════════════════╡\n",
       "│ 20250623-3868e8de-856e ┆ 2730                ┆ null           ┆ null            ┆ null           │\n",
       "│ -30a9-93b3…            ┆                     ┆                ┆                 ┆                │\n",
       "│ 20250623-9bd12c1e-f603 ┆ 4866                ┆ null           ┆ null            ┆ null           │\n",
       "│ -3838-851b…            ┆                     ┆                ┆                 ┆                │\n",
       "│ 20250623-5da9b5a9-41e0 ┆ 3559                ┆ null           ┆ null            ┆ null           │\n",
       "│ -37de-b0d6…            ┆                     ┆                ┆                 ┆                │\n",
       "│ 20250623-c674d7e2-58fa ┆ 1263                ┆ null           ┆ null            ┆ null           │\n",
       "│ -3b69-9717…            ┆                     ┆                ┆                 ┆                │\n",
       "│ 20250623-a7e70679-2c0b ┆ 3716                ┆ null           ┆ null            ┆ null           │\n",
       "│ -3ef7-be28…            ┆                     ┆                ┆                 ┆                │\n",
       "└────────────────────────┴─────────────────────┴────────────────┴─────────────────┴────────────────┘"
      ]
     },
     "execution_count": 41,
     "metadata": {},
     "output_type": "execute_result"
    }
   ],
   "source": [
    "result_nulls = result.filter(pl.col(\"pax_counter_id\").is_null())\n",
    "result_nulls.head()"
   ]
  },
  {
   "cell_type": "code",
   "execution_count": 42,
   "id": "956a269d",
   "metadata": {},
   "outputs": [
    {
     "data": {
      "text/html": [
       "<div><style>\n",
       ".dataframe > thead > tr,\n",
       ".dataframe > tbody > tr {\n",
       "  text-align: right;\n",
       "  white-space: pre-wrap;\n",
       "}\n",
       "</style>\n",
       "<small>shape: (1, 8)</small><table border=\"1\" class=\"dataframe\"><thead><tr><th>fahrtid</th><th>ereignis_station_id</th><th>zeit_echt</th><th>zeit_echt_verspaetung</th><th>gleis_echt</th><th>tpname_bahnsteig_echt</th><th>gattung</th><th>case</th></tr><tr><td>str</td><td>i64</td><td>str</td><td>i64</td><td>str</td><td>str</td><td>str</td><td>str</td></tr></thead><tbody><tr><td>&quot;20250515-51adc…</td><td>7983</td><td>&quot;2025-05-15 09:…</td><td>1</td><td>&quot;07983-01-B01-G…</td><td>&quot;Bahnsteig 01&quot;</td><td>&quot;RB&quot;</td><td>&quot;abfahrt&quot;</td></tr></tbody></table></div>"
      ],
      "text/plain": [
       "shape: (1, 8)\n",
       "┌─────────────┬────────────┬────────────┬────────────┬────────────┬────────────┬─────────┬─────────┐\n",
       "│ fahrtid     ┆ ereignis_s ┆ zeit_echt  ┆ zeit_echt_ ┆ gleis_echt ┆ tpname_bah ┆ gattung ┆ case    │\n",
       "│ ---         ┆ tation_id  ┆ ---        ┆ verspaetun ┆ ---        ┆ nsteig_ech ┆ ---     ┆ ---     │\n",
       "│ str         ┆ ---        ┆ str        ┆ g          ┆ str        ┆ t          ┆ str     ┆ str     │\n",
       "│             ┆ i64        ┆            ┆ ---        ┆            ┆ ---        ┆         ┆         │\n",
       "│             ┆            ┆            ┆ i64        ┆            ┆ str        ┆         ┆         │\n",
       "╞═════════════╪════════════╪════════════╪════════════╪════════════╪════════════╪═════════╪═════════╡\n",
       "│ 20250515-51 ┆ 7983       ┆ 2025-05-15 ┆ 1          ┆ 07983-01-B ┆ Bahnsteig  ┆ RB      ┆ abfahrt │\n",
       "│ adc984-0a84 ┆            ┆ 09:17:20   ┆            ┆ 01-G01     ┆ 01         ┆         ┆         │\n",
       "│ -3e60-a391… ┆            ┆            ┆            ┆            ┆            ┆         ┆         │\n",
       "└─────────────┴────────────┴────────────┴────────────┴────────────┴────────────┴─────────┴─────────┘"
      ]
     },
     "execution_count": 42,
     "metadata": {},
     "output_type": "execute_result"
    }
   ],
   "source": [
    "ris.filter(pl.col(\"ereignis_station_id\") == 7983,\n",
    "           pl.col(\"fahrtid\") == '20250515-51adc984-0a84-3e60-a391-665c5d3c6136')"
   ]
  },
  {
   "cell_type": "code",
   "execution_count": 43,
   "id": "78dc7dea",
   "metadata": {},
   "outputs": [
    {
     "data": {
      "text/html": [
       "<div><style>\n",
       ".dataframe > thead > tr,\n",
       ".dataframe > tbody > tr {\n",
       "  text-align: right;\n",
       "  white-space: pre-wrap;\n",
       "}\n",
       "</style>\n",
       "<small>shape: (14, 8)</small><table border=\"1\" class=\"dataframe\"><thead><tr><th>pax_counter_id</th><th>time_iot</th><th>data_pax</th><th>station_id</th><th>station_name</th><th>tpname</th><th>station_longitude</th><th>station_latitude</th></tr><tr><td>str</td><td>str</td><td>i64</td><td>i64</td><td>str</td><td>str</td><td>f64</td><td>f64</td></tr></thead><tbody><tr><td>&quot;3494545a2a77&quot;</td><td>&quot;2025-05-15 09:…</td><td>0</td><td>7983</td><td>&quot;Tessin West&quot;</td><td>&quot;Bahnsteig 01&quot;</td><td>12.44257</td><td>54.034436</td></tr><tr><td>&quot;3494545a2a77&quot;</td><td>&quot;2025-05-15 09:…</td><td>0</td><td>7983</td><td>&quot;Tessin West&quot;</td><td>&quot;Bahnsteig 01&quot;</td><td>12.44257</td><td>54.034436</td></tr><tr><td>&quot;3494545a2a77&quot;</td><td>&quot;2025-05-15 09:…</td><td>0</td><td>7983</td><td>&quot;Tessin West&quot;</td><td>&quot;Bahnsteig 01&quot;</td><td>12.44257</td><td>54.034436</td></tr><tr><td>&quot;3494545a2a77&quot;</td><td>&quot;2025-05-15 09:…</td><td>0</td><td>7983</td><td>&quot;Tessin West&quot;</td><td>&quot;Bahnsteig 01&quot;</td><td>12.44257</td><td>54.034436</td></tr><tr><td>&quot;3494545a2a77&quot;</td><td>&quot;2025-05-15 09:…</td><td>0</td><td>7983</td><td>&quot;Tessin West&quot;</td><td>&quot;Bahnsteig 01&quot;</td><td>12.44257</td><td>54.034436</td></tr><tr><td>&quot;3494545a2a77&quot;</td><td>&quot;2025-05-15 09:…</td><td>0</td><td>7983</td><td>&quot;Tessin West&quot;</td><td>&quot;Bahnsteig 01&quot;</td><td>12.44257</td><td>54.034436</td></tr><tr><td>&quot;3494545a2a77&quot;</td><td>&quot;2025-05-15 09:…</td><td>0</td><td>7983</td><td>&quot;Tessin West&quot;</td><td>&quot;Bahnsteig 01&quot;</td><td>12.44257</td><td>54.034436</td></tr><tr><td>&quot;3494545a2a77&quot;</td><td>&quot;2025-05-15 09:…</td><td>0</td><td>7983</td><td>&quot;Tessin West&quot;</td><td>&quot;Bahnsteig 01&quot;</td><td>12.44257</td><td>54.034436</td></tr><tr><td>&quot;3494545a2a77&quot;</td><td>&quot;2025-05-15 09:…</td><td>0</td><td>7983</td><td>&quot;Tessin West&quot;</td><td>&quot;Bahnsteig 01&quot;</td><td>12.44257</td><td>54.034436</td></tr><tr><td>&quot;3494545a2a77&quot;</td><td>&quot;2025-05-15 09:…</td><td>0</td><td>7983</td><td>&quot;Tessin West&quot;</td><td>&quot;Bahnsteig 01&quot;</td><td>12.44257</td><td>54.034436</td></tr><tr><td>&quot;3494545a2a77&quot;</td><td>&quot;2025-05-15 09:…</td><td>0</td><td>7983</td><td>&quot;Tessin West&quot;</td><td>&quot;Bahnsteig 01&quot;</td><td>12.44257</td><td>54.034436</td></tr><tr><td>&quot;3494545a2a77&quot;</td><td>&quot;2025-05-15 09:…</td><td>0</td><td>7983</td><td>&quot;Tessin West&quot;</td><td>&quot;Bahnsteig 01&quot;</td><td>12.44257</td><td>54.034436</td></tr><tr><td>&quot;3494545a2a77&quot;</td><td>&quot;2025-05-15 09:…</td><td>0</td><td>7983</td><td>&quot;Tessin West&quot;</td><td>&quot;Bahnsteig 01&quot;</td><td>12.44257</td><td>54.034436</td></tr><tr><td>&quot;3494545a2a77&quot;</td><td>&quot;2025-05-15 09:…</td><td>0</td><td>7983</td><td>&quot;Tessin West&quot;</td><td>&quot;Bahnsteig 01&quot;</td><td>12.44257</td><td>54.034436</td></tr></tbody></table></div>"
      ],
      "text/plain": [
       "shape: (14, 8)\n",
       "┌────────────┬────────────┬──────────┬────────────┬────────────┬───────────┬───────────┬───────────┐\n",
       "│ pax_counte ┆ time_iot   ┆ data_pax ┆ station_id ┆ station_na ┆ tpname    ┆ station_l ┆ station_l │\n",
       "│ r_id       ┆ ---        ┆ ---      ┆ ---        ┆ me         ┆ ---       ┆ ongitude  ┆ atitude   │\n",
       "│ ---        ┆ str        ┆ i64      ┆ i64        ┆ ---        ┆ str       ┆ ---       ┆ ---       │\n",
       "│ str        ┆            ┆          ┆            ┆ str        ┆           ┆ f64       ┆ f64       │\n",
       "╞════════════╪════════════╪══════════╪════════════╪════════════╪═══════════╪═══════════╪═══════════╡\n",
       "│ 3494545a2a ┆ 2025-05-15 ┆ 0        ┆ 7983       ┆ Tessin     ┆ Bahnsteig ┆ 12.44257  ┆ 54.034436 │\n",
       "│ 77         ┆ 09:07:14   ┆          ┆            ┆ West       ┆ 01        ┆           ┆           │\n",
       "│ 3494545a2a ┆ 2025-05-15 ┆ 0        ┆ 7983       ┆ Tessin     ┆ Bahnsteig ┆ 12.44257  ┆ 54.034436 │\n",
       "│ 77         ┆ 09:08:14   ┆          ┆            ┆ West       ┆ 01        ┆           ┆           │\n",
       "│ 3494545a2a ┆ 2025-05-15 ┆ 0        ┆ 7983       ┆ Tessin     ┆ Bahnsteig ┆ 12.44257  ┆ 54.034436 │\n",
       "│ 77         ┆ 09:09:14   ┆          ┆            ┆ West       ┆ 01        ┆           ┆           │\n",
       "│ 3494545a2a ┆ 2025-05-15 ┆ 0        ┆ 7983       ┆ Tessin     ┆ Bahnsteig ┆ 12.44257  ┆ 54.034436 │\n",
       "│ 77         ┆ 09:10:14   ┆          ┆            ┆ West       ┆ 01        ┆           ┆           │\n",
       "│ …          ┆ …          ┆ …        ┆ …          ┆ …          ┆ …         ┆ …         ┆ …         │\n",
       "│ 3494545a2a ┆ 2025-05-15 ┆ 0        ┆ 7983       ┆ Tessin     ┆ Bahnsteig ┆ 12.44257  ┆ 54.034436 │\n",
       "│ 77         ┆ 09:17:14   ┆          ┆            ┆ West       ┆ 01        ┆           ┆           │\n",
       "│ 3494545a2a ┆ 2025-05-15 ┆ 0        ┆ 7983       ┆ Tessin     ┆ Bahnsteig ┆ 12.44257  ┆ 54.034436 │\n",
       "│ 77         ┆ 09:18:14   ┆          ┆            ┆ West       ┆ 01        ┆           ┆           │\n",
       "│ 3494545a2a ┆ 2025-05-15 ┆ 0        ┆ 7983       ┆ Tessin     ┆ Bahnsteig ┆ 12.44257  ┆ 54.034436 │\n",
       "│ 77         ┆ 09:19:14   ┆          ┆            ┆ West       ┆ 01        ┆           ┆           │\n",
       "│ 3494545a2a ┆ 2025-05-15 ┆ 0        ┆ 7983       ┆ Tessin     ┆ Bahnsteig ┆ 12.44257  ┆ 54.034436 │\n",
       "│ 77         ┆ 09:20:14   ┆          ┆            ┆ West       ┆ 01        ┆           ┆           │\n",
       "└────────────┴────────────┴──────────┴────────────┴────────────┴───────────┴───────────┴───────────┘"
      ]
     },
     "execution_count": 43,
     "metadata": {},
     "output_type": "execute_result"
    }
   ],
   "source": [
    "pl.read_parquet(pth_pax).filter(pl.col(\"station_id\") == 7983).\\\n",
    "filter(pl.col(\"time_iot\") > \"2025-05-15 09:06:20\").\\\n",
    "filter(pl.col(\"time_iot\") < \"2025-05-15 09:20:20\")"
   ]
  },
  {
   "cell_type": "code",
   "execution_count": 44,
   "id": "583cadbb",
   "metadata": {},
   "outputs": [
    {
     "data": {
      "text/plain": [
       "<polars.config.Config at 0x22e8659e410>"
      ]
     },
     "execution_count": 44,
     "metadata": {},
     "output_type": "execute_result"
    }
   ],
   "source": [
    "pl.Config(fmt_str_lengths=100)"
   ]
  },
  {
   "cell_type": "markdown",
   "id": "280eca7f",
   "metadata": {},
   "source": [
    "### rolling mean"
   ]
  },
  {
   "cell_type": "code",
   "execution_count": 45,
   "id": "5af12ebe",
   "metadata": {},
   "outputs": [
    {
     "data": {
      "text/plain": [
       "['244cab0712df',\n",
       " 'd48afc8efd5b',\n",
       " 'c45bbe932723',\n",
       " '244cab065dbb',\n",
       " 'a0a3b38c5463',\n",
       " '244cab0468b7',\n",
       " 'e831cdc25847',\n",
       " '244cab01fe3f',\n",
       " '244cab067843',\n",
       " 'e831cdc2581f',\n",
       " '244cab03803f',\n",
       " '244cab068dcb',\n",
       " '244cab02fcff',\n",
       " '244cab03ce33',\n",
       " 'a0a3b3311b9f',\n",
       " 'e831cdc26497',\n",
       " '244cab03c4df',\n",
       " '244cab0237a7',\n",
       " '3494545a2a1f',\n",
       " '1097bdd7722b',\n",
       " 'a0a3b32f794b',\n",
       " '244cab020efb',\n",
       " '34ab9540699b',\n",
       " 'e831cdc25877',\n",
       " 'a0a3b38c538b',\n",
       " '244cab039cf3',\n",
       " '3494545a213b',\n",
       " 'a0a3b38c5473',\n",
       " '3494545a2107',\n",
       " 'a0a3b38c58c7',\n",
       " 'a0a3b32f9e87',\n",
       " '244cab034443',\n",
       " '3494545a2a77',\n",
       " '244cab06fb47',\n",
       " '244cab02425b',\n",
       " '244cab039c97',\n",
       " '244cab02ea4f',\n",
       " '244cab03544b',\n",
       " 'd48afc8ec603',\n",
       " '244cab06abe7',\n",
       " '244cab03b9ff',\n",
       " '34ab954069ab',\n",
       " '244cab06b913',\n",
       " '244cab06f80b',\n",
       " 'd48afc8ec50f',\n",
       " 'a0a3b32fac63',\n",
       " 'e831cdc2597b',\n",
       " 'a0a3b32f82e7',\n",
       " '244cab01f2b7',\n",
       " '083af23fd0df',\n",
       " '244cab05572b',\n",
       " '3494545a2c67',\n",
       " '244cab00fa6b',\n",
       " 'e831cdc25833',\n",
       " 'e831cdc2595b',\n",
       " '244cab06275b',\n",
       " '244cab05d187',\n",
       " '244cab0161bb',\n",
       " '244cab046a7b',\n",
       " 'a0a3b3313e83',\n",
       " '244cab060337',\n",
       " '244cab06fe0f',\n",
       " '083af23ff6e7',\n",
       " '244cab01f457',\n",
       " 'e831cdc25893',\n",
       " 'a0a3b330e483',\n",
       " '244cab03a43f',\n",
       " '244cab067ac7',\n",
       " '244cab00b52b',\n",
       " '3494545a2a5b',\n",
       " '244cab022f13',\n",
       " 'd48afc8ed833',\n",
       " '244cab06feab',\n",
       " '34ab954069df',\n",
       " 'a0a3b38c53a3',\n",
       " '244cab03d43f',\n",
       " '244cab01fa4b',\n",
       " '244cab02a57f',\n",
       " '244cab02bddb',\n",
       " '244cab021587',\n",
       " '244cab06259f',\n",
       " '244cab0700ef',\n",
       " '244cab068b4f',\n",
       " 'e831cdc259a3',\n",
       " '244cab03a733',\n",
       " 'a0a3b32f53fb',\n",
       " 'a0a3b38c536f',\n",
       " '244cab022a6b',\n",
       " '244cab01a103',\n",
       " 'd48afc8efb9f',\n",
       " '244cab03327b',\n",
       " 'c45bbe93286f',\n",
       " '244cab0704cb',\n",
       " '244cab06371f',\n",
       " 'e831cdc2589b',\n",
       " '3494545a2a2b',\n",
       " '244cab0228ef',\n",
       " 'a0a3b38c5997',\n",
       " 'e831cdc25807',\n",
       " '244cab07105b',\n",
       " '244cab02113b',\n",
       " '244cab071093',\n",
       " '244cab006177',\n",
       " '244cab062a1b',\n",
       " '244cab044207',\n",
       " '244cab01f99f']"
      ]
     },
     "execution_count": 45,
     "metadata": {},
     "output_type": "execute_result"
    }
   ],
   "source": [
    "df_pax.select(pl.col(\"pax_counter_id\").unique()).to_series().to_list()"
   ]
  },
  {
   "cell_type": "code",
   "execution_count": 46,
   "id": "1001beee",
   "metadata": {},
   "outputs": [
    {
     "data": {
      "text/html": [
       "<div><style>\n",
       ".dataframe > thead > tr,\n",
       ".dataframe > tbody > tr {\n",
       "  text-align: right;\n",
       "  white-space: pre-wrap;\n",
       "}\n",
       "</style>\n",
       "<small>shape: (12_566_373, 2)</small><table border=\"1\" class=\"dataframe\"><thead><tr><th>pax_counter_id</th><th>data_pax</th></tr><tr><td>str</td><td>f64</td></tr></thead><tbody><tr><td>&quot;244cab03c4df&quot;</td><td>null</td></tr><tr><td>&quot;244cab03c4df&quot;</td><td>null</td></tr><tr><td>&quot;244cab03c4df&quot;</td><td>null</td></tr><tr><td>&quot;244cab03c4df&quot;</td><td>null</td></tr><tr><td>&quot;244cab03c4df&quot;</td><td>null</td></tr><tr><td>&quot;244cab03c4df&quot;</td><td>null</td></tr><tr><td>&quot;244cab03c4df&quot;</td><td>null</td></tr><tr><td>&quot;244cab03c4df&quot;</td><td>null</td></tr><tr><td>&quot;244cab03c4df&quot;</td><td>null</td></tr><tr><td>&quot;244cab03c4df&quot;</td><td>0.0</td></tr><tr><td>&quot;244cab03c4df&quot;</td><td>0.0</td></tr><tr><td>&quot;244cab03c4df&quot;</td><td>0.0</td></tr><tr><td>&hellip;</td><td>&hellip;</td></tr><tr><td>&quot;244cab06371f&quot;</td><td>0.0</td></tr><tr><td>&quot;244cab06371f&quot;</td><td>0.0</td></tr><tr><td>&quot;244cab06371f&quot;</td><td>0.0</td></tr><tr><td>&quot;244cab06371f&quot;</td><td>0.0</td></tr><tr><td>&quot;244cab06371f&quot;</td><td>0.0</td></tr><tr><td>&quot;244cab06371f&quot;</td><td>0.0</td></tr><tr><td>&quot;244cab06371f&quot;</td><td>0.0</td></tr><tr><td>&quot;244cab06371f&quot;</td><td>0.0</td></tr><tr><td>&quot;244cab06371f&quot;</td><td>0.0</td></tr><tr><td>&quot;244cab06371f&quot;</td><td>0.0</td></tr><tr><td>&quot;244cab06371f&quot;</td><td>0.0</td></tr><tr><td>&quot;244cab06371f&quot;</td><td>0.0</td></tr></tbody></table></div>"
      ],
      "text/plain": [
       "shape: (12_566_373, 2)\n",
       "┌────────────────┬──────────┐\n",
       "│ pax_counter_id ┆ data_pax │\n",
       "│ ---            ┆ ---      │\n",
       "│ str            ┆ f64      │\n",
       "╞════════════════╪══════════╡\n",
       "│ 244cab03c4df   ┆ null     │\n",
       "│ 244cab03c4df   ┆ null     │\n",
       "│ 244cab03c4df   ┆ null     │\n",
       "│ 244cab03c4df   ┆ null     │\n",
       "│ …              ┆ …        │\n",
       "│ 244cab06371f   ┆ 0.0      │\n",
       "│ 244cab06371f   ┆ 0.0      │\n",
       "│ 244cab06371f   ┆ 0.0      │\n",
       "│ 244cab06371f   ┆ 0.0      │\n",
       "└────────────────┴──────────┘"
      ]
     },
     "execution_count": 46,
     "metadata": {},
     "output_type": "execute_result"
    }
   ],
   "source": [
    "df_pax.group_by([\"pax_counter_id\"]).\\\n",
    "    agg(pl.col(\"data_pax\").rolling_mean(window_size=10)).\\\n",
    "    explode(pl.col(\"data_pax\"))"
   ]
  }
 ],
 "metadata": {
  "kernelspec": {
   "display_name": "Python 3",
   "language": "python",
   "name": "python3"
  },
  "language_info": {
   "codemirror_mode": {
    "name": "ipython",
    "version": 3
   },
   "file_extension": ".py",
   "mimetype": "text/x-python",
   "name": "python",
   "nbconvert_exporter": "python",
   "pygments_lexer": "ipython3",
   "version": "3.11.3"
  }
 },
 "nbformat": 4,
 "nbformat_minor": 5
}
