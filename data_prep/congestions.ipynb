{
 "cells": [
  {
   "cell_type": "code",
   "execution_count": 45,
   "id": "db333b1c",
   "metadata": {},
   "outputs": [],
   "source": [
    "import polars as pl\n",
    "import datetime as dt\n",
    "import seaborn as sns"
   ]
  },
  {
   "cell_type": "code",
   "execution_count": 46,
   "id": "47baa0a3",
   "metadata": {},
   "outputs": [],
   "source": [
    "pth_data = f\"C:/Users/z187070/Documents/Projects/PAXCOUNTER/data/\""
   ]
  },
  {
   "cell_type": "code",
   "execution_count": 47,
   "id": "e4ad02b7",
   "metadata": {},
   "outputs": [],
   "source": [
    "region_name = \"Ost\"\n",
    "mngmt_name = \"Mecklenburg-Vorpommern\"\n",
    "mngmt_filter = \"Mecklenburg-Vorpommern\""
   ]
  },
  {
   "cell_type": "code",
   "execution_count": 48,
   "id": "6d73c801",
   "metadata": {},
   "outputs": [],
   "source": [
    "#pth_master = pth_data + f\"master/master/{region_name}/master_data/master_data.csv\"\n",
    "pth_ris = pth_data + f\"ris/ris/{region_name}/{mngmt_name}/ris_data/ris_data.csv\"\n",
    "pth_pax = pth_data + f\"pax_data_{region_name}_{mngmt_name}.parquet\""
   ]
  },
  {
   "cell_type": "markdown",
   "id": "253fa590",
   "metadata": {},
   "source": [
    "## read data from ris"
   ]
  },
  {
   "cell_type": "code",
   "execution_count": 49,
   "id": "052c80b0",
   "metadata": {},
   "outputs": [],
   "source": [
    "ris = pl.read_csv(pth_ris, has_header=True, separator=\";\")"
   ]
  },
  {
   "cell_type": "code",
   "execution_count": 50,
   "id": "2265f979",
   "metadata": {},
   "outputs": [
    {
     "data": {
      "text/html": [
       "<div><style>\n",
       ".dataframe > thead > tr,\n",
       ".dataframe > tbody > tr {\n",
       "  text-align: right;\n",
       "  white-space: pre-wrap;\n",
       "}\n",
       "</style>\n",
       "<small>shape: (4, 1)</small><table border=\"1\" class=\"dataframe\"><thead><tr><th>case</th></tr><tr><td>str</td></tr></thead><tbody><tr><td>&quot;ankunft&quot;</td></tr><tr><td>&quot;startbahnhof&quot;</td></tr><tr><td>&quot;endbahnhof&quot;</td></tr><tr><td>&quot;abfahrt&quot;</td></tr></tbody></table></div>"
      ],
      "text/plain": [
       "shape: (4, 1)\n",
       "┌──────────────┐\n",
       "│ case         │\n",
       "│ ---          │\n",
       "│ str          │\n",
       "╞══════════════╡\n",
       "│ ankunft      │\n",
       "│ startbahnhof │\n",
       "│ endbahnhof   │\n",
       "│ abfahrt      │\n",
       "└──────────────┘"
      ]
     },
     "execution_count": 50,
     "metadata": {},
     "output_type": "execute_result"
    }
   ],
   "source": [
    "ris.select(pl.col(\"case\").unique())"
   ]
  },
  {
   "cell_type": "code",
   "execution_count": 51,
   "id": "f58ff0f2",
   "metadata": {},
   "outputs": [
    {
     "data": {
      "text/html": [
       "<div><style>\n",
       ".dataframe > thead > tr,\n",
       ".dataframe > tbody > tr {\n",
       "  text-align: right;\n",
       "  white-space: pre-wrap;\n",
       "}\n",
       "</style>\n",
       "<small>shape: (2, 8)</small><table border=\"1\" class=\"dataframe\"><thead><tr><th>fahrtid</th><th>ereignis_station_id</th><th>zeit_echt</th><th>zeit_echt_verspaetung</th><th>gleis_echt</th><th>tpname_bahnsteig_echt</th><th>gattung</th><th>case</th></tr><tr><td>str</td><td>i64</td><td>str</td><td>i64</td><td>str</td><td>str</td><td>str</td><td>str</td></tr></thead><tbody><tr><td>&quot;20241130-6c7c332f-4123-3241-8638-a4aa5eb9f676&quot;</td><td>2468</td><td>&quot;2024-12-01 00:03:14&quot;</td><td>4</td><td>&quot;02468-01-B02-G02&quot;</td><td>&quot;Bahnsteig 02&quot;</td><td>&quot;RE&quot;</td><td>&quot;ankunft&quot;</td></tr><tr><td>&quot;20241130-6c7c332f-4123-3241-8638-a4aa5eb9f676&quot;</td><td>2468</td><td>&quot;2024-12-01 00:04:21&quot;</td><td>5</td><td>&quot;02468-01-B02-G02&quot;</td><td>&quot;Bahnsteig 02&quot;</td><td>&quot;RE&quot;</td><td>&quot;abfahrt&quot;</td></tr></tbody></table></div>"
      ],
      "text/plain": [
       "shape: (2, 8)\n",
       "┌─────────────┬────────────┬────────────┬────────────┬────────────┬────────────┬─────────┬─────────┐\n",
       "│ fahrtid     ┆ ereignis_s ┆ zeit_echt  ┆ zeit_echt_ ┆ gleis_echt ┆ tpname_bah ┆ gattung ┆ case    │\n",
       "│ ---         ┆ tation_id  ┆ ---        ┆ verspaetun ┆ ---        ┆ nsteig_ech ┆ ---     ┆ ---     │\n",
       "│ str         ┆ ---        ┆ str        ┆ g          ┆ str        ┆ t          ┆ str     ┆ str     │\n",
       "│             ┆ i64        ┆            ┆ ---        ┆            ┆ ---        ┆         ┆         │\n",
       "│             ┆            ┆            ┆ i64        ┆            ┆ str        ┆         ┆         │\n",
       "╞═════════════╪════════════╪════════════╪════════════╪════════════╪════════════╪═════════╪═════════╡\n",
       "│ 20241130-6c ┆ 2468       ┆ 2024-12-01 ┆ 4          ┆ 02468-01-B ┆ Bahnsteig  ┆ RE      ┆ ankunft │\n",
       "│ 7c332f-4123 ┆            ┆ 00:03:14   ┆            ┆ 02-G02     ┆ 02         ┆         ┆         │\n",
       "│ -3241-8638- ┆            ┆            ┆            ┆            ┆            ┆         ┆         │\n",
       "│ a4aa5eb9f67 ┆            ┆            ┆            ┆            ┆            ┆         ┆         │\n",
       "│ 6           ┆            ┆            ┆            ┆            ┆            ┆         ┆         │\n",
       "│ 20241130-6c ┆ 2468       ┆ 2024-12-01 ┆ 5          ┆ 02468-01-B ┆ Bahnsteig  ┆ RE      ┆ abfahrt │\n",
       "│ 7c332f-4123 ┆            ┆ 00:04:21   ┆            ┆ 02-G02     ┆ 02         ┆         ┆         │\n",
       "│ -3241-8638- ┆            ┆            ┆            ┆            ┆            ┆         ┆         │\n",
       "│ a4aa5eb9f67 ┆            ┆            ┆            ┆            ┆            ┆         ┆         │\n",
       "│ 6           ┆            ┆            ┆            ┆            ┆            ┆         ┆         │\n",
       "└─────────────┴────────────┴────────────┴────────────┴────────────┴────────────┴─────────┴─────────┘"
      ]
     },
     "execution_count": 51,
     "metadata": {},
     "output_type": "execute_result"
    }
   ],
   "source": [
    "ris.head(2)"
   ]
  },
  {
   "cell_type": "code",
   "execution_count": 52,
   "id": "11256073",
   "metadata": {},
   "outputs": [
    {
     "data": {
      "text/plain": [
       "['2024-12-01 00:03:14', '2024-12-01 00:04:21']"
      ]
     },
     "execution_count": 52,
     "metadata": {},
     "output_type": "execute_result"
    }
   ],
   "source": [
    "ris.head(2).select(\"zeit_echt\").to_series().to_list()"
   ]
  },
  {
   "cell_type": "code",
   "execution_count": 53,
   "id": "6529575d",
   "metadata": {},
   "outputs": [],
   "source": [
    "data_filter_date = dt.datetime(2025, 4, 1)"
   ]
  },
  {
   "cell_type": "code",
   "execution_count": 54,
   "id": "23af005a",
   "metadata": {},
   "outputs": [],
   "source": [
    "base_data = ris.select(\n",
    "    pl.col(\"fahrtid\"), \n",
    "    pl.col(\"ereignis_station_id\"),\n",
    "    pl.col(\"zeit_echt\").str.to_datetime(), \n",
    "    pl.col(\"case\")\n",
    ").filter(\n",
    "    pl.col(\"zeit_echt\") >= data_filter_date\n",
    ")"
   ]
  },
  {
   "cell_type": "code",
   "execution_count": 55,
   "id": "9892f2cb",
   "metadata": {},
   "outputs": [
    {
     "data": {
      "text/html": [
       "<div><style>\n",
       ".dataframe > thead > tr,\n",
       ".dataframe > tbody > tr {\n",
       "  text-align: right;\n",
       "  white-space: pre-wrap;\n",
       "}\n",
       "</style>\n",
       "<small>shape: (1, 1)</small><table border=\"1\" class=\"dataframe\"><thead><tr><th>count</th></tr><tr><td>u32</td></tr></thead><tbody><tr><td>194488</td></tr></tbody></table></div>"
      ],
      "text/plain": [
       "shape: (1, 1)\n",
       "┌────────┐\n",
       "│ count  │\n",
       "│ ---    │\n",
       "│ u32    │\n",
       "╞════════╡\n",
       "│ 194488 │\n",
       "└────────┘"
      ]
     },
     "execution_count": 55,
     "metadata": {},
     "output_type": "execute_result"
    }
   ],
   "source": [
    "base_data.select(pl.count())"
   ]
  },
  {
   "cell_type": "code",
   "execution_count": 56,
   "id": "a31fcfc6",
   "metadata": {},
   "outputs": [
    {
     "data": {
      "text/html": [
       "<div><style>\n",
       ".dataframe > thead > tr,\n",
       ".dataframe > tbody > tr {\n",
       "  text-align: right;\n",
       "  white-space: pre-wrap;\n",
       "}\n",
       "</style>\n",
       "<small>shape: (5, 4)</small><table border=\"1\" class=\"dataframe\"><thead><tr><th>fahrtid</th><th>ereignis_station_id</th><th>zeit_echt</th><th>case</th></tr><tr><td>str</td><td>i64</td><td>datetime[μs]</td><td>str</td></tr></thead><tbody><tr><td>&quot;20250331-f653a240-d4ff-32f6-9759-0a13726f545d&quot;</td><td>3830</td><td>2025-04-01 00:01:26</td><td>&quot;ankunft&quot;</td></tr><tr><td>&quot;20250331-086e5a85-3fa6-338f-affc-f39da060452a&quot;</td><td>3559</td><td>2025-04-01 00:03:15</td><td>&quot;ankunft&quot;</td></tr><tr><td>&quot;20250331-086e5a85-3fa6-338f-affc-f39da060452a&quot;</td><td>3559</td><td>2025-04-01 00:03:15</td><td>&quot;abfahrt&quot;</td></tr><tr><td>&quot;20250331-ff899981-92b9-3d82-9d06-6a70b5c37244&quot;</td><td>2468</td><td>2025-04-01 00:03:38</td><td>&quot;ankunft&quot;</td></tr><tr><td>&quot;20250401-ebd72dea-f30f-3725-a9de-5e23c4cbf833&quot;</td><td>6050</td><td>2025-04-01 00:04:12</td><td>&quot;ankunft&quot;</td></tr></tbody></table></div>"
      ],
      "text/plain": [
       "shape: (5, 4)\n",
       "┌────────────────────────────────────────────┬─────────────────────┬─────────────────────┬─────────┐\n",
       "│ fahrtid                                    ┆ ereignis_station_id ┆ zeit_echt           ┆ case    │\n",
       "│ ---                                        ┆ ---                 ┆ ---                 ┆ ---     │\n",
       "│ str                                        ┆ i64                 ┆ datetime[μs]        ┆ str     │\n",
       "╞════════════════════════════════════════════╪═════════════════════╪═════════════════════╪═════════╡\n",
       "│ 20250331-f653a240-d4ff-32f6-9759-0a13726f5 ┆ 3830                ┆ 2025-04-01 00:01:26 ┆ ankunft │\n",
       "│ 45d                                        ┆                     ┆                     ┆         │\n",
       "│ 20250331-086e5a85-3fa6-338f-affc-f39da0604 ┆ 3559                ┆ 2025-04-01 00:03:15 ┆ ankunft │\n",
       "│ 52a                                        ┆                     ┆                     ┆         │\n",
       "│ 20250331-086e5a85-3fa6-338f-affc-f39da0604 ┆ 3559                ┆ 2025-04-01 00:03:15 ┆ abfahrt │\n",
       "│ 52a                                        ┆                     ┆                     ┆         │\n",
       "│ 20250331-ff899981-92b9-3d82-9d06-6a70b5c37 ┆ 2468                ┆ 2025-04-01 00:03:38 ┆ ankunft │\n",
       "│ 244                                        ┆                     ┆                     ┆         │\n",
       "│ 20250401-ebd72dea-f30f-3725-a9de-5e23c4cbf ┆ 6050                ┆ 2025-04-01 00:04:12 ┆ ankunft │\n",
       "│ 833                                        ┆                     ┆                     ┆         │\n",
       "└────────────────────────────────────────────┴─────────────────────┴─────────────────────┴─────────┘"
      ]
     },
     "execution_count": 56,
     "metadata": {},
     "output_type": "execute_result"
    }
   ],
   "source": [
    "base_data.head()"
   ]
  },
  {
   "cell_type": "code",
   "execution_count": 57,
   "id": "4b4ed789",
   "metadata": {},
   "outputs": [
    {
     "data": {
      "text/html": [
       "<div><style>\n",
       ".dataframe > thead > tr,\n",
       ".dataframe > tbody > tr {\n",
       "  text-align: right;\n",
       "  white-space: pre-wrap;\n",
       "}\n",
       "</style>\n",
       "<small>shape: (0, 3)</small><table border=\"1\" class=\"dataframe\"><thead><tr><th>fahrtid</th><th>ereignis_station_id</th><th>count</th></tr><tr><td>str</td><td>i64</td><td>u32</td></tr></thead><tbody></tbody></table></div>"
      ],
      "text/plain": [
       "shape: (0, 3)\n",
       "┌─────────┬─────────────────────┬───────┐\n",
       "│ fahrtid ┆ ereignis_station_id ┆ count │\n",
       "│ ---     ┆ ---                 ┆ ---   │\n",
       "│ str     ┆ i64                 ┆ u32   │\n",
       "╞═════════╪═════════════════════╪═══════╡\n",
       "└─────────┴─────────────────────┴───────┘"
      ]
     },
     "execution_count": 57,
     "metadata": {},
     "output_type": "execute_result"
    }
   ],
   "source": [
    "base_data.group_by([\"fahrtid\", \"ereignis_station_id\"]).agg(pl.count()).filter(pl.col(\"count\") > 2).head()"
   ]
  },
  {
   "cell_type": "markdown",
   "id": "4ba4185e",
   "metadata": {},
   "source": [
    "checking data quality - some arrival/departure combinations are doubles (4 rows instead of 2) - there is no 3 and no more than 4, the time seems to be the same in all cases, i will just take one of these values\n",
    "\n",
    "this is not the case for data later than 01.05.2025??"
   ]
  },
  {
   "cell_type": "code",
   "execution_count": 58,
   "id": "f66a0da1",
   "metadata": {},
   "outputs": [
    {
     "data": {
      "text/plain": [
       "[]"
      ]
     },
     "execution_count": 58,
     "metadata": {},
     "output_type": "execute_result"
    }
   ],
   "source": [
    "base_data.group_by([\"fahrtid\", \"ereignis_station_id\"]).agg(pl.count()).filter(pl.col(\"count\") > 4).head(2).select(\"fahrtid\").to_series().to_list()"
   ]
  },
  {
   "cell_type": "code",
   "execution_count": 59,
   "id": "88187bf5",
   "metadata": {},
   "outputs": [
    {
     "data": {
      "text/html": [
       "<div><style>\n",
       ".dataframe > thead > tr,\n",
       ".dataframe > tbody > tr {\n",
       "  text-align: right;\n",
       "  white-space: pre-wrap;\n",
       "}\n",
       "</style>\n",
       "<small>shape: (0, 4)</small><table border=\"1\" class=\"dataframe\"><thead><tr><th>fahrtid</th><th>ereignis_station_id</th><th>zeit_echt</th><th>case</th></tr><tr><td>str</td><td>i64</td><td>datetime[μs]</td><td>str</td></tr></thead><tbody></tbody></table></div>"
      ],
      "text/plain": [
       "shape: (0, 4)\n",
       "┌─────────┬─────────────────────┬──────────────┬──────┐\n",
       "│ fahrtid ┆ ereignis_station_id ┆ zeit_echt    ┆ case │\n",
       "│ ---     ┆ ---                 ┆ ---          ┆ ---  │\n",
       "│ str     ┆ i64                 ┆ datetime[μs] ┆ str  │\n",
       "╞═════════╪═════════════════════╪══════════════╪══════╡\n",
       "└─────────┴─────────────────────┴──────────────┴──────┘"
      ]
     },
     "execution_count": 59,
     "metadata": {},
     "output_type": "execute_result"
    }
   ],
   "source": [
    "base_data.filter(pl.col(\"fahrtid\") == '20250325-353a3053-1386-374c-83d3-c200e93212cb')"
   ]
  },
  {
   "cell_type": "code",
   "execution_count": 60,
   "id": "58eb90b3",
   "metadata": {},
   "outputs": [],
   "source": [
    "time_info = base_data.filter(pl.col(\"case\").is_in([\"abfahrt\", \"ankunft\"])).\\\n",
    "pivot(columns = \"case\", index = [\"fahrtid\", \"ereignis_station_id\"], values = \"zeit_echt\", aggregate_function=\"min\").\\\n",
    "with_columns(\n",
    "    (pl.col(\"abfahrt\")-pl.col(\"ankunft\")).alias(\"time_diff\")\n",
    ")"
   ]
  },
  {
   "cell_type": "code",
   "execution_count": 61,
   "id": "7fbfa3fc",
   "metadata": {},
   "outputs": [
    {
     "data": {
      "text/html": [
       "<div><style>\n",
       ".dataframe > thead > tr,\n",
       ".dataframe > tbody > tr {\n",
       "  text-align: right;\n",
       "  white-space: pre-wrap;\n",
       "}\n",
       "</style>\n",
       "<small>shape: (5, 5)</small><table border=\"1\" class=\"dataframe\"><thead><tr><th>fahrtid</th><th>ereignis_station_id</th><th>ankunft</th><th>abfahrt</th><th>time_diff</th></tr><tr><td>str</td><td>i64</td><td>datetime[μs]</td><td>datetime[μs]</td><td>duration[μs]</td></tr></thead><tbody><tr><td>&quot;20250331-f653a240-d4ff-32f6-9759-0a13726f545d&quot;</td><td>3830</td><td>2025-04-01 00:01:26</td><td>null</td><td>null</td></tr><tr><td>&quot;20250331-086e5a85-3fa6-338f-affc-f39da060452a&quot;</td><td>3559</td><td>2025-04-01 00:03:15</td><td>2025-04-01 00:03:15</td><td>0µs</td></tr><tr><td>&quot;20250331-ff899981-92b9-3d82-9d06-6a70b5c37244&quot;</td><td>2468</td><td>2025-04-01 00:03:38</td><td>2025-04-01 00:04:35</td><td>57s</td></tr><tr><td>&quot;20250401-ebd72dea-f30f-3725-a9de-5e23c4cbf833&quot;</td><td>6050</td><td>2025-04-01 00:04:12</td><td>2025-04-01 00:05:10</td><td>58s</td></tr><tr><td>&quot;20250331-9b2fdb57-9909-3d79-92f2-7fd4cdcaa770&quot;</td><td>5127</td><td>2025-04-01 00:04:31</td><td>2025-04-01 00:04:44</td><td>13s</td></tr></tbody></table></div>"
      ],
      "text/plain": [
       "shape: (5, 5)\n",
       "┌──────────────────────┬──────────────────────┬──────────────┬──────────────────────┬──────────────┐\n",
       "│ fahrtid              ┆ ereignis_station_id  ┆ ankunft      ┆ abfahrt              ┆ time_diff    │\n",
       "│ ---                  ┆ ---                  ┆ ---          ┆ ---                  ┆ ---          │\n",
       "│ str                  ┆ i64                  ┆ datetime[μs] ┆ datetime[μs]         ┆ duration[μs] │\n",
       "╞══════════════════════╪══════════════════════╪══════════════╪══════════════════════╪══════════════╡\n",
       "│ 20250331-f653a240-d4 ┆ 3830                 ┆ 2025-04-01   ┆ null                 ┆ null         │\n",
       "│ ff-32f6-9759-0a13726 ┆                      ┆ 00:01:26     ┆                      ┆              │\n",
       "│ f545d                ┆                      ┆              ┆                      ┆              │\n",
       "│ 20250331-086e5a85-3f ┆ 3559                 ┆ 2025-04-01   ┆ 2025-04-01 00:03:15  ┆ 0µs          │\n",
       "│ a6-338f-affc-f39da06 ┆                      ┆ 00:03:15     ┆                      ┆              │\n",
       "│ 0452a                ┆                      ┆              ┆                      ┆              │\n",
       "│ 20250331-ff899981-92 ┆ 2468                 ┆ 2025-04-01   ┆ 2025-04-01 00:04:35  ┆ 57s          │\n",
       "│ b9-3d82-9d06-6a70b5c ┆                      ┆ 00:03:38     ┆                      ┆              │\n",
       "│ 37244                ┆                      ┆              ┆                      ┆              │\n",
       "│ 20250401-ebd72dea-f3 ┆ 6050                 ┆ 2025-04-01   ┆ 2025-04-01 00:05:10  ┆ 58s          │\n",
       "│ 0f-3725-a9de-5e23c4c ┆                      ┆ 00:04:12     ┆                      ┆              │\n",
       "│ bf833                ┆                      ┆              ┆                      ┆              │\n",
       "│ 20250331-9b2fdb57-99 ┆ 5127                 ┆ 2025-04-01   ┆ 2025-04-01 00:04:44  ┆ 13s          │\n",
       "│ 09-3d79-92f2-7fd4cdc ┆                      ┆ 00:04:31     ┆                      ┆              │\n",
       "│ aa770                ┆                      ┆              ┆                      ┆              │\n",
       "└──────────────────────┴──────────────────────┴──────────────┴──────────────────────┴──────────────┘"
      ]
     },
     "execution_count": 61,
     "metadata": {},
     "output_type": "execute_result"
    }
   ],
   "source": [
    "time_info.head()"
   ]
  },
  {
   "cell_type": "markdown",
   "id": "5fe7c8ab",
   "metadata": {},
   "source": [
    "## creating the table"
   ]
  },
  {
   "cell_type": "code",
   "execution_count": 62,
   "id": "f0e2680f",
   "metadata": {},
   "outputs": [],
   "source": [
    "minutes_before_ankunft = 10\n",
    "minutes_after_ankunft = 5"
   ]
  },
  {
   "cell_type": "code",
   "execution_count": 63,
   "id": "28b67186",
   "metadata": {},
   "outputs": [
    {
     "data": {
      "text/html": [
       "<div><style>\n",
       ".dataframe > thead > tr,\n",
       ".dataframe > tbody > tr {\n",
       "  text-align: right;\n",
       "  white-space: pre-wrap;\n",
       "}\n",
       "</style>\n",
       "<small>shape: (5, 6)</small><table border=\"1\" class=\"dataframe\"><thead><tr><th>fahrtid</th><th>ereignis_station_id</th><th>ankunft</th><th>begin_tw</th><th>end_tw</th><th>date</th></tr><tr><td>str</td><td>i64</td><td>datetime[μs]</td><td>datetime[μs]</td><td>datetime[μs]</td><td>date</td></tr></thead><tbody><tr><td>&quot;20250331-f653a240-d4ff-32f6-9759-0a13726f545d&quot;</td><td>3830</td><td>2025-04-01 00:01:26</td><td>2025-03-31 23:51:26</td><td>2025-04-01 00:06:26</td><td>2025-04-01</td></tr><tr><td>&quot;20250331-086e5a85-3fa6-338f-affc-f39da060452a&quot;</td><td>3559</td><td>2025-04-01 00:03:15</td><td>2025-03-31 23:53:15</td><td>2025-04-01 00:08:15</td><td>2025-04-01</td></tr><tr><td>&quot;20250331-ff899981-92b9-3d82-9d06-6a70b5c37244&quot;</td><td>2468</td><td>2025-04-01 00:03:38</td><td>2025-03-31 23:53:38</td><td>2025-04-01 00:08:38</td><td>2025-04-01</td></tr><tr><td>&quot;20250401-ebd72dea-f30f-3725-a9de-5e23c4cbf833&quot;</td><td>6050</td><td>2025-04-01 00:04:12</td><td>2025-03-31 23:54:12</td><td>2025-04-01 00:09:12</td><td>2025-04-01</td></tr><tr><td>&quot;20250331-9b2fdb57-9909-3d79-92f2-7fd4cdcaa770&quot;</td><td>5127</td><td>2025-04-01 00:04:31</td><td>2025-03-31 23:54:31</td><td>2025-04-01 00:09:31</td><td>2025-04-01</td></tr></tbody></table></div>"
      ],
      "text/plain": [
       "shape: (5, 6)\n",
       "┌─────────────────┬────────────────┬────────────────┬────────────────┬────────────────┬────────────┐\n",
       "│ fahrtid         ┆ ereignis_stati ┆ ankunft        ┆ begin_tw       ┆ end_tw         ┆ date       │\n",
       "│ ---             ┆ on_id          ┆ ---            ┆ ---            ┆ ---            ┆ ---        │\n",
       "│ str             ┆ ---            ┆ datetime[μs]   ┆ datetime[μs]   ┆ datetime[μs]   ┆ date       │\n",
       "│                 ┆ i64            ┆                ┆                ┆                ┆            │\n",
       "╞═════════════════╪════════════════╪════════════════╪════════════════╪════════════════╪════════════╡\n",
       "│ 20250331-f653a2 ┆ 3830           ┆ 2025-04-01     ┆ 2025-03-31     ┆ 2025-04-01     ┆ 2025-04-01 │\n",
       "│ 40-d4ff-32f6-97 ┆                ┆ 00:01:26       ┆ 23:51:26       ┆ 00:06:26       ┆            │\n",
       "│ 59-0a13726f545d ┆                ┆                ┆                ┆                ┆            │\n",
       "│ 20250331-086e5a ┆ 3559           ┆ 2025-04-01     ┆ 2025-03-31     ┆ 2025-04-01     ┆ 2025-04-01 │\n",
       "│ 85-3fa6-338f-af ┆                ┆ 00:03:15       ┆ 23:53:15       ┆ 00:08:15       ┆            │\n",
       "│ fc-f39da060452a ┆                ┆                ┆                ┆                ┆            │\n",
       "│ 20250331-ff8999 ┆ 2468           ┆ 2025-04-01     ┆ 2025-03-31     ┆ 2025-04-01     ┆ 2025-04-01 │\n",
       "│ 81-92b9-3d82-9d ┆                ┆ 00:03:38       ┆ 23:53:38       ┆ 00:08:38       ┆            │\n",
       "│ 06-6a70b5c37244 ┆                ┆                ┆                ┆                ┆            │\n",
       "│ 20250401-ebd72d ┆ 6050           ┆ 2025-04-01     ┆ 2025-03-31     ┆ 2025-04-01     ┆ 2025-04-01 │\n",
       "│ ea-f30f-3725-a9 ┆                ┆ 00:04:12       ┆ 23:54:12       ┆ 00:09:12       ┆            │\n",
       "│ de-5e23c4cbf833 ┆                ┆                ┆                ┆                ┆            │\n",
       "│ 20250331-9b2fdb ┆ 5127           ┆ 2025-04-01     ┆ 2025-03-31     ┆ 2025-04-01     ┆ 2025-04-01 │\n",
       "│ 57-9909-3d79-92 ┆                ┆ 00:04:31       ┆ 23:54:31       ┆ 00:09:31       ┆            │\n",
       "│ f2-7fd4cdcaa770 ┆                ┆                ┆                ┆                ┆            │\n",
       "└─────────────────┴────────────────┴────────────────┴────────────────┴────────────────┴────────────┘"
      ]
     },
     "execution_count": 63,
     "metadata": {},
     "output_type": "execute_result"
    }
   ],
   "source": [
    "df_timematch = time_info.\\\n",
    "    filter(pl.col(\"ankunft\").is_not_null()).\\\n",
    "    select(\n",
    "        pl.col(\"fahrtid\"),\n",
    "        pl.col(\"ereignis_station_id\"),\n",
    "        pl.col(\"ankunft\"),\n",
    "        (pl.col(\"ankunft\") - dt.timedelta(minutes=minutes_before_ankunft)).alias(\"begin_tw\"),\n",
    "        (pl.col(\"ankunft\") + dt.timedelta(minutes=minutes_after_ankunft)).alias(\"end_tw\")\n",
    ").with_columns(\n",
    "    pl.col(\"ankunft\").dt.date().alias(\"date\")\n",
    ")\n",
    "df_timematch.head()"
   ]
  },
  {
   "cell_type": "code",
   "execution_count": 64,
   "id": "3571d95b",
   "metadata": {},
   "outputs": [
    {
     "data": {
      "text/html": [
       "<div><style>\n",
       ".dataframe > thead > tr,\n",
       ".dataframe > tbody > tr {\n",
       "  text-align: right;\n",
       "  white-space: pre-wrap;\n",
       "}\n",
       "</style>\n",
       "<small>shape: (5, 5)</small><table border=\"1\" class=\"dataframe\"><thead><tr><th>pax_counter_id</th><th>time_iot</th><th>station_id</th><th>data_pax</th><th>date</th></tr><tr><td>str</td><td>datetime[μs]</td><td>i64</td><td>i64</td><td>date</td></tr></thead><tbody><tr><td>&quot;083af23fd0df&quot;</td><td>2025-04-01 00:00:20</td><td>719</td><td>0</td><td>2025-04-01</td></tr><tr><td>&quot;083af23fd0df&quot;</td><td>2025-04-01 00:01:20</td><td>719</td><td>0</td><td>2025-04-01</td></tr><tr><td>&quot;083af23fd0df&quot;</td><td>2025-04-01 00:02:20</td><td>719</td><td>0</td><td>2025-04-01</td></tr><tr><td>&quot;083af23fd0df&quot;</td><td>2025-04-01 00:03:20</td><td>719</td><td>0</td><td>2025-04-01</td></tr><tr><td>&quot;083af23fd0df&quot;</td><td>2025-04-01 00:04:20</td><td>719</td><td>0</td><td>2025-04-01</td></tr></tbody></table></div>"
      ],
      "text/plain": [
       "shape: (5, 5)\n",
       "┌────────────────┬─────────────────────┬────────────┬──────────┬────────────┐\n",
       "│ pax_counter_id ┆ time_iot            ┆ station_id ┆ data_pax ┆ date       │\n",
       "│ ---            ┆ ---                 ┆ ---        ┆ ---      ┆ ---        │\n",
       "│ str            ┆ datetime[μs]        ┆ i64        ┆ i64      ┆ date       │\n",
       "╞════════════════╪═════════════════════╪════════════╪══════════╪════════════╡\n",
       "│ 083af23fd0df   ┆ 2025-04-01 00:00:20 ┆ 719        ┆ 0        ┆ 2025-04-01 │\n",
       "│ 083af23fd0df   ┆ 2025-04-01 00:01:20 ┆ 719        ┆ 0        ┆ 2025-04-01 │\n",
       "│ 083af23fd0df   ┆ 2025-04-01 00:02:20 ┆ 719        ┆ 0        ┆ 2025-04-01 │\n",
       "│ 083af23fd0df   ┆ 2025-04-01 00:03:20 ┆ 719        ┆ 0        ┆ 2025-04-01 │\n",
       "│ 083af23fd0df   ┆ 2025-04-01 00:04:20 ┆ 719        ┆ 0        ┆ 2025-04-01 │\n",
       "└────────────────┴─────────────────────┴────────────┴──────────┴────────────┘"
      ]
     },
     "execution_count": 64,
     "metadata": {},
     "output_type": "execute_result"
    }
   ],
   "source": [
    "df_pax = pl.read_parquet(pth_pax).\\\n",
    "    select(\n",
    "        pl.col(\"pax_counter_id\"),\n",
    "        pl.col(\"time_iot\").str.to_datetime(), \n",
    "        pl.col(\"station_id\"),\n",
    "        pl.col(\"data_pax\")).\\\n",
    "    filter(\n",
    "        pl.col(\"time_iot\") >= data_filter_date,\n",
    "        \n",
    "    ).with_columns(\n",
    "        pl.col(\"time_iot\").dt.date().alias(\"date\")\n",
    "    )\n",
    "\n",
    "df_pax.head()"
   ]
  },
  {
   "cell_type": "code",
   "execution_count": 65,
   "id": "e6ea0f33",
   "metadata": {},
   "outputs": [
    {
     "data": {
      "text/plain": [
       "61"
      ]
     },
     "execution_count": 65,
     "metadata": {},
     "output_type": "execute_result"
    }
   ],
   "source": [
    "dates_to_process = df_timematch.select(pl.col(\"date\").unique()).to_series().to_list()\n",
    "len(dates_to_process)"
   ]
  },
  {
   "cell_type": "code",
   "execution_count": 66,
   "id": "b27f3842",
   "metadata": {},
   "outputs": [
    {
     "name": "stderr",
     "output_type": "stream",
     "text": [
      "C:\\Users\\z187070\\AppData\\Local\\Temp\\ipykernel_14388\\426990937.py:14: DeprecationWarning: in a future version, string input will be parsed as a column name rather than a string literal. To silence this warning, pass the input as an expression instead: `pl.lit('before')`\n",
      "  then(\"before\").\\\n",
      "C:\\Users\\z187070\\AppData\\Local\\Temp\\ipykernel_14388\\426990937.py:16: DeprecationWarning: in a future version, string input will be parsed as a column name rather than a string literal. To silence this warning, pass the input as an expression instead: `pl.lit('after')`\n",
      "  then(\"after\").\\\n",
      "C:\\Users\\z187070\\AppData\\Local\\Temp\\ipykernel_14388\\426990937.py:17: DeprecationWarning: in a future version, string input will be parsed as a column name rather than a string literal. To silence this warning, pass the input as an expression instead: `pl.lit('undefined')`\n",
      "  otherwise(\"undefined\")).alias(\"pax_status\")\n"
     ]
    }
   ],
   "source": [
    "for date in dates_to_process:\n",
    "    df_joined_date = df_timematch.filter(\n",
    "            pl.col(\"date\") == date\n",
    "        ).join(\n",
    "            df_pax.filter(pl.col(\"date\") == date),\n",
    "            left_on = \"ereignis_station_id\",\n",
    "            right_on = \"station_id\",\n",
    "            how = \"inner\"\n",
    "        ).filter(\n",
    "            (pl.col(\"time_iot\") >= pl.col(\"begin_tw\")),\n",
    "            (pl.col(\"time_iot\") <= pl.col(\"end_tw\"))\n",
    "        ).with_columns(\n",
    "            pl.when(pl.col(\"time_iot\") <= pl.col(\"ankunft\")).\\\n",
    "                then(\"before\").\\\n",
    "                otherwise(pl.when(pl.col(\"time_iot\") > pl.col(\"ankunft\")).\\\n",
    "                    then(\"after\").\\\n",
    "                    otherwise(\"undefined\")).alias(\"pax_status\")\n",
    "        )\n",
    "    \n",
    "    df_before = df_joined_date.filter(pl.col(\"pax_status\") == \"before\").\\\n",
    "        group_by([\"fahrtid\", \"ereignis_station_id\", \"pax_counter_id\"]).\\\n",
    "        agg(pl.col(\"data_pax\").max().alias(\"data_pax_before\"))\n",
    "\n",
    "    df_after = df_joined_date.filter(pl.col(\"pax_status\") == \"after\").\\\n",
    "        group_by([\"fahrtid\", \"ereignis_station_id\", \"pax_counter_id\"]).\\\n",
    "        agg(pl.col(\"data_pax\").min().alias(\"data_pax_after\"))\n",
    "    \n",
    "    # if len(df_after) != len(df_before):\n",
    "    #     raise ValueError(\"number of entries in after/before not the same\")#\n",
    "    \n",
    "    df_pax_agg = df_before.\\\n",
    "    join(df_after,\n",
    "    on = [\"fahrtid\", \"ereignis_station_id\", \"pax_counter_id\"],\n",
    "    how = \"outer\")\n",
    "\n",
    "    # if len(df_pax_agg) != len(df_before):\n",
    "    #     raise ValueError(\"number of entries changed by joining\")\n",
    "    \n",
    "    id_table = base_data.with_columns(\n",
    "            pl.col(\"zeit_echt\").dt.date().alias(\"date\")\n",
    "        ).filter(\n",
    "            pl.col(\"date\") == date\n",
    "        ).\\\n",
    "        group_by([\"fahrtid\", \"ereignis_station_id\"]).agg(pl.count()).select([\"fahrtid\", \"ereignis_station_id\"])\n",
    "\n",
    "    df_pax_result_date = df_pax_agg.join(id_table, on = [\"fahrtid\", \"ereignis_station_id\"], how = \"left\")\n",
    "\n",
    "    df_pax_result_date.write_parquet(f\"../../data/congestion_data/congestion_data_{region_name}_{mngmt_name}_{date}.parquet\")\n",
    "\n",
    "\n",
    "    "
   ]
  },
  {
   "cell_type": "markdown",
   "id": "62c3c35b",
   "metadata": {},
   "source": [
    "### read all the data in again"
   ]
  },
  {
   "cell_type": "code",
   "execution_count": 67,
   "id": "505071bf",
   "metadata": {},
   "outputs": [
    {
     "data": {
      "text/html": [
       "<div><style>\n",
       ".dataframe > thead > tr,\n",
       ".dataframe > tbody > tr {\n",
       "  text-align: right;\n",
       "  white-space: pre-wrap;\n",
       "}\n",
       "</style>\n",
       "<small>shape: (5, 5)</small><table border=\"1\" class=\"dataframe\"><thead><tr><th>fahrtid</th><th>ereignis_station_id</th><th>pax_counter_id</th><th>data_pax_before</th><th>data_pax_after</th></tr><tr><td>str</td><td>i64</td><td>str</td><td>i64</td><td>i64</td></tr></thead><tbody><tr><td>&quot;20250401-a76bae02-e295-3772-9940-4166d6a9fc2a&quot;</td><td>719</td><td>&quot;083af23fd0df&quot;</td><td>1</td><td>0</td></tr><tr><td>&quot;20250401-e0f62364-07ae-3c02-9f99-6a22ea6bdbd2&quot;</td><td>719</td><td>&quot;083af23fd0df&quot;</td><td>0</td><td>0</td></tr><tr><td>&quot;20250331-ff899981-92b9-3d82-9d06-6a70b5c37244&quot;</td><td>2468</td><td>&quot;083af23ff6e7&quot;</td><td>0</td><td>0</td></tr><tr><td>&quot;20250401-b214bf65-fd12-3014-a05f-8b117c79b311&quot;</td><td>2468</td><td>&quot;083af23ff6e7&quot;</td><td>21</td><td>0</td></tr><tr><td>&quot;20250401-231b1e7f-8706-3724-91ec-b029b643bac2&quot;</td><td>2468</td><td>&quot;083af23ff6e7&quot;</td><td>4</td><td>1</td></tr></tbody></table></div>"
      ],
      "text/plain": [
       "shape: (5, 5)\n",
       "┌────────────────────────┬─────────────────────┬────────────────┬─────────────────┬────────────────┐\n",
       "│ fahrtid                ┆ ereignis_station_id ┆ pax_counter_id ┆ data_pax_before ┆ data_pax_after │\n",
       "│ ---                    ┆ ---                 ┆ ---            ┆ ---             ┆ ---            │\n",
       "│ str                    ┆ i64                 ┆ str            ┆ i64             ┆ i64            │\n",
       "╞════════════════════════╪═════════════════════╪════════════════╪═════════════════╪════════════════╡\n",
       "│ 20250401-a76bae02-e295 ┆ 719                 ┆ 083af23fd0df   ┆ 1               ┆ 0              │\n",
       "│ -3772-9940-4166d6a9fc2 ┆                     ┆                ┆                 ┆                │\n",
       "│ a                      ┆                     ┆                ┆                 ┆                │\n",
       "│ 20250401-e0f62364-07ae ┆ 719                 ┆ 083af23fd0df   ┆ 0               ┆ 0              │\n",
       "│ -3c02-9f99-6a22ea6bdbd ┆                     ┆                ┆                 ┆                │\n",
       "│ 2                      ┆                     ┆                ┆                 ┆                │\n",
       "│ 20250331-ff899981-92b9 ┆ 2468                ┆ 083af23ff6e7   ┆ 0               ┆ 0              │\n",
       "│ -3d82-9d06-6a70b5c3724 ┆                     ┆                ┆                 ┆                │\n",
       "│ 4                      ┆                     ┆                ┆                 ┆                │\n",
       "│ 20250401-b214bf65-fd12 ┆ 2468                ┆ 083af23ff6e7   ┆ 21              ┆ 0              │\n",
       "│ -3014-a05f-8b117c79b31 ┆                     ┆                ┆                 ┆                │\n",
       "│ 1                      ┆                     ┆                ┆                 ┆                │\n",
       "│ 20250401-231b1e7f-8706 ┆ 2468                ┆ 083af23ff6e7   ┆ 4               ┆ 1              │\n",
       "│ -3724-91ec-b029b643bac ┆                     ┆                ┆                 ┆                │\n",
       "│ 2                      ┆                     ┆                ┆                 ┆                │\n",
       "└────────────────────────┴─────────────────────┴────────────────┴─────────────────┴────────────────┘"
      ]
     },
     "execution_count": 67,
     "metadata": {},
     "output_type": "execute_result"
    }
   ],
   "source": [
    "dat = pl.read_parquet(f\"../../data/congestion_data/*.parquet\")\n",
    "dat.head()"
   ]
  },
  {
   "cell_type": "code",
   "execution_count": 68,
   "id": "3596631e",
   "metadata": {},
   "outputs": [
    {
     "data": {
      "text/plain": [
       "140807"
      ]
     },
     "execution_count": 68,
     "metadata": {},
     "output_type": "execute_result"
    }
   ],
   "source": [
    "len(dat)"
   ]
  },
  {
   "cell_type": "code",
   "execution_count": 69,
   "id": "bdf04a12",
   "metadata": {},
   "outputs": [
    {
     "data": {
      "text/plain": [
       "194488"
      ]
     },
     "execution_count": 69,
     "metadata": {},
     "output_type": "execute_result"
    }
   ],
   "source": [
    "len(base_data)"
   ]
  },
  {
   "cell_type": "markdown",
   "id": "52e47947",
   "metadata": {},
   "source": [
    "## data quality checks - what is happening in singular steps"
   ]
  },
  {
   "cell_type": "code",
   "execution_count": 70,
   "id": "b3077fa1",
   "metadata": {},
   "outputs": [],
   "source": [
    "filter_date = date"
   ]
  },
  {
   "cell_type": "code",
   "execution_count": 71,
   "id": "7dfb782b",
   "metadata": {},
   "outputs": [
    {
     "name": "stderr",
     "output_type": "stream",
     "text": [
      "C:\\Users\\z187070\\AppData\\Local\\Temp\\ipykernel_14388\\1511106251.py:13: DeprecationWarning: in a future version, string input will be parsed as a column name rather than a string literal. To silence this warning, pass the input as an expression instead: `pl.lit('before')`\n",
      "  then(\"before\").\\\n",
      "C:\\Users\\z187070\\AppData\\Local\\Temp\\ipykernel_14388\\1511106251.py:15: DeprecationWarning: in a future version, string input will be parsed as a column name rather than a string literal. To silence this warning, pass the input as an expression instead: `pl.lit('after')`\n",
      "  then(\"after\").\\\n",
      "C:\\Users\\z187070\\AppData\\Local\\Temp\\ipykernel_14388\\1511106251.py:16: DeprecationWarning: in a future version, string input will be parsed as a column name rather than a string literal. To silence this warning, pass the input as an expression instead: `pl.lit('undefined')`\n",
      "  otherwise(\"undefined\")).alias(\"pax_status\")\n"
     ]
    },
    {
     "data": {
      "text/html": [
       "<div><style>\n",
       ".dataframe > thead > tr,\n",
       ".dataframe > tbody > tr {\n",
       "  text-align: right;\n",
       "  white-space: pre-wrap;\n",
       "}\n",
       "</style>\n",
       "<small>shape: (5, 11)</small><table border=\"1\" class=\"dataframe\"><thead><tr><th>fahrtid</th><th>ereignis_station_id</th><th>ankunft</th><th>begin_tw</th><th>end_tw</th><th>date</th><th>pax_counter_id</th><th>time_iot</th><th>data_pax</th><th>date_right</th><th>pax_status</th></tr><tr><td>str</td><td>i64</td><td>datetime[μs]</td><td>datetime[μs]</td><td>datetime[μs]</td><td>date</td><td>str</td><td>datetime[μs]</td><td>i64</td><td>date</td><td>str</td></tr></thead><tbody><tr><td>&quot;20250530-ff899981-92b9-3d82-9d06-6a70b5c37244&quot;</td><td>2468</td><td>2025-05-31 00:00:25</td><td>2025-05-30 23:50:25</td><td>2025-05-31 00:05:25</td><td>2025-05-31</td><td>&quot;083af23ff6e7&quot;</td><td>2025-05-31 00:00:17</td><td>0</td><td>2025-05-31</td><td>&quot;before&quot;</td></tr><tr><td>&quot;20250530-ff899981-92b9-3d82-9d06-6a70b5c37244&quot;</td><td>2468</td><td>2025-05-31 00:00:25</td><td>2025-05-30 23:50:25</td><td>2025-05-31 00:05:25</td><td>2025-05-31</td><td>&quot;083af23ff6e7&quot;</td><td>2025-05-31 00:01:17</td><td>0</td><td>2025-05-31</td><td>&quot;after&quot;</td></tr><tr><td>&quot;20250530-ff899981-92b9-3d82-9d06-6a70b5c37244&quot;</td><td>2468</td><td>2025-05-31 00:00:25</td><td>2025-05-30 23:50:25</td><td>2025-05-31 00:05:25</td><td>2025-05-31</td><td>&quot;083af23ff6e7&quot;</td><td>2025-05-31 00:02:17</td><td>0</td><td>2025-05-31</td><td>&quot;after&quot;</td></tr><tr><td>&quot;20250530-ff899981-92b9-3d82-9d06-6a70b5c37244&quot;</td><td>2468</td><td>2025-05-31 00:00:25</td><td>2025-05-30 23:50:25</td><td>2025-05-31 00:05:25</td><td>2025-05-31</td><td>&quot;083af23ff6e7&quot;</td><td>2025-05-31 00:03:17</td><td>0</td><td>2025-05-31</td><td>&quot;after&quot;</td></tr><tr><td>&quot;20250530-ff899981-92b9-3d82-9d06-6a70b5c37244&quot;</td><td>2468</td><td>2025-05-31 00:00:25</td><td>2025-05-30 23:50:25</td><td>2025-05-31 00:05:25</td><td>2025-05-31</td><td>&quot;083af23ff6e7&quot;</td><td>2025-05-31 00:04:17</td><td>0</td><td>2025-05-31</td><td>&quot;after&quot;</td></tr></tbody></table></div>"
      ],
      "text/plain": [
       "shape: (5, 11)\n",
       "┌───────────┬───────────┬───────────┬───────────┬───┬───────────┬──────────┬───────────┬───────────┐\n",
       "│ fahrtid   ┆ ereignis_ ┆ ankunft   ┆ begin_tw  ┆ … ┆ time_iot  ┆ data_pax ┆ date_righ ┆ pax_statu │\n",
       "│ ---       ┆ station_i ┆ ---       ┆ ---       ┆   ┆ ---       ┆ ---      ┆ t         ┆ s         │\n",
       "│ str       ┆ d         ┆ datetime[ ┆ datetime[ ┆   ┆ datetime[ ┆ i64      ┆ ---       ┆ ---       │\n",
       "│           ┆ ---       ┆ μs]       ┆ μs]       ┆   ┆ μs]       ┆          ┆ date      ┆ str       │\n",
       "│           ┆ i64       ┆           ┆           ┆   ┆           ┆          ┆           ┆           │\n",
       "╞═══════════╪═══════════╪═══════════╪═══════════╪═══╪═══════════╪══════════╪═══════════╪═══════════╡\n",
       "│ 20250530- ┆ 2468      ┆ 2025-05-3 ┆ 2025-05-3 ┆ … ┆ 2025-05-3 ┆ 0        ┆ 2025-05-3 ┆ before    │\n",
       "│ ff899981- ┆           ┆ 1         ┆ 0         ┆   ┆ 1         ┆          ┆ 1         ┆           │\n",
       "│ 92b9-3d82 ┆           ┆ 00:00:25  ┆ 23:50:25  ┆   ┆ 00:00:17  ┆          ┆           ┆           │\n",
       "│ -9d06-6a7 ┆           ┆           ┆           ┆   ┆           ┆          ┆           ┆           │\n",
       "│ 0b5c37244 ┆           ┆           ┆           ┆   ┆           ┆          ┆           ┆           │\n",
       "│ 20250530- ┆ 2468      ┆ 2025-05-3 ┆ 2025-05-3 ┆ … ┆ 2025-05-3 ┆ 0        ┆ 2025-05-3 ┆ after     │\n",
       "│ ff899981- ┆           ┆ 1         ┆ 0         ┆   ┆ 1         ┆          ┆ 1         ┆           │\n",
       "│ 92b9-3d82 ┆           ┆ 00:00:25  ┆ 23:50:25  ┆   ┆ 00:01:17  ┆          ┆           ┆           │\n",
       "│ -9d06-6a7 ┆           ┆           ┆           ┆   ┆           ┆          ┆           ┆           │\n",
       "│ 0b5c37244 ┆           ┆           ┆           ┆   ┆           ┆          ┆           ┆           │\n",
       "│ 20250530- ┆ 2468      ┆ 2025-05-3 ┆ 2025-05-3 ┆ … ┆ 2025-05-3 ┆ 0        ┆ 2025-05-3 ┆ after     │\n",
       "│ ff899981- ┆           ┆ 1         ┆ 0         ┆   ┆ 1         ┆          ┆ 1         ┆           │\n",
       "│ 92b9-3d82 ┆           ┆ 00:00:25  ┆ 23:50:25  ┆   ┆ 00:02:17  ┆          ┆           ┆           │\n",
       "│ -9d06-6a7 ┆           ┆           ┆           ┆   ┆           ┆          ┆           ┆           │\n",
       "│ 0b5c37244 ┆           ┆           ┆           ┆   ┆           ┆          ┆           ┆           │\n",
       "│ 20250530- ┆ 2468      ┆ 2025-05-3 ┆ 2025-05-3 ┆ … ┆ 2025-05-3 ┆ 0        ┆ 2025-05-3 ┆ after     │\n",
       "│ ff899981- ┆           ┆ 1         ┆ 0         ┆   ┆ 1         ┆          ┆ 1         ┆           │\n",
       "│ 92b9-3d82 ┆           ┆ 00:00:25  ┆ 23:50:25  ┆   ┆ 00:03:17  ┆          ┆           ┆           │\n",
       "│ -9d06-6a7 ┆           ┆           ┆           ┆   ┆           ┆          ┆           ┆           │\n",
       "│ 0b5c37244 ┆           ┆           ┆           ┆   ┆           ┆          ┆           ┆           │\n",
       "│ 20250530- ┆ 2468      ┆ 2025-05-3 ┆ 2025-05-3 ┆ … ┆ 2025-05-3 ┆ 0        ┆ 2025-05-3 ┆ after     │\n",
       "│ ff899981- ┆           ┆ 1         ┆ 0         ┆   ┆ 1         ┆          ┆ 1         ┆           │\n",
       "│ 92b9-3d82 ┆           ┆ 00:00:25  ┆ 23:50:25  ┆   ┆ 00:04:17  ┆          ┆           ┆           │\n",
       "│ -9d06-6a7 ┆           ┆           ┆           ┆   ┆           ┆          ┆           ┆           │\n",
       "│ 0b5c37244 ┆           ┆           ┆           ┆   ┆           ┆          ┆           ┆           │\n",
       "└───────────┴───────────┴───────────┴───────────┴───┴───────────┴──────────┴───────────┴───────────┘"
      ]
     },
     "execution_count": 71,
     "metadata": {},
     "output_type": "execute_result"
    }
   ],
   "source": [
    "first_try = df_timematch.filter(\n",
    "    pl.col(\"date\") == filter_date\n",
    ").join(\n",
    "    df_pax.filter(pl.col(\"date\") == filter_date),\n",
    "    left_on = \"ereignis_station_id\",\n",
    "    right_on = \"station_id\",\n",
    "    how = \"inner\"\n",
    ").filter(\n",
    "    (pl.col(\"time_iot\") >= pl.col(\"begin_tw\")),\n",
    "    (pl.col(\"time_iot\") <= pl.col(\"end_tw\"))\n",
    ").with_columns(\n",
    "    pl.when(pl.col(\"time_iot\") <= pl.col(\"ankunft\")).\\\n",
    "        then(\"before\").\\\n",
    "        otherwise(pl.when(pl.col(\"time_iot\") > pl.col(\"ankunft\")).\\\n",
    "            then(\"after\").\\\n",
    "            otherwise(\"undefined\")).alias(\"pax_status\")\n",
    ")\n",
    "\n",
    "first_try.head()"
   ]
  },
  {
   "cell_type": "code",
   "execution_count": 72,
   "id": "ea3d7ea5",
   "metadata": {},
   "outputs": [
    {
     "data": {
      "text/html": [
       "<div><style>\n",
       ".dataframe > thead > tr,\n",
       ".dataframe > tbody > tr {\n",
       "  text-align: right;\n",
       "  white-space: pre-wrap;\n",
       "}\n",
       "</style>\n",
       "<small>shape: (2, 1)</small><table border=\"1\" class=\"dataframe\"><thead><tr><th>pax_status</th></tr><tr><td>str</td></tr></thead><tbody><tr><td>&quot;after&quot;</td></tr><tr><td>&quot;before&quot;</td></tr></tbody></table></div>"
      ],
      "text/plain": [
       "shape: (2, 1)\n",
       "┌────────────┐\n",
       "│ pax_status │\n",
       "│ ---        │\n",
       "│ str        │\n",
       "╞════════════╡\n",
       "│ after      │\n",
       "│ before     │\n",
       "└────────────┘"
      ]
     },
     "execution_count": 72,
     "metadata": {},
     "output_type": "execute_result"
    }
   ],
   "source": [
    "first_try.select(pl.col(\"pax_status\").unique())"
   ]
  },
  {
   "cell_type": "code",
   "execution_count": 73,
   "id": "5fc38bd6",
   "metadata": {},
   "outputs": [],
   "source": [
    "df_before = first_try.filter(pl.col(\"pax_status\") == \"before\").\\\n",
    "    group_by([\"fahrtid\", \"ereignis_station_id\", \"pax_counter_id\"]).\\\n",
    "    agg(pl.col(\"data_pax\").max().alias(\"data_pax_before\"))\n",
    "\n",
    "df_after = first_try.filter(pl.col(\"pax_status\") == \"after\").\\\n",
    "    group_by([\"fahrtid\", \"ereignis_station_id\", \"pax_counter_id\"]).\\\n",
    "    agg(pl.col(\"data_pax\").min().alias(\"data_pax_after\"))"
   ]
  },
  {
   "cell_type": "code",
   "execution_count": 74,
   "id": "9922a6f6",
   "metadata": {},
   "outputs": [
    {
     "data": {
      "text/html": [
       "<div><style>\n",
       ".dataframe > thead > tr,\n",
       ".dataframe > tbody > tr {\n",
       "  text-align: right;\n",
       "  white-space: pre-wrap;\n",
       "}\n",
       "</style>\n",
       "<small>shape: (1, 1)</small><table border=\"1\" class=\"dataframe\"><thead><tr><th>count</th></tr><tr><td>u32</td></tr></thead><tbody><tr><td>2007</td></tr></tbody></table></div>"
      ],
      "text/plain": [
       "shape: (1, 1)\n",
       "┌───────┐\n",
       "│ count │\n",
       "│ ---   │\n",
       "│ u32   │\n",
       "╞═══════╡\n",
       "│ 2007  │\n",
       "└───────┘"
      ]
     },
     "execution_count": 74,
     "metadata": {},
     "output_type": "execute_result"
    }
   ],
   "source": [
    "df_before.select(pl.count())"
   ]
  },
  {
   "cell_type": "code",
   "execution_count": 75,
   "id": "1baf1618",
   "metadata": {},
   "outputs": [
    {
     "data": {
      "text/html": [
       "<div><style>\n",
       ".dataframe > thead > tr,\n",
       ".dataframe > tbody > tr {\n",
       "  text-align: right;\n",
       "  white-space: pre-wrap;\n",
       "}\n",
       "</style>\n",
       "<small>shape: (1, 1)</small><table border=\"1\" class=\"dataframe\"><thead><tr><th>count</th></tr><tr><td>u32</td></tr></thead><tbody><tr><td>2007</td></tr></tbody></table></div>"
      ],
      "text/plain": [
       "shape: (1, 1)\n",
       "┌───────┐\n",
       "│ count │\n",
       "│ ---   │\n",
       "│ u32   │\n",
       "╞═══════╡\n",
       "│ 2007  │\n",
       "└───────┘"
      ]
     },
     "execution_count": 75,
     "metadata": {},
     "output_type": "execute_result"
    }
   ],
   "source": [
    "df_after.select(pl.count())"
   ]
  },
  {
   "cell_type": "code",
   "execution_count": 76,
   "id": "df640077",
   "metadata": {},
   "outputs": [],
   "source": [
    "df_pax_agg = df_before.\\\n",
    "    join(df_after,\n",
    "    on = [\"fahrtid\", \"ereignis_station_id\", \"pax_counter_id\"],\n",
    "    how = \"outer\")"
   ]
  },
  {
   "cell_type": "code",
   "execution_count": 77,
   "id": "2d42bd93",
   "metadata": {},
   "outputs": [
    {
     "data": {
      "text/html": [
       "<div><style>\n",
       ".dataframe > thead > tr,\n",
       ".dataframe > tbody > tr {\n",
       "  text-align: right;\n",
       "  white-space: pre-wrap;\n",
       "}\n",
       "</style>\n",
       "<small>shape: (1, 1)</small><table border=\"1\" class=\"dataframe\"><thead><tr><th>count</th></tr><tr><td>u32</td></tr></thead><tbody><tr><td>2007</td></tr></tbody></table></div>"
      ],
      "text/plain": [
       "shape: (1, 1)\n",
       "┌───────┐\n",
       "│ count │\n",
       "│ ---   │\n",
       "│ u32   │\n",
       "╞═══════╡\n",
       "│ 2007  │\n",
       "└───────┘"
      ]
     },
     "execution_count": 77,
     "metadata": {},
     "output_type": "execute_result"
    }
   ],
   "source": [
    "df_pax_agg.select(pl.count())"
   ]
  },
  {
   "cell_type": "code",
   "execution_count": 78,
   "id": "b95a54a5",
   "metadata": {},
   "outputs": [
    {
     "data": {
      "text/html": [
       "<div><style>\n",
       ".dataframe > thead > tr,\n",
       ".dataframe > tbody > tr {\n",
       "  text-align: right;\n",
       "  white-space: pre-wrap;\n",
       "}\n",
       "</style>\n",
       "<small>shape: (0, 5)</small><table border=\"1\" class=\"dataframe\"><thead><tr><th>fahrtid</th><th>ereignis_station_id</th><th>pax_counter_id</th><th>data_pax_before</th><th>data_pax_after</th></tr><tr><td>str</td><td>i64</td><td>str</td><td>i64</td><td>i64</td></tr></thead><tbody></tbody></table></div>"
      ],
      "text/plain": [
       "shape: (0, 5)\n",
       "┌─────────┬─────────────────────┬────────────────┬─────────────────┬────────────────┐\n",
       "│ fahrtid ┆ ereignis_station_id ┆ pax_counter_id ┆ data_pax_before ┆ data_pax_after │\n",
       "│ ---     ┆ ---                 ┆ ---            ┆ ---             ┆ ---            │\n",
       "│ str     ┆ i64                 ┆ str            ┆ i64             ┆ i64            │\n",
       "╞═════════╪═════════════════════╪════════════════╪═════════════════╪════════════════╡\n",
       "└─────────┴─────────────────────┴────────────────┴─────────────────┴────────────────┘"
      ]
     },
     "execution_count": 78,
     "metadata": {},
     "output_type": "execute_result"
    }
   ],
   "source": [
    "df_pax_agg.filter(pl.col(\"data_pax_after\").is_null())"
   ]
  },
  {
   "cell_type": "markdown",
   "id": "0ae02f54",
   "metadata": {},
   "source": [
    "there are multiple sensors on some stations so more rows than in the cleaned timetable are expected\n",
    "\n",
    "\n",
    "maximum should be 3 though"
   ]
  },
  {
   "cell_type": "code",
   "execution_count": 79,
   "id": "bc30e5d0",
   "metadata": {},
   "outputs": [
    {
     "data": {
      "text/html": [
       "<div><style>\n",
       ".dataframe > thead > tr,\n",
       ".dataframe > tbody > tr {\n",
       "  text-align: right;\n",
       "  white-space: pre-wrap;\n",
       "}\n",
       "</style>\n",
       "<small>shape: (5, 3)</small><table border=\"1\" class=\"dataframe\"><thead><tr><th>fahrtid</th><th>ereignis_station_id</th><th>count</th></tr><tr><td>str</td><td>i64</td><td>u32</td></tr></thead><tbody><tr><td>&quot;20250531-85bddbbb-93dc-3a50-957d-b6df1875bbee&quot;</td><td>2877</td><td>3</td></tr><tr><td>&quot;20250531-63ffe076-e958-342c-b7de-ecd4bcaeb56a&quot;</td><td>2877</td><td>3</td></tr><tr><td>&quot;20250531-a3b5a3e5-ba49-3729-884b-e9c60a104c6e&quot;</td><td>2877</td><td>3</td></tr><tr><td>&quot;20250530-9b2fdb57-9909-3d79-92f2-7fd4cdcaa770&quot;</td><td>2877</td><td>3</td></tr><tr><td>&quot;20250531-335a73d9-d4dc-3dcc-b1f8-a27d383cc1fb&quot;</td><td>2877</td><td>3</td></tr></tbody></table></div>"
      ],
      "text/plain": [
       "shape: (5, 3)\n",
       "┌───────────────────────────────────────────────┬─────────────────────┬───────┐\n",
       "│ fahrtid                                       ┆ ereignis_station_id ┆ count │\n",
       "│ ---                                           ┆ ---                 ┆ ---   │\n",
       "│ str                                           ┆ i64                 ┆ u32   │\n",
       "╞═══════════════════════════════════════════════╪═════════════════════╪═══════╡\n",
       "│ 20250531-85bddbbb-93dc-3a50-957d-b6df1875bbee ┆ 2877                ┆ 3     │\n",
       "│ 20250531-63ffe076-e958-342c-b7de-ecd4bcaeb56a ┆ 2877                ┆ 3     │\n",
       "│ 20250531-a3b5a3e5-ba49-3729-884b-e9c60a104c6e ┆ 2877                ┆ 3     │\n",
       "│ 20250530-9b2fdb57-9909-3d79-92f2-7fd4cdcaa770 ┆ 2877                ┆ 3     │\n",
       "│ 20250531-335a73d9-d4dc-3dcc-b1f8-a27d383cc1fb ┆ 2877                ┆ 3     │\n",
       "└───────────────────────────────────────────────┴─────────────────────┴───────┘"
      ]
     },
     "execution_count": 79,
     "metadata": {},
     "output_type": "execute_result"
    }
   ],
   "source": [
    "df_pax_agg.group_by([\"fahrtid\", \"ereignis_station_id\"]).agg(pl.count()).sort(\"count\", descending=True).head()"
   ]
  },
  {
   "cell_type": "code",
   "execution_count": 80,
   "id": "c7d6b014",
   "metadata": {},
   "outputs": [],
   "source": [
    "id_table = base_data.with_columns(\n",
    "        pl.col(\"zeit_echt\").dt.date().alias(\"date\")\n",
    "    ).filter(\n",
    "        pl.col(\"date\") == filter_date\n",
    "    ).\\\n",
    "    group_by([\"fahrtid\", \"ereignis_station_id\"]).agg(pl.count()).select([\"fahrtid\", \"ereignis_station_id\"])"
   ]
  },
  {
   "cell_type": "code",
   "execution_count": 81,
   "id": "93951f7c",
   "metadata": {},
   "outputs": [
    {
     "data": {
      "text/html": [
       "<div><style>\n",
       ".dataframe > thead > tr,\n",
       ".dataframe > tbody > tr {\n",
       "  text-align: right;\n",
       "  white-space: pre-wrap;\n",
       "}\n",
       "</style>\n",
       "<small>shape: (5, 2)</small><table border=\"1\" class=\"dataframe\"><thead><tr><th>fahrtid</th><th>ereignis_station_id</th></tr><tr><td>str</td><td>i64</td></tr></thead><tbody><tr><td>&quot;20250531-111e729c-ca37-3d2a-b644-96b92a053b1a&quot;</td><td>5315</td></tr><tr><td>&quot;20250531-72a03faa-5797-3264-90e9-d7f08d7eac96&quot;</td><td>5315</td></tr><tr><td>&quot;20250531-e364c3f3-3d19-3698-91eb-abbd8502077f&quot;</td><td>5368</td></tr><tr><td>&quot;20250531-3d2fc978-da63-31e5-af96-d2c37947188e&quot;</td><td>2877</td></tr><tr><td>&quot;20250531-869bd327-460e-35d0-89e9-eb9dd3a32c01&quot;</td><td>5756</td></tr></tbody></table></div>"
      ],
      "text/plain": [
       "shape: (5, 2)\n",
       "┌───────────────────────────────────────────────┬─────────────────────┐\n",
       "│ fahrtid                                       ┆ ereignis_station_id │\n",
       "│ ---                                           ┆ ---                 │\n",
       "│ str                                           ┆ i64                 │\n",
       "╞═══════════════════════════════════════════════╪═════════════════════╡\n",
       "│ 20250531-111e729c-ca37-3d2a-b644-96b92a053b1a ┆ 5315                │\n",
       "│ 20250531-72a03faa-5797-3264-90e9-d7f08d7eac96 ┆ 5315                │\n",
       "│ 20250531-e364c3f3-3d19-3698-91eb-abbd8502077f ┆ 5368                │\n",
       "│ 20250531-3d2fc978-da63-31e5-af96-d2c37947188e ┆ 2877                │\n",
       "│ 20250531-869bd327-460e-35d0-89e9-eb9dd3a32c01 ┆ 5756                │\n",
       "└───────────────────────────────────────────────┴─────────────────────┘"
      ]
     },
     "execution_count": 81,
     "metadata": {},
     "output_type": "execute_result"
    }
   ],
   "source": [
    "id_table.head()"
   ]
  },
  {
   "cell_type": "code",
   "execution_count": 82,
   "id": "bdf26059",
   "metadata": {},
   "outputs": [],
   "source": [
    "df_pax_result = df_pax_agg.join(id_table, on = [\"fahrtid\", \"ereignis_station_id\"], how = \"left\")"
   ]
  },
  {
   "cell_type": "code",
   "execution_count": 83,
   "id": "eb833e89",
   "metadata": {},
   "outputs": [
    {
     "data": {
      "text/html": [
       "<div><style>\n",
       ".dataframe > thead > tr,\n",
       ".dataframe > tbody > tr {\n",
       "  text-align: right;\n",
       "  white-space: pre-wrap;\n",
       "}\n",
       "</style>\n",
       "<small>shape: (5, 5)</small><table border=\"1\" class=\"dataframe\"><thead><tr><th>fahrtid</th><th>ereignis_station_id</th><th>pax_counter_id</th><th>data_pax_before</th><th>data_pax_after</th></tr><tr><td>str</td><td>i64</td><td>str</td><td>i64</td><td>i64</td></tr></thead><tbody><tr><td>&quot;20250530-ff899981-92b9-3d82-9d06-6a70b5c37244&quot;</td><td>2468</td><td>&quot;083af23ff6e7&quot;</td><td>0</td><td>0</td></tr><tr><td>&quot;20250531-dfaca6cf-e249-3537-8608-07b14302a767&quot;</td><td>2468</td><td>&quot;083af23ff6e7&quot;</td><td>0</td><td>0</td></tr><tr><td>&quot;20250531-98f84d4a-4740-3f3d-8279-168e0e6ecfb7&quot;</td><td>2468</td><td>&quot;083af23ff6e7&quot;</td><td>9</td><td>2</td></tr><tr><td>&quot;20250531-79fc2284-da1f-363c-95a1-4b323356a0e8&quot;</td><td>2468</td><td>&quot;083af23ff6e7&quot;</td><td>8</td><td>3</td></tr><tr><td>&quot;20250531-79356123-042a-34ee-beb1-b24aff8863c1&quot;</td><td>2468</td><td>&quot;083af23ff6e7&quot;</td><td>6</td><td>0</td></tr></tbody></table></div>"
      ],
      "text/plain": [
       "shape: (5, 5)\n",
       "┌────────────────────────┬─────────────────────┬────────────────┬─────────────────┬────────────────┐\n",
       "│ fahrtid                ┆ ereignis_station_id ┆ pax_counter_id ┆ data_pax_before ┆ data_pax_after │\n",
       "│ ---                    ┆ ---                 ┆ ---            ┆ ---             ┆ ---            │\n",
       "│ str                    ┆ i64                 ┆ str            ┆ i64             ┆ i64            │\n",
       "╞════════════════════════╪═════════════════════╪════════════════╪═════════════════╪════════════════╡\n",
       "│ 20250530-ff899981-92b9 ┆ 2468                ┆ 083af23ff6e7   ┆ 0               ┆ 0              │\n",
       "│ -3d82-9d06-6a70b5c3724 ┆                     ┆                ┆                 ┆                │\n",
       "│ 4                      ┆                     ┆                ┆                 ┆                │\n",
       "│ 20250531-dfaca6cf-e249 ┆ 2468                ┆ 083af23ff6e7   ┆ 0               ┆ 0              │\n",
       "│ -3537-8608-07b14302a76 ┆                     ┆                ┆                 ┆                │\n",
       "│ 7                      ┆                     ┆                ┆                 ┆                │\n",
       "│ 20250531-98f84d4a-4740 ┆ 2468                ┆ 083af23ff6e7   ┆ 9               ┆ 2              │\n",
       "│ -3f3d-8279-168e0e6ecfb ┆                     ┆                ┆                 ┆                │\n",
       "│ 7                      ┆                     ┆                ┆                 ┆                │\n",
       "│ 20250531-79fc2284-da1f ┆ 2468                ┆ 083af23ff6e7   ┆ 8               ┆ 3              │\n",
       "│ -363c-95a1-4b323356a0e ┆                     ┆                ┆                 ┆                │\n",
       "│ 8                      ┆                     ┆                ┆                 ┆                │\n",
       "│ 20250531-79356123-042a ┆ 2468                ┆ 083af23ff6e7   ┆ 6               ┆ 0              │\n",
       "│ -34ee-beb1-b24aff8863c ┆                     ┆                ┆                 ┆                │\n",
       "│ 1                      ┆                     ┆                ┆                 ┆                │\n",
       "└────────────────────────┴─────────────────────┴────────────────┴─────────────────┴────────────────┘"
      ]
     },
     "execution_count": 83,
     "metadata": {},
     "output_type": "execute_result"
    }
   ],
   "source": [
    "df_pax_result.head()"
   ]
  },
  {
   "cell_type": "markdown",
   "id": "e10e17f5",
   "metadata": {},
   "source": [
    "### something isn't quite right with the data it seems - if i merge the other way around, null entries exist but those sensors should work"
   ]
  },
  {
   "cell_type": "code",
   "execution_count": 84,
   "id": "b997649f",
   "metadata": {},
   "outputs": [
    {
     "data": {
      "text/html": [
       "<div><style>\n",
       ".dataframe > thead > tr,\n",
       ".dataframe > tbody > tr {\n",
       "  text-align: right;\n",
       "  white-space: pre-wrap;\n",
       "}\n",
       "</style>\n",
       "<small>shape: (2_348, 5)</small><table border=\"1\" class=\"dataframe\"><thead><tr><th>fahrtid</th><th>ereignis_station_id</th><th>pax_counter_id</th><th>data_pax_before</th><th>data_pax_after</th></tr><tr><td>str</td><td>i64</td><td>str</td><td>i64</td><td>i64</td></tr></thead><tbody><tr><td>&quot;20250530-ff899981-92b9-3d82-9d06-6a70b5c37244&quot;</td><td>2468</td><td>&quot;083af23ff6e7&quot;</td><td>0</td><td>0</td></tr><tr><td>&quot;20250531-dfaca6cf-e249-3537-8608-07b14302a767&quot;</td><td>2468</td><td>&quot;083af23ff6e7&quot;</td><td>0</td><td>0</td></tr><tr><td>&quot;20250531-98f84d4a-4740-3f3d-8279-168e0e6ecfb7&quot;</td><td>2468</td><td>&quot;083af23ff6e7&quot;</td><td>9</td><td>2</td></tr><tr><td>&quot;20250531-79fc2284-da1f-363c-95a1-4b323356a0e8&quot;</td><td>2468</td><td>&quot;083af23ff6e7&quot;</td><td>8</td><td>3</td></tr><tr><td>&quot;20250531-79356123-042a-34ee-beb1-b24aff8863c1&quot;</td><td>2468</td><td>&quot;083af23ff6e7&quot;</td><td>6</td><td>0</td></tr><tr><td>&quot;20250531-ae1946cc-8037-3f22-8cb8-2646523b59ca&quot;</td><td>2468</td><td>&quot;083af23ff6e7&quot;</td><td>4</td><td>4</td></tr><tr><td>&quot;20250531-03ae607e-607f-3d23-9d83-a8b9ec6bf7ba&quot;</td><td>2468</td><td>&quot;083af23ff6e7&quot;</td><td>13</td><td>3</td></tr><tr><td>&quot;20250531-e602e1b4-f150-3baa-b31b-4426e89b9bf8&quot;</td><td>2468</td><td>&quot;083af23ff6e7&quot;</td><td>9</td><td>1</td></tr><tr><td>&quot;20250531-c288f1e4-9ee5-38e9-b41e-5fd9898b42f3&quot;</td><td>2468</td><td>&quot;083af23ff6e7&quot;</td><td>5</td><td>0</td></tr><tr><td>&quot;20250531-a01badeb-dc57-3c58-ae7d-c96f06e586c8&quot;</td><td>2468</td><td>&quot;083af23ff6e7&quot;</td><td>1</td><td>0</td></tr><tr><td>&quot;20250531-14896b45-4a5c-3978-b9e6-7394aa18aab8&quot;</td><td>2468</td><td>&quot;083af23ff6e7&quot;</td><td>2</td><td>0</td></tr><tr><td>&quot;20250531-2740e33b-7843-376b-95c7-84204a63c79e&quot;</td><td>2468</td><td>&quot;083af23ff6e7&quot;</td><td>9</td><td>0</td></tr><tr><td>&hellip;</td><td>&hellip;</td><td>&hellip;</td><td>&hellip;</td><td>&hellip;</td></tr><tr><td>&quot;20250531-45d2aba9-b7b5-3de3-aec5-a5eba51f4695&quot;</td><td>4813</td><td>null</td><td>null</td><td>null</td></tr><tr><td>&quot;20250531-9ef1b8f3-f4a0-3567-8c86-322bf323fc58&quot;</td><td>1263</td><td>null</td><td>null</td><td>null</td></tr><tr><td>&quot;20250531-462e10e7-0a7a-3707-819d-b38cdabc344c&quot;</td><td>6173</td><td>null</td><td>null</td><td>null</td></tr><tr><td>&quot;20250531-bac0cca8-31e1-3bd4-9e3e-525f72129173&quot;</td><td>3830</td><td>null</td><td>null</td><td>null</td></tr><tr><td>&quot;20250531-5a4849c8-aae1-3ce6-b26d-70130e7ef221&quot;</td><td>7983</td><td>null</td><td>null</td><td>null</td></tr><tr><td>&quot;20250531-7fe35835-92b5-3d7f-82c2-5be87edc3fe1&quot;</td><td>3830</td><td>null</td><td>null</td><td>null</td></tr><tr><td>&quot;20250531-84a6f704-3437-3e49-b40d-b8e405564672&quot;</td><td>2730</td><td>null</td><td>null</td><td>null</td></tr><tr><td>&quot;20250531-c7ebd0f9-4cfa-3aea-a42b-6e99db52140b&quot;</td><td>4864</td><td>null</td><td>null</td><td>null</td></tr><tr><td>&quot;20250531-f3507823-8070-3c72-aeb2-61fb67b79574&quot;</td><td>2311</td><td>null</td><td>null</td><td>null</td></tr><tr><td>&quot;20250531-58a1dc17-e51c-321b-a6aa-9aa0e489c3b8&quot;</td><td>1263</td><td>null</td><td>null</td><td>null</td></tr><tr><td>&quot;20250531-10a1ea46-0c07-34c2-83b7-a9c117249e97&quot;</td><td>5315</td><td>null</td><td>null</td><td>null</td></tr><tr><td>&quot;20250531-ed449050-ff17-38f2-9cd7-504dcb5fb1fb&quot;</td><td>121</td><td>null</td><td>null</td><td>null</td></tr></tbody></table></div>"
      ],
      "text/plain": [
       "shape: (2_348, 5)\n",
       "┌────────────────────────┬─────────────────────┬────────────────┬─────────────────┬────────────────┐\n",
       "│ fahrtid                ┆ ereignis_station_id ┆ pax_counter_id ┆ data_pax_before ┆ data_pax_after │\n",
       "│ ---                    ┆ ---                 ┆ ---            ┆ ---             ┆ ---            │\n",
       "│ str                    ┆ i64                 ┆ str            ┆ i64             ┆ i64            │\n",
       "╞════════════════════════╪═════════════════════╪════════════════╪═════════════════╪════════════════╡\n",
       "│ 20250530-ff899981-92b9 ┆ 2468                ┆ 083af23ff6e7   ┆ 0               ┆ 0              │\n",
       "│ -3d82-9d06-6a70b5c3724 ┆                     ┆                ┆                 ┆                │\n",
       "│ 4                      ┆                     ┆                ┆                 ┆                │\n",
       "│ 20250531-dfaca6cf-e249 ┆ 2468                ┆ 083af23ff6e7   ┆ 0               ┆ 0              │\n",
       "│ -3537-8608-07b14302a76 ┆                     ┆                ┆                 ┆                │\n",
       "│ 7                      ┆                     ┆                ┆                 ┆                │\n",
       "│ 20250531-98f84d4a-4740 ┆ 2468                ┆ 083af23ff6e7   ┆ 9               ┆ 2              │\n",
       "│ -3f3d-8279-168e0e6ecfb ┆                     ┆                ┆                 ┆                │\n",
       "│ 7                      ┆                     ┆                ┆                 ┆                │\n",
       "│ 20250531-79fc2284-da1f ┆ 2468                ┆ 083af23ff6e7   ┆ 8               ┆ 3              │\n",
       "│ -363c-95a1-4b323356a0e ┆                     ┆                ┆                 ┆                │\n",
       "│ 8                      ┆                     ┆                ┆                 ┆                │\n",
       "│ …                      ┆ …                   ┆ …              ┆ …               ┆ …              │\n",
       "│ 20250531-f3507823-8070 ┆ 2311                ┆ null           ┆ null            ┆ null           │\n",
       "│ -3c72-aeb2-61fb67b7957 ┆                     ┆                ┆                 ┆                │\n",
       "│ 4                      ┆                     ┆                ┆                 ┆                │\n",
       "│ 20250531-58a1dc17-e51c ┆ 1263                ┆ null           ┆ null            ┆ null           │\n",
       "│ -321b-a6aa-9aa0e489c3b ┆                     ┆                ┆                 ┆                │\n",
       "│ 8                      ┆                     ┆                ┆                 ┆                │\n",
       "│ 20250531-10a1ea46-0c07 ┆ 5315                ┆ null           ┆ null            ┆ null           │\n",
       "│ -34c2-83b7-a9c117249e9 ┆                     ┆                ┆                 ┆                │\n",
       "│ 7                      ┆                     ┆                ┆                 ┆                │\n",
       "│ 20250531-ed449050-ff17 ┆ 121                 ┆ null           ┆ null            ┆ null           │\n",
       "│ -38f2-9cd7-504dcb5fb1f ┆                     ┆                ┆                 ┆                │\n",
       "│ b                      ┆                     ┆                ┆                 ┆                │\n",
       "└────────────────────────┴─────────────────────┴────────────────┴─────────────────┴────────────────┘"
      ]
     },
     "execution_count": 84,
     "metadata": {},
     "output_type": "execute_result"
    }
   ],
   "source": [
    "result = id_table.join(df_pax_agg, \n",
    "    on = [\"fahrtid\", \"ereignis_station_id\"],\n",
    "    how = \"outer\")\n",
    "\n",
    "result"
   ]
  },
  {
   "cell_type": "code",
   "execution_count": 85,
   "id": "ad941419",
   "metadata": {},
   "outputs": [
    {
     "data": {
      "text/html": [
       "<div><style>\n",
       ".dataframe > thead > tr,\n",
       ".dataframe > tbody > tr {\n",
       "  text-align: right;\n",
       "  white-space: pre-wrap;\n",
       "}\n",
       "</style>\n",
       "<small>shape: (5, 5)</small><table border=\"1\" class=\"dataframe\"><thead><tr><th>fahrtid</th><th>ereignis_station_id</th><th>pax_counter_id</th><th>data_pax_before</th><th>data_pax_after</th></tr><tr><td>str</td><td>i64</td><td>str</td><td>i64</td><td>i64</td></tr></thead><tbody><tr><td>&quot;20250531-9e7c7e60-81e4-3c79-8474-802ea12b78bb&quot;</td><td>6961</td><td>null</td><td>null</td><td>null</td></tr><tr><td>&quot;20250531-fce9dd6b-6f59-3939-9fd8-5a13a0b9e35c&quot;</td><td>6173</td><td>null</td><td>null</td><td>null</td></tr><tr><td>&quot;20250531-79fc2284-da1f-363c-95a1-4b323356a0e8&quot;</td><td>4864</td><td>null</td><td>null</td><td>null</td></tr><tr><td>&quot;20250531-def53227-64a8-3e07-8ab2-f7582fff01be&quot;</td><td>4166</td><td>null</td><td>null</td><td>null</td></tr><tr><td>&quot;20250531-83336008-1661-3dd4-93a2-f45fc1538246&quot;</td><td>3830</td><td>null</td><td>null</td><td>null</td></tr></tbody></table></div>"
      ],
      "text/plain": [
       "shape: (5, 5)\n",
       "┌────────────────────────┬─────────────────────┬────────────────┬─────────────────┬────────────────┐\n",
       "│ fahrtid                ┆ ereignis_station_id ┆ pax_counter_id ┆ data_pax_before ┆ data_pax_after │\n",
       "│ ---                    ┆ ---                 ┆ ---            ┆ ---             ┆ ---            │\n",
       "│ str                    ┆ i64                 ┆ str            ┆ i64             ┆ i64            │\n",
       "╞════════════════════════╪═════════════════════╪════════════════╪═════════════════╪════════════════╡\n",
       "│ 20250531-9e7c7e60-81e4 ┆ 6961                ┆ null           ┆ null            ┆ null           │\n",
       "│ -3c79-8474-802ea12b78b ┆                     ┆                ┆                 ┆                │\n",
       "│ b                      ┆                     ┆                ┆                 ┆                │\n",
       "│ 20250531-fce9dd6b-6f59 ┆ 6173                ┆ null           ┆ null            ┆ null           │\n",
       "│ -3939-9fd8-5a13a0b9e35 ┆                     ┆                ┆                 ┆                │\n",
       "│ c                      ┆                     ┆                ┆                 ┆                │\n",
       "│ 20250531-79fc2284-da1f ┆ 4864                ┆ null           ┆ null            ┆ null           │\n",
       "│ -363c-95a1-4b323356a0e ┆                     ┆                ┆                 ┆                │\n",
       "│ 8                      ┆                     ┆                ┆                 ┆                │\n",
       "│ 20250531-def53227-64a8 ┆ 4166                ┆ null           ┆ null            ┆ null           │\n",
       "│ -3e07-8ab2-f7582fff01b ┆                     ┆                ┆                 ┆                │\n",
       "│ e                      ┆                     ┆                ┆                 ┆                │\n",
       "│ 20250531-83336008-1661 ┆ 3830                ┆ null           ┆ null            ┆ null           │\n",
       "│ -3dd4-93a2-f45fc153824 ┆                     ┆                ┆                 ┆                │\n",
       "│ 6                      ┆                     ┆                ┆                 ┆                │\n",
       "└────────────────────────┴─────────────────────┴────────────────┴─────────────────┴────────────────┘"
      ]
     },
     "execution_count": 85,
     "metadata": {},
     "output_type": "execute_result"
    }
   ],
   "source": [
    "result_nulls = result.filter(pl.col(\"pax_counter_id\").is_null())\n",
    "result_nulls.head()"
   ]
  },
  {
   "cell_type": "code",
   "execution_count": 86,
   "id": "956a269d",
   "metadata": {},
   "outputs": [
    {
     "data": {
      "text/html": [
       "<div><style>\n",
       ".dataframe > thead > tr,\n",
       ".dataframe > tbody > tr {\n",
       "  text-align: right;\n",
       "  white-space: pre-wrap;\n",
       "}\n",
       "</style>\n",
       "<small>shape: (1, 8)</small><table border=\"1\" class=\"dataframe\"><thead><tr><th>fahrtid</th><th>ereignis_station_id</th><th>zeit_echt</th><th>zeit_echt_verspaetung</th><th>gleis_echt</th><th>tpname_bahnsteig_echt</th><th>gattung</th><th>case</th></tr><tr><td>str</td><td>i64</td><td>str</td><td>i64</td><td>str</td><td>str</td><td>str</td><td>str</td></tr></thead><tbody><tr><td>&quot;20250515-51adc984-0a84-3e60-a391-665c5d3c6136&quot;</td><td>7983</td><td>&quot;2025-05-15 09:17:20&quot;</td><td>1</td><td>&quot;07983-01-B01-G01&quot;</td><td>&quot;Bahnsteig 01&quot;</td><td>&quot;RB&quot;</td><td>&quot;abfahrt&quot;</td></tr></tbody></table></div>"
      ],
      "text/plain": [
       "shape: (1, 8)\n",
       "┌─────────────┬────────────┬────────────┬────────────┬────────────┬────────────┬─────────┬─────────┐\n",
       "│ fahrtid     ┆ ereignis_s ┆ zeit_echt  ┆ zeit_echt_ ┆ gleis_echt ┆ tpname_bah ┆ gattung ┆ case    │\n",
       "│ ---         ┆ tation_id  ┆ ---        ┆ verspaetun ┆ ---        ┆ nsteig_ech ┆ ---     ┆ ---     │\n",
       "│ str         ┆ ---        ┆ str        ┆ g          ┆ str        ┆ t          ┆ str     ┆ str     │\n",
       "│             ┆ i64        ┆            ┆ ---        ┆            ┆ ---        ┆         ┆         │\n",
       "│             ┆            ┆            ┆ i64        ┆            ┆ str        ┆         ┆         │\n",
       "╞═════════════╪════════════╪════════════╪════════════╪════════════╪════════════╪═════════╪═════════╡\n",
       "│ 20250515-51 ┆ 7983       ┆ 2025-05-15 ┆ 1          ┆ 07983-01-B ┆ Bahnsteig  ┆ RB      ┆ abfahrt │\n",
       "│ adc984-0a84 ┆            ┆ 09:17:20   ┆            ┆ 01-G01     ┆ 01         ┆         ┆         │\n",
       "│ -3e60-a391- ┆            ┆            ┆            ┆            ┆            ┆         ┆         │\n",
       "│ 665c5d3c613 ┆            ┆            ┆            ┆            ┆            ┆         ┆         │\n",
       "│ 6           ┆            ┆            ┆            ┆            ┆            ┆         ┆         │\n",
       "└─────────────┴────────────┴────────────┴────────────┴────────────┴────────────┴─────────┴─────────┘"
      ]
     },
     "execution_count": 86,
     "metadata": {},
     "output_type": "execute_result"
    }
   ],
   "source": [
    "ris.filter(pl.col(\"ereignis_station_id\") == 7983,\n",
    "           pl.col(\"fahrtid\") == '20250515-51adc984-0a84-3e60-a391-665c5d3c6136')"
   ]
  },
  {
   "cell_type": "code",
   "execution_count": 87,
   "id": "78dc7dea",
   "metadata": {},
   "outputs": [
    {
     "data": {
      "text/html": [
       "<div><style>\n",
       ".dataframe > thead > tr,\n",
       ".dataframe > tbody > tr {\n",
       "  text-align: right;\n",
       "  white-space: pre-wrap;\n",
       "}\n",
       "</style>\n",
       "<small>shape: (14, 8)</small><table border=\"1\" class=\"dataframe\"><thead><tr><th>pax_counter_id</th><th>time_iot</th><th>data_pax</th><th>station_id</th><th>station_name</th><th>tpname</th><th>station_longitude</th><th>station_latitude</th></tr><tr><td>str</td><td>str</td><td>i64</td><td>i64</td><td>str</td><td>str</td><td>f64</td><td>f64</td></tr></thead><tbody><tr><td>&quot;3494545a2a77&quot;</td><td>&quot;2025-05-15 09:07:14&quot;</td><td>0</td><td>7983</td><td>&quot;Tessin West&quot;</td><td>&quot;Bahnsteig 01&quot;</td><td>12.44257</td><td>54.034436</td></tr><tr><td>&quot;3494545a2a77&quot;</td><td>&quot;2025-05-15 09:08:14&quot;</td><td>0</td><td>7983</td><td>&quot;Tessin West&quot;</td><td>&quot;Bahnsteig 01&quot;</td><td>12.44257</td><td>54.034436</td></tr><tr><td>&quot;3494545a2a77&quot;</td><td>&quot;2025-05-15 09:09:14&quot;</td><td>0</td><td>7983</td><td>&quot;Tessin West&quot;</td><td>&quot;Bahnsteig 01&quot;</td><td>12.44257</td><td>54.034436</td></tr><tr><td>&quot;3494545a2a77&quot;</td><td>&quot;2025-05-15 09:10:14&quot;</td><td>0</td><td>7983</td><td>&quot;Tessin West&quot;</td><td>&quot;Bahnsteig 01&quot;</td><td>12.44257</td><td>54.034436</td></tr><tr><td>&quot;3494545a2a77&quot;</td><td>&quot;2025-05-15 09:11:14&quot;</td><td>0</td><td>7983</td><td>&quot;Tessin West&quot;</td><td>&quot;Bahnsteig 01&quot;</td><td>12.44257</td><td>54.034436</td></tr><tr><td>&quot;3494545a2a77&quot;</td><td>&quot;2025-05-15 09:12:14&quot;</td><td>0</td><td>7983</td><td>&quot;Tessin West&quot;</td><td>&quot;Bahnsteig 01&quot;</td><td>12.44257</td><td>54.034436</td></tr><tr><td>&quot;3494545a2a77&quot;</td><td>&quot;2025-05-15 09:13:15&quot;</td><td>0</td><td>7983</td><td>&quot;Tessin West&quot;</td><td>&quot;Bahnsteig 01&quot;</td><td>12.44257</td><td>54.034436</td></tr><tr><td>&quot;3494545a2a77&quot;</td><td>&quot;2025-05-15 09:14:14&quot;</td><td>0</td><td>7983</td><td>&quot;Tessin West&quot;</td><td>&quot;Bahnsteig 01&quot;</td><td>12.44257</td><td>54.034436</td></tr><tr><td>&quot;3494545a2a77&quot;</td><td>&quot;2025-05-15 09:15:14&quot;</td><td>0</td><td>7983</td><td>&quot;Tessin West&quot;</td><td>&quot;Bahnsteig 01&quot;</td><td>12.44257</td><td>54.034436</td></tr><tr><td>&quot;3494545a2a77&quot;</td><td>&quot;2025-05-15 09:16:14&quot;</td><td>0</td><td>7983</td><td>&quot;Tessin West&quot;</td><td>&quot;Bahnsteig 01&quot;</td><td>12.44257</td><td>54.034436</td></tr><tr><td>&quot;3494545a2a77&quot;</td><td>&quot;2025-05-15 09:17:14&quot;</td><td>0</td><td>7983</td><td>&quot;Tessin West&quot;</td><td>&quot;Bahnsteig 01&quot;</td><td>12.44257</td><td>54.034436</td></tr><tr><td>&quot;3494545a2a77&quot;</td><td>&quot;2025-05-15 09:18:14&quot;</td><td>0</td><td>7983</td><td>&quot;Tessin West&quot;</td><td>&quot;Bahnsteig 01&quot;</td><td>12.44257</td><td>54.034436</td></tr><tr><td>&quot;3494545a2a77&quot;</td><td>&quot;2025-05-15 09:19:14&quot;</td><td>0</td><td>7983</td><td>&quot;Tessin West&quot;</td><td>&quot;Bahnsteig 01&quot;</td><td>12.44257</td><td>54.034436</td></tr><tr><td>&quot;3494545a2a77&quot;</td><td>&quot;2025-05-15 09:20:14&quot;</td><td>0</td><td>7983</td><td>&quot;Tessin West&quot;</td><td>&quot;Bahnsteig 01&quot;</td><td>12.44257</td><td>54.034436</td></tr></tbody></table></div>"
      ],
      "text/plain": [
       "shape: (14, 8)\n",
       "┌────────────┬────────────┬──────────┬────────────┬────────────┬───────────┬───────────┬───────────┐\n",
       "│ pax_counte ┆ time_iot   ┆ data_pax ┆ station_id ┆ station_na ┆ tpname    ┆ station_l ┆ station_l │\n",
       "│ r_id       ┆ ---        ┆ ---      ┆ ---        ┆ me         ┆ ---       ┆ ongitude  ┆ atitude   │\n",
       "│ ---        ┆ str        ┆ i64      ┆ i64        ┆ ---        ┆ str       ┆ ---       ┆ ---       │\n",
       "│ str        ┆            ┆          ┆            ┆ str        ┆           ┆ f64       ┆ f64       │\n",
       "╞════════════╪════════════╪══════════╪════════════╪════════════╪═══════════╪═══════════╪═══════════╡\n",
       "│ 3494545a2a ┆ 2025-05-15 ┆ 0        ┆ 7983       ┆ Tessin     ┆ Bahnsteig ┆ 12.44257  ┆ 54.034436 │\n",
       "│ 77         ┆ 09:07:14   ┆          ┆            ┆ West       ┆ 01        ┆           ┆           │\n",
       "│ 3494545a2a ┆ 2025-05-15 ┆ 0        ┆ 7983       ┆ Tessin     ┆ Bahnsteig ┆ 12.44257  ┆ 54.034436 │\n",
       "│ 77         ┆ 09:08:14   ┆          ┆            ┆ West       ┆ 01        ┆           ┆           │\n",
       "│ 3494545a2a ┆ 2025-05-15 ┆ 0        ┆ 7983       ┆ Tessin     ┆ Bahnsteig ┆ 12.44257  ┆ 54.034436 │\n",
       "│ 77         ┆ 09:09:14   ┆          ┆            ┆ West       ┆ 01        ┆           ┆           │\n",
       "│ 3494545a2a ┆ 2025-05-15 ┆ 0        ┆ 7983       ┆ Tessin     ┆ Bahnsteig ┆ 12.44257  ┆ 54.034436 │\n",
       "│ 77         ┆ 09:10:14   ┆          ┆            ┆ West       ┆ 01        ┆           ┆           │\n",
       "│ …          ┆ …          ┆ …        ┆ …          ┆ …          ┆ …         ┆ …         ┆ …         │\n",
       "│ 3494545a2a ┆ 2025-05-15 ┆ 0        ┆ 7983       ┆ Tessin     ┆ Bahnsteig ┆ 12.44257  ┆ 54.034436 │\n",
       "│ 77         ┆ 09:17:14   ┆          ┆            ┆ West       ┆ 01        ┆           ┆           │\n",
       "│ 3494545a2a ┆ 2025-05-15 ┆ 0        ┆ 7983       ┆ Tessin     ┆ Bahnsteig ┆ 12.44257  ┆ 54.034436 │\n",
       "│ 77         ┆ 09:18:14   ┆          ┆            ┆ West       ┆ 01        ┆           ┆           │\n",
       "│ 3494545a2a ┆ 2025-05-15 ┆ 0        ┆ 7983       ┆ Tessin     ┆ Bahnsteig ┆ 12.44257  ┆ 54.034436 │\n",
       "│ 77         ┆ 09:19:14   ┆          ┆            ┆ West       ┆ 01        ┆           ┆           │\n",
       "│ 3494545a2a ┆ 2025-05-15 ┆ 0        ┆ 7983       ┆ Tessin     ┆ Bahnsteig ┆ 12.44257  ┆ 54.034436 │\n",
       "│ 77         ┆ 09:20:14   ┆          ┆            ┆ West       ┆ 01        ┆           ┆           │\n",
       "└────────────┴────────────┴──────────┴────────────┴────────────┴───────────┴───────────┴───────────┘"
      ]
     },
     "execution_count": 87,
     "metadata": {},
     "output_type": "execute_result"
    }
   ],
   "source": [
    "pl.read_parquet(pth_pax).filter(pl.col(\"station_id\") == 7983).\\\n",
    "filter(pl.col(\"time_iot\") > \"2025-05-15 09:06:20\").\\\n",
    "filter(pl.col(\"time_iot\") < \"2025-05-15 09:20:20\")"
   ]
  },
  {
   "cell_type": "code",
   "execution_count": 88,
   "id": "583cadbb",
   "metadata": {},
   "outputs": [
    {
     "data": {
      "text/plain": [
       "<polars.config.Config at 0x1efde1364d0>"
      ]
     },
     "execution_count": 88,
     "metadata": {},
     "output_type": "execute_result"
    }
   ],
   "source": [
    "pl.Config(fmt_str_lengths=100)"
   ]
  },
  {
   "cell_type": "markdown",
   "id": "280eca7f",
   "metadata": {},
   "source": [
    "### rolling mean"
   ]
  },
  {
   "cell_type": "code",
   "execution_count": 98,
   "id": "5af12ebe",
   "metadata": {},
   "outputs": [
    {
     "data": {
      "text/plain": [
       "['244cab01f99f',\n",
       " '3494545a213b',\n",
       " '244cab00fa6b',\n",
       " 'd48afc8ed833',\n",
       " '244cab06371f',\n",
       " '244cab06fe0f',\n",
       " '244cab068dcb',\n",
       " '244cab0228ef',\n",
       " '244cab06259f',\n",
       " 'e831cdc2581f',\n",
       " '244cab006177',\n",
       " '244cab062a1b',\n",
       " '244cab02425b',\n",
       " '244cab02113b',\n",
       " 'a0a3b38c53a3',\n",
       " 'e831cdc2595b',\n",
       " '244cab0700ef',\n",
       " '083af23fd0df',\n",
       " '1097bdd7722b',\n",
       " '244cab06feab',\n",
       " '3494545a2a77',\n",
       " '244cab0712df',\n",
       " '244cab021587',\n",
       " '3494545a2107',\n",
       " '3494545a2a1f',\n",
       " 'e831cdc25807',\n",
       " '244cab03544b',\n",
       " 'e831cdc26497',\n",
       " 'e831cdc25893',\n",
       " '244cab05d187',\n",
       " '244cab05572b',\n",
       " '244cab06b913',\n",
       " 'a0a3b330e483',\n",
       " '244cab022f13',\n",
       " '244cab07105b',\n",
       " '244cab071093',\n",
       " '244cab039cf3',\n",
       " 'd48afc8ec50f',\n",
       " 'a0a3b32f794b',\n",
       " '34ab9540699b',\n",
       " '244cab065dbb',\n",
       " '244cab03d43f',\n",
       " 'a0a3b38c5463',\n",
       " '244cab01f457',\n",
       " '244cab01f2b7',\n",
       " '244cab01a103',\n",
       " 'c45bbe93286f',\n",
       " '083af23ff6e7',\n",
       " '244cab03a43f',\n",
       " '244cab02bddb',\n",
       " 'e831cdc25847',\n",
       " 'a0a3b38c5473',\n",
       " 'e831cdc2597b',\n",
       " 'e831cdc2589b',\n",
       " 'd48afc8efb9f',\n",
       " 'a0a3b3311b9f',\n",
       " '244cab03327b',\n",
       " '244cab044207',\n",
       " '244cab03b9ff',\n",
       " '244cab0161bb',\n",
       " 'a0a3b32f53fb',\n",
       " 'e831cdc25833',\n",
       " '244cab00b52b',\n",
       " 'a0a3b38c5997',\n",
       " 'e831cdc259a3',\n",
       " 'e831cdc25877',\n",
       " '244cab03803f',\n",
       " '244cab067843',\n",
       " '244cab06275b',\n",
       " 'd48afc8ec603',\n",
       " '244cab03ce33',\n",
       " 'a0a3b38c538b',\n",
       " '244cab06fb47',\n",
       " '244cab06f80b',\n",
       " '244cab0704cb',\n",
       " 'c45bbe932723',\n",
       " '244cab02ea4f',\n",
       " 'a0a3b38c58c7',\n",
       " '244cab01fe3f',\n",
       " '244cab02a57f',\n",
       " '244cab01fa4b',\n",
       " '34ab954069df',\n",
       " '34ab954069ab',\n",
       " '3494545a2c67',\n",
       " '244cab039c97',\n",
       " '244cab034443',\n",
       " '244cab060337',\n",
       " 'a0a3b32f82e7',\n",
       " '244cab03a733',\n",
       " 'a0a3b32fac63',\n",
       " '244cab0237a7',\n",
       " '244cab06abe7',\n",
       " 'a0a3b32f9e87',\n",
       " '3494545a2a2b',\n",
       " '3494545a2a5b',\n",
       " '244cab068b4f',\n",
       " '244cab02fcff',\n",
       " '244cab067ac7',\n",
       " '244cab022a6b',\n",
       " '244cab03c4df',\n",
       " '244cab020efb',\n",
       " 'a0a3b38c536f',\n",
       " '244cab046a7b',\n",
       " '244cab0468b7']"
      ]
     },
     "execution_count": 98,
     "metadata": {},
     "output_type": "execute_result"
    }
   ],
   "source": [
    "df_pax.select(pl.col(\"pax_counter_id\").unique()).to_series().to_list()"
   ]
  },
  {
   "cell_type": "code",
   "execution_count": null,
   "id": "1001beee",
   "metadata": {},
   "outputs": [
    {
     "data": {
      "text/html": [
       "<div><style>\n",
       ".dataframe > thead > tr,\n",
       ".dataframe > tbody > tr {\n",
       "  text-align: right;\n",
       "  white-space: pre-wrap;\n",
       "}\n",
       "</style>\n",
       "<small>shape: (9_105_853, 3)</small><table border=\"1\" class=\"dataframe\"><thead><tr><th>pax_counter_id</th><th>station_id</th><th>data_pax</th></tr><tr><td>str</td><td>i64</td><td>f64</td></tr></thead><tbody><tr><td>&quot;244cab039c97&quot;</td><td>4812</td><td>null</td></tr><tr><td>&quot;244cab039c97&quot;</td><td>4812</td><td>null</td></tr><tr><td>&quot;244cab039c97&quot;</td><td>4812</td><td>null</td></tr><tr><td>&quot;244cab039c97&quot;</td><td>4812</td><td>null</td></tr><tr><td>&quot;244cab039c97&quot;</td><td>4812</td><td>null</td></tr><tr><td>&quot;244cab039c97&quot;</td><td>4812</td><td>null</td></tr><tr><td>&quot;244cab039c97&quot;</td><td>4812</td><td>null</td></tr><tr><td>&quot;244cab039c97&quot;</td><td>4812</td><td>null</td></tr><tr><td>&quot;244cab039c97&quot;</td><td>4812</td><td>null</td></tr><tr><td>&quot;244cab039c97&quot;</td><td>4812</td><td>0.0</td></tr><tr><td>&quot;244cab039c97&quot;</td><td>4812</td><td>0.0</td></tr><tr><td>&quot;244cab039c97&quot;</td><td>4812</td><td>0.0</td></tr><tr><td>&hellip;</td><td>&hellip;</td><td>&hellip;</td></tr><tr><td>&quot;e831cdc259a3&quot;</td><td>5761</td><td>0.0</td></tr><tr><td>&quot;e831cdc259a3&quot;</td><td>5761</td><td>0.0</td></tr><tr><td>&quot;e831cdc259a3&quot;</td><td>5761</td><td>0.0</td></tr><tr><td>&quot;e831cdc259a3&quot;</td><td>5761</td><td>0.0</td></tr><tr><td>&quot;e831cdc259a3&quot;</td><td>5761</td><td>0.0</td></tr><tr><td>&quot;e831cdc259a3&quot;</td><td>5761</td><td>0.0</td></tr><tr><td>&quot;e831cdc259a3&quot;</td><td>5761</td><td>0.0</td></tr><tr><td>&quot;e831cdc259a3&quot;</td><td>5761</td><td>0.0</td></tr><tr><td>&quot;e831cdc259a3&quot;</td><td>5761</td><td>0.0</td></tr><tr><td>&quot;e831cdc259a3&quot;</td><td>5761</td><td>0.0</td></tr><tr><td>&quot;e831cdc259a3&quot;</td><td>5761</td><td>0.0</td></tr><tr><td>&quot;e831cdc259a3&quot;</td><td>5761</td><td>0.0</td></tr></tbody></table></div>"
      ],
      "text/plain": [
       "shape: (9_105_853, 3)\n",
       "┌────────────────┬────────────┬──────────┐\n",
       "│ pax_counter_id ┆ station_id ┆ data_pax │\n",
       "│ ---            ┆ ---        ┆ ---      │\n",
       "│ str            ┆ i64        ┆ f64      │\n",
       "╞════════════════╪════════════╪══════════╡\n",
       "│ 244cab039c97   ┆ 4812       ┆ null     │\n",
       "│ 244cab039c97   ┆ 4812       ┆ null     │\n",
       "│ 244cab039c97   ┆ 4812       ┆ null     │\n",
       "│ 244cab039c97   ┆ 4812       ┆ null     │\n",
       "│ …              ┆ …          ┆ …        │\n",
       "│ e831cdc259a3   ┆ 5761       ┆ 0.0      │\n",
       "│ e831cdc259a3   ┆ 5761       ┆ 0.0      │\n",
       "│ e831cdc259a3   ┆ 5761       ┆ 0.0      │\n",
       "│ e831cdc259a3   ┆ 5761       ┆ 0.0      │\n",
       "└────────────────┴────────────┴──────────┘"
      ]
     },
     "execution_count": 95,
     "metadata": {},
     "output_type": "execute_result"
    }
   ],
   "source": [
    "df_pax.group_by([\"pax_counter_id\"]).\\\n",
    "    agg(pl.col(\"data_pax\").rolling_mean(window_size=10)).\\\n",
    "    explode(pl.col(\"data_pax\"))"
   ]
  }
 ],
 "metadata": {
  "kernelspec": {
   "display_name": "Python 3",
   "language": "python",
   "name": "python3"
  },
  "language_info": {
   "codemirror_mode": {
    "name": "ipython",
    "version": 3
   },
   "file_extension": ".py",
   "mimetype": "text/x-python",
   "name": "python",
   "nbconvert_exporter": "python",
   "pygments_lexer": "ipython3",
   "version": "3.11.3"
  }
 },
 "nbformat": 4,
 "nbformat_minor": 5
}
