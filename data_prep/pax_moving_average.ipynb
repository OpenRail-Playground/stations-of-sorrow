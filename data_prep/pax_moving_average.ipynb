{
 "cells": [
  {
   "cell_type": "code",
   "execution_count": 10,
   "id": "e059192b",
   "metadata": {},
   "outputs": [],
   "source": [
    "import polars as pl\n",
    "import datetime as dt"
   ]
  },
  {
   "cell_type": "code",
   "execution_count": 11,
   "id": "c8eae723",
   "metadata": {},
   "outputs": [],
   "source": [
    "pth_data = f\"C:/Users/z187070/Documents/Projects/PAXCOUNTER/data/\""
   ]
  },
  {
   "cell_type": "code",
   "execution_count": 12,
   "id": "b7ba7448",
   "metadata": {},
   "outputs": [],
   "source": [
    "region_name = \"Ost\"\n",
    "mngmt_name = \"Mecklenburg-Vorpommern\"\n",
    "mngmt_filter = \"Mecklenburg-Vorpommern\""
   ]
  },
  {
   "cell_type": "code",
   "execution_count": 13,
   "id": "91c3d5a4",
   "metadata": {},
   "outputs": [],
   "source": [
    "pth_pax = pth_data + f\"pax_data_{region_name}_{mngmt_name}.parquet\""
   ]
  },
  {
   "cell_type": "markdown",
   "id": "3527c4e1",
   "metadata": {},
   "source": [
    "## create one file per pax sensor\n",
    "\n",
    "* needs sensor id\n",
    "* moving average values (max, min, mean)"
   ]
  },
  {
   "cell_type": "code",
   "execution_count": 14,
   "id": "3e940900",
   "metadata": {},
   "outputs": [],
   "source": [
    "df_pax = pl.read_parquet(pth_pax).select(\n",
    "        pl.col(\"pax_counter_id\"),\n",
    "        pl.col(\"time_iot\").str.to_datetime(),\n",
    "        pl.col(\"data_pax\"),\n",
    "        pl.col(\"station_id\"),\n",
    "        pl.col(\"station_name\"),\n",
    "        pl.col(\"tpname\")\n",
    "    ).filter(\n",
    "        pl.col(\"time_iot\") > dt.datetime(2025,4,1)\n",
    "    )"
   ]
  },
  {
   "cell_type": "code",
   "execution_count": 15,
   "id": "f62bc7ad",
   "metadata": {},
   "outputs": [
    {
     "data": {
      "text/html": [
       "<div><style>\n",
       ".dataframe > thead > tr,\n",
       ".dataframe > tbody > tr {\n",
       "  text-align: right;\n",
       "  white-space: pre-wrap;\n",
       "}\n",
       "</style>\n",
       "<small>shape: (5, 6)</small><table border=\"1\" class=\"dataframe\"><thead><tr><th>pax_counter_id</th><th>time_iot</th><th>data_pax</th><th>station_id</th><th>station_name</th><th>tpname</th></tr><tr><td>str</td><td>datetime[μs]</td><td>i64</td><td>i64</td><td>str</td><td>str</td></tr></thead><tbody><tr><td>&quot;083af23fd0df&quot;</td><td>2025-04-01 00:00:20</td><td>0</td><td>719</td><td>&quot;Bobitz&quot;</td><td>&quot;Bahnsteig 02&quot;</td></tr><tr><td>&quot;083af23fd0df&quot;</td><td>2025-04-01 00:01:20</td><td>0</td><td>719</td><td>&quot;Bobitz&quot;</td><td>&quot;Bahnsteig 02&quot;</td></tr><tr><td>&quot;083af23fd0df&quot;</td><td>2025-04-01 00:02:20</td><td>0</td><td>719</td><td>&quot;Bobitz&quot;</td><td>&quot;Bahnsteig 02&quot;</td></tr><tr><td>&quot;083af23fd0df&quot;</td><td>2025-04-01 00:03:20</td><td>0</td><td>719</td><td>&quot;Bobitz&quot;</td><td>&quot;Bahnsteig 02&quot;</td></tr><tr><td>&quot;083af23fd0df&quot;</td><td>2025-04-01 00:04:20</td><td>0</td><td>719</td><td>&quot;Bobitz&quot;</td><td>&quot;Bahnsteig 02&quot;</td></tr></tbody></table></div>"
      ],
      "text/plain": [
       "shape: (5, 6)\n",
       "┌────────────────┬─────────────────────┬──────────┬────────────┬──────────────┬──────────────┐\n",
       "│ pax_counter_id ┆ time_iot            ┆ data_pax ┆ station_id ┆ station_name ┆ tpname       │\n",
       "│ ---            ┆ ---                 ┆ ---      ┆ ---        ┆ ---          ┆ ---          │\n",
       "│ str            ┆ datetime[μs]        ┆ i64      ┆ i64        ┆ str          ┆ str          │\n",
       "╞════════════════╪═════════════════════╪══════════╪════════════╪══════════════╪══════════════╡\n",
       "│ 083af23fd0df   ┆ 2025-04-01 00:00:20 ┆ 0        ┆ 719        ┆ Bobitz       ┆ Bahnsteig 02 │\n",
       "│ 083af23fd0df   ┆ 2025-04-01 00:01:20 ┆ 0        ┆ 719        ┆ Bobitz       ┆ Bahnsteig 02 │\n",
       "│ 083af23fd0df   ┆ 2025-04-01 00:02:20 ┆ 0        ┆ 719        ┆ Bobitz       ┆ Bahnsteig 02 │\n",
       "│ 083af23fd0df   ┆ 2025-04-01 00:03:20 ┆ 0        ┆ 719        ┆ Bobitz       ┆ Bahnsteig 02 │\n",
       "│ 083af23fd0df   ┆ 2025-04-01 00:04:20 ┆ 0        ┆ 719        ┆ Bobitz       ┆ Bahnsteig 02 │\n",
       "└────────────────┴─────────────────────┴──────────┴────────────┴──────────────┴──────────────┘"
      ]
     },
     "execution_count": 15,
     "metadata": {},
     "output_type": "execute_result"
    }
   ],
   "source": [
    "df_pax.head()"
   ]
  },
  {
   "cell_type": "code",
   "execution_count": 16,
   "id": "056cecb4",
   "metadata": {},
   "outputs": [
    {
     "data": {
      "text/plain": [
       "106"
      ]
     },
     "execution_count": 16,
     "metadata": {},
     "output_type": "execute_result"
    }
   ],
   "source": [
    "pax_sensors = df_pax.select(pl.col(\"pax_counter_id\").unique()).to_series().to_list()\n",
    "len(pax_sensors)"
   ]
  },
  {
   "cell_type": "code",
   "execution_count": 17,
   "id": "f9730722",
   "metadata": {},
   "outputs": [
    {
     "data": {
      "text/plain": [
       "'244cab0712df'"
      ]
     },
     "execution_count": 17,
     "metadata": {},
     "output_type": "execute_result"
    }
   ],
   "source": [
    "pax_sensor = pax_sensors[0]\n",
    "pax_sensor"
   ]
  },
  {
   "cell_type": "code",
   "execution_count": 18,
   "id": "a711867e",
   "metadata": {},
   "outputs": [],
   "source": [
    "for pax_sensor in pax_sensors:\n",
    "    agg_data = df_pax.filter(\n",
    "            pl.col(\"pax_counter_id\") == pax_sensor\n",
    "        ).sort(\n",
    "            pl.col(\"time_iot\")\n",
    "        ).with_columns(\n",
    "            pl.col(\"time_iot\").dt.date().alias(\"iot_date\"),\n",
    "            pl.col(\"time_iot\").dt.hour().alias(\"iot_hour\"),\n",
    "            pl.col(\"time_iot\").dt.minute().alias(\"iot_minute\")\n",
    "        ).with_columns(\n",
    "            (pl.col(\"iot_minute\") / 10).cast(pl.Int16).alias(\"iot_minute_group\")\n",
    "        ).group_by(\n",
    "            [\"iot_date\", \"iot_hour\", \"iot_minute_group\"]\n",
    "        ).agg(\n",
    "            pl.col(\"pax_counter_id\").min(),\n",
    "            pl.col(\"station_id\").min(),\n",
    "            pl.col(\"tpname\").min(),\n",
    "            pl.col(\"time_iot\").min().alias(\"time_iot_min\"),\n",
    "            pl.col(\"time_iot\").max().alias(\"time_iot_max\"),\n",
    "            pl.col(\"data_pax\").mean().round(2).alias(\"pax_10min_mean\"),\n",
    "            pl.col(\"data_pax\").min().alias(\"pax_10min_min\"),\n",
    "            pl.col(\"data_pax\").max().alias(\"pax_10min_max\")\n",
    "        ).drop(\n",
    "            [\"iot_hour\", \"iot_minute_group\"]\n",
    "        ).sort(\n",
    "            \"time_iot_min\"\n",
    "        ).with_columns(\n",
    "            pl.col(\"pax_10min_mean\").diff().alias(\"pax_10min_mean_diff\"),\n",
    "            pl.col(\"pax_10min_min\").diff().alias(\"pax_10min_min_diff\"),\n",
    "            pl.col(\"pax_10min_max\").diff().alias(\"pax_10min_max_diff\"),\n",
    "        )\n",
    "\n",
    "    agg_data.write_parquet(f\"../../data/moving_average/moving_average_{region_name}_{mngmt_name}_pax{pax_sensor}.parquet\")\n",
    "    "
   ]
  }
 ],
 "metadata": {
  "kernelspec": {
   "display_name": "Python 3",
   "language": "python",
   "name": "python3"
  },
  "language_info": {
   "codemirror_mode": {
    "name": "ipython",
    "version": 3
   },
   "file_extension": ".py",
   "mimetype": "text/x-python",
   "name": "python",
   "nbconvert_exporter": "python",
   "pygments_lexer": "ipython3",
   "version": "3.11.3"
  }
 },
 "nbformat": 4,
 "nbformat_minor": 5
}
