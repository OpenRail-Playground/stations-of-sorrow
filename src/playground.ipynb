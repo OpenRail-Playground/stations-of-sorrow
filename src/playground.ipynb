{
 "cells": [
  {
   "cell_type": "markdown",
   "id": "b464bd0c",
   "metadata": {},
   "source": [
    "## Setup"
   ]
  },
  {
   "cell_type": "code",
   "execution_count": 20,
   "id": "385198a1",
   "metadata": {},
   "outputs": [],
   "source": [
    "import os\n",
    "import polars as pl"
   ]
  },
  {
   "cell_type": "markdown",
   "id": "e2a35204",
   "metadata": {},
   "source": [
    "## paths"
   ]
  },
  {
   "cell_type": "code",
   "execution_count": 21,
   "id": "ac61dc02",
   "metadata": {},
   "outputs": [],
   "source": [
    "region_name = \"Mitte\"\n",
    "mngmt_name = \"Darmstadt\""
   ]
  },
  {
   "cell_type": "code",
   "execution_count": 22,
   "id": "9368dd15",
   "metadata": {},
   "outputs": [],
   "source": [
    "pth_data = f\"C:/Users/z187070/Documents/Projects/PAXCOUNTER/data/\""
   ]
  },
  {
   "cell_type": "code",
   "execution_count": 23,
   "id": "dd053c4f",
   "metadata": {},
   "outputs": [],
   "source": [
    "pth_master = pth_data + f\"master/master/{region_name}/master_data/master_data.csv\"\n",
    "pth_ris = pth_data + f\"ris/ris/{region_name}/{mngmt_name}/ris_data/ris_data.csv\"\n",
    "pth_pax = pth_data + f\"pax/pax/{region_name}/{mngmt_name}/\""
   ]
  },
  {
   "cell_type": "markdown",
   "id": "51deb3ea",
   "metadata": {},
   "source": [
    "## Load data"
   ]
  },
  {
   "cell_type": "code",
   "execution_count": 24,
   "id": "2f7e7e65",
   "metadata": {},
   "outputs": [],
   "source": [
    "df_master = pl.read_csv(pth_master, has_header = True, separator=\";\")"
   ]
  },
  {
   "cell_type": "code",
   "execution_count": 25,
   "id": "726c00ba",
   "metadata": {},
   "outputs": [],
   "source": [
    "df_ris = pl.read_csv(pth_ris, has_header = True, separator=\";\")"
   ]
  },
  {
   "cell_type": "code",
   "execution_count": 26,
   "id": "c5613caf",
   "metadata": {},
   "outputs": [],
   "source": [
    "df_pax = pl.read_csv(pth_pax + f\"*.csv\", has_header=True, separator=\";\")"
   ]
  },
  {
   "cell_type": "markdown",
   "id": "e57cfd7b",
   "metadata": {},
   "source": [
    "## Descriptives"
   ]
  },
  {
   "cell_type": "code",
   "execution_count": 27,
   "id": "0e45938c",
   "metadata": {},
   "outputs": [
    {
     "data": {
      "text/html": [
       "<div><style>\n",
       ".dataframe > thead > tr,\n",
       ".dataframe > tbody > tr {\n",
       "  text-align: right;\n",
       "  white-space: pre-wrap;\n",
       "}\n",
       "</style>\n",
       "<small>shape: (5, 3)</small><table border=\"1\" class=\"dataframe\"><thead><tr><th>pax_counter_id</th><th>time_iot</th><th>data_pax</th></tr><tr><td>str</td><td>str</td><td>i64</td></tr></thead><tbody><tr><td>&quot;244cab022ddf&quot;</td><td>&quot;2024-12-01 00:…</td><td>9</td></tr><tr><td>&quot;244cab022ddf&quot;</td><td>&quot;2024-12-01 00:…</td><td>5</td></tr><tr><td>&quot;244cab022ddf&quot;</td><td>&quot;2024-12-01 00:…</td><td>6</td></tr><tr><td>&quot;244cab022ddf&quot;</td><td>&quot;2024-12-01 00:…</td><td>6</td></tr><tr><td>&quot;244cab022ddf&quot;</td><td>&quot;2024-12-01 00:…</td><td>8</td></tr></tbody></table></div>"
      ],
      "text/plain": [
       "shape: (5, 3)\n",
       "┌────────────────┬─────────────────────┬──────────┐\n",
       "│ pax_counter_id ┆ time_iot            ┆ data_pax │\n",
       "│ ---            ┆ ---                 ┆ ---      │\n",
       "│ str            ┆ str                 ┆ i64      │\n",
       "╞════════════════╪═════════════════════╪══════════╡\n",
       "│ 244cab022ddf   ┆ 2024-12-01 00:00:03 ┆ 9        │\n",
       "│ 244cab022ddf   ┆ 2024-12-01 00:00:13 ┆ 5        │\n",
       "│ 244cab022ddf   ┆ 2024-12-01 00:00:23 ┆ 6        │\n",
       "│ 244cab022ddf   ┆ 2024-12-01 00:00:33 ┆ 6        │\n",
       "│ 244cab022ddf   ┆ 2024-12-01 00:00:43 ┆ 8        │\n",
       "└────────────────┴─────────────────────┴──────────┘"
      ]
     },
     "execution_count": 27,
     "metadata": {},
     "output_type": "execute_result"
    }
   ],
   "source": [
    "df_pax.head()"
   ]
  },
  {
   "cell_type": "code",
   "execution_count": 28,
   "id": "062bb411",
   "metadata": {},
   "outputs": [
    {
     "data": {
      "text/html": [
       "<div><style>\n",
       ".dataframe > thead > tr,\n",
       ".dataframe > tbody > tr {\n",
       "  text-align: right;\n",
       "  white-space: pre-wrap;\n",
       "}\n",
       "</style>\n",
       "<small>shape: (1, 1)</small><table border=\"1\" class=\"dataframe\"><thead><tr><th>count</th></tr><tr><td>u32</td></tr></thead><tbody><tr><td>16058238</td></tr></tbody></table></div>"
      ],
      "text/plain": [
       "shape: (1, 1)\n",
       "┌──────────┐\n",
       "│ count    │\n",
       "│ ---      │\n",
       "│ u32      │\n",
       "╞══════════╡\n",
       "│ 16058238 │\n",
       "└──────────┘"
      ]
     },
     "execution_count": 28,
     "metadata": {},
     "output_type": "execute_result"
    }
   ],
   "source": [
    "df_pax.select(pl.count())"
   ]
  },
  {
   "cell_type": "code",
   "execution_count": 29,
   "id": "3b82776f",
   "metadata": {},
   "outputs": [
    {
     "data": {
      "text/html": [
       "<div><style>\n",
       ".dataframe > thead > tr,\n",
       ".dataframe > tbody > tr {\n",
       "  text-align: right;\n",
       "  white-space: pre-wrap;\n",
       "}\n",
       "</style>\n",
       "<small>shape: (5, 14)</small><table border=\"1\" class=\"dataframe\"><thead><tr><th>pax_counter_id</th><th>equipmentname</th><th>station_id</th><th>tplnr</th><th>tpname</th><th>station_name</th><th>station_ril100</th><th>management_name</th><th>region_name</th><th>federal_state_name</th><th>station_longitude</th><th>station_latitude</th><th>produktlinie</th><th>untersegment</th></tr><tr><td>str</td><td>str</td><td>i64</td><td>str</td><td>str</td><td>str</td><td>str</td><td>str</td><td>str</td><td>str</td><td>f64</td><td>f64</td><td>str</td><td>str</td></tr></thead><tbody><tr><td>&quot;d48afc8ec697&quot;</td><td>&quot;DSA+_Typ2S_Gl2…</td><td>238</td><td>&quot;00238-01-B01&quot;</td><td>&quot;Bahnsteig 1, G…</td><td>&quot;Babenhausen (H…</td><td>&quot;FBA&quot;</td><td>&quot;Darmstadt&quot;</td><td>&quot;Mitte&quot;</td><td>&quot;Hessen&quot;</td><td>8.957182</td><td>49.957963</td><td>&quot;Knotenbahnhof&quot;</td><td>&quot;Regionaler Kno…</td></tr><tr><td>&quot;a0a3b38ca087&quot;</td><td>&quot;DSA+_Typ2S_Gl1…</td><td>238</td><td>&quot;00238-01-B01&quot;</td><td>&quot;Bahnsteig 1, G…</td><td>&quot;Babenhausen (H…</td><td>&quot;FBA&quot;</td><td>&quot;Darmstadt&quot;</td><td>&quot;Mitte&quot;</td><td>&quot;Hessen&quot;</td><td>8.957182</td><td>49.957963</td><td>&quot;Knotenbahnhof&quot;</td><td>&quot;Regionaler Kno…</td></tr><tr><td>&quot;244cab062d53&quot;</td><td>&quot;DSA+_Typ2S_Gl4…</td><td>238</td><td>&quot;00238-01-B02&quot;</td><td>&quot;Bahnsteig 2, G…</td><td>&quot;Babenhausen (H…</td><td>&quot;FBA&quot;</td><td>&quot;Darmstadt&quot;</td><td>&quot;Mitte&quot;</td><td>&quot;Hessen&quot;</td><td>8.957182</td><td>49.957963</td><td>&quot;Knotenbahnhof&quot;</td><td>&quot;Regionaler Kno…</td></tr><tr><td>&quot;3494545a211f&quot;</td><td>&quot;DSA+_Typ2S_Gl3…</td><td>238</td><td>&quot;00238-01-B02&quot;</td><td>&quot;Bahnsteig 2, G…</td><td>&quot;Babenhausen (H…</td><td>&quot;FBA&quot;</td><td>&quot;Darmstadt&quot;</td><td>&quot;Mitte&quot;</td><td>&quot;Hessen&quot;</td><td>8.957182</td><td>49.957963</td><td>&quot;Knotenbahnhof&quot;</td><td>&quot;Regionaler Kno…</td></tr><tr><td>&quot;a0a3b38c6c4f&quot;</td><td>&quot;DSA+_Typ2P_Gl4…</td><td>614</td><td>&quot;00614-01-B03&quot;</td><td>&quot;Bahnsteig 3, G…</td><td>&quot;Biblis&quot;</td><td>&quot;FBL&quot;</td><td>&quot;Darmstadt&quot;</td><td>&quot;Mitte&quot;</td><td>&quot;Hessen&quot;</td><td>8.450413</td><td>49.688881</td><td>&quot;Zubringerbahnh…</td><td>&quot;Regionaler Zub…</td></tr></tbody></table></div>"
      ],
      "text/plain": [
       "shape: (5, 14)\n",
       "┌───────────┬───────────┬───────────┬───────────┬───┬───────────┬───────────┬───────────┬──────────┐\n",
       "│ pax_count ┆ equipment ┆ station_i ┆ tplnr     ┆ … ┆ station_l ┆ station_l ┆ produktli ┆ unterseg │\n",
       "│ er_id     ┆ name      ┆ d         ┆ ---       ┆   ┆ ongitude  ┆ atitude   ┆ nie       ┆ ment     │\n",
       "│ ---       ┆ ---       ┆ ---       ┆ str       ┆   ┆ ---       ┆ ---       ┆ ---       ┆ ---      │\n",
       "│ str       ┆ str       ┆ i64       ┆           ┆   ┆ f64       ┆ f64       ┆ str       ┆ str      │\n",
       "╞═══════════╪═══════════╪═══════════╪═══════════╪═══╪═══════════╪═══════════╪═══════════╪══════════╡\n",
       "│ d48afc8ec ┆ DSA+_Typ2 ┆ 238       ┆ 00238-01- ┆ … ┆ 8.957182  ┆ 49.957963 ┆ Knotenbah ┆ Regional │\n",
       "│ 697       ┆ S_Gl2_FBA ┆           ┆ B01       ┆   ┆           ┆           ┆ nhof      ┆ er       │\n",
       "│           ┆ 2         ┆           ┆           ┆   ┆           ┆           ┆           ┆ Knoten   │\n",
       "│ a0a3b38ca ┆ DSA+_Typ2 ┆ 238       ┆ 00238-01- ┆ … ┆ 8.957182  ┆ 49.957963 ┆ Knotenbah ┆ Regional │\n",
       "│ 087       ┆ S_Gl1_FBA ┆           ┆ B01       ┆   ┆           ┆           ┆ nhof      ┆ er       │\n",
       "│           ┆ 1         ┆           ┆           ┆   ┆           ┆           ┆           ┆ Knoten   │\n",
       "│ 244cab062 ┆ DSA+_Typ2 ┆ 238       ┆ 00238-01- ┆ … ┆ 8.957182  ┆ 49.957963 ┆ Knotenbah ┆ Regional │\n",
       "│ d53       ┆ S_Gl4_FBA ┆           ┆ B02       ┆   ┆           ┆           ┆ nhof      ┆ er       │\n",
       "│           ┆ 4         ┆           ┆           ┆   ┆           ┆           ┆           ┆ Knoten   │\n",
       "│ 3494545a2 ┆ DSA+_Typ2 ┆ 238       ┆ 00238-01- ┆ … ┆ 8.957182  ┆ 49.957963 ┆ Knotenbah ┆ Regional │\n",
       "│ 11f       ┆ S_Gl3_FBA ┆           ┆ B02       ┆   ┆           ┆           ┆ nhof      ┆ er       │\n",
       "│           ┆ 3         ┆           ┆           ┆   ┆           ┆           ┆           ┆ Knoten   │\n",
       "│ a0a3b38c6 ┆ DSA+_Typ2 ┆ 614       ┆ 00614-01- ┆ … ┆ 8.450413  ┆ 49.688881 ┆ Zubringer ┆ Regional │\n",
       "│ c4f       ┆ P_Gl4_FBL ┆           ┆ B03       ┆   ┆           ┆           ┆ bahnhof   ┆ er Zubri │\n",
       "│           ┆ 4         ┆           ┆           ┆   ┆           ┆           ┆           ┆ nger     │\n",
       "└───────────┴───────────┴───────────┴───────────┴───┴───────────┴───────────┴───────────┴──────────┘"
      ]
     },
     "execution_count": 29,
     "metadata": {},
     "output_type": "execute_result"
    }
   ],
   "source": [
    "df_master.filter(pl.col(\"management_name\") == region).head()"
   ]
  },
  {
   "cell_type": "code",
   "execution_count": 30,
   "id": "97dc4757",
   "metadata": {},
   "outputs": [
    {
     "data": {
      "text/html": [
       "<div><style>\n",
       ".dataframe > thead > tr,\n",
       ".dataframe > tbody > tr {\n",
       "  text-align: right;\n",
       "  white-space: pre-wrap;\n",
       "}\n",
       "</style>\n",
       "<small>shape: (1, 1)</small><table border=\"1\" class=\"dataframe\"><thead><tr><th>count</th></tr><tr><td>u32</td></tr></thead><tbody><tr><td>71</td></tr></tbody></table></div>"
      ],
      "text/plain": [
       "shape: (1, 1)\n",
       "┌───────┐\n",
       "│ count │\n",
       "│ ---   │\n",
       "│ u32   │\n",
       "╞═══════╡\n",
       "│ 71    │\n",
       "└───────┘"
      ]
     },
     "execution_count": 30,
     "metadata": {},
     "output_type": "execute_result"
    }
   ],
   "source": [
    "df_master.filter(pl.col(\"management_name\") == region).select(pl.count())"
   ]
  },
  {
   "cell_type": "code",
   "execution_count": 31,
   "id": "7e85479f",
   "metadata": {},
   "outputs": [],
   "source": [
    "master_pcid = df_master.filter(pl.col(\"management_name\") == mngmt_name).select(pl.col(\"pax_counter_id\").unique()).to_series().to_list()"
   ]
  },
  {
   "cell_type": "code",
   "execution_count": 32,
   "id": "67f44405",
   "metadata": {},
   "outputs": [],
   "source": [
    "pax_pcid = df_pax.select(pl.col(\"pax_counter_id\").unique()).to_series().to_list()"
   ]
  },
  {
   "cell_type": "code",
   "execution_count": 33,
   "id": "88438cb8",
   "metadata": {},
   "outputs": [
    {
     "data": {
      "text/plain": [
       "[]"
      ]
     },
     "execution_count": 33,
     "metadata": {},
     "output_type": "execute_result"
    }
   ],
   "source": [
    "list(set(master_pcid) - set(pax_pcid))"
   ]
  },
  {
   "cell_type": "code",
   "execution_count": 34,
   "id": "76fcd59e",
   "metadata": {},
   "outputs": [
    {
     "data": {
      "text/plain": [
       "[]"
      ]
     },
     "execution_count": 34,
     "metadata": {},
     "output_type": "execute_result"
    }
   ],
   "source": [
    "list(set(pax_pcid) - set(master_pcid))"
   ]
  },
  {
   "cell_type": "code",
   "execution_count": 35,
   "id": "943b6b37",
   "metadata": {},
   "outputs": [
    {
     "data": {
      "text/html": [
       "<div><style>\n",
       ".dataframe > thead > tr,\n",
       ".dataframe > tbody > tr {\n",
       "  text-align: right;\n",
       "  white-space: pre-wrap;\n",
       "}\n",
       "</style>\n",
       "<small>shape: (5, 8)</small><table border=\"1\" class=\"dataframe\"><thead><tr><th>fahrtid</th><th>ereignis_station_id</th><th>zeit_echt</th><th>zeit_echt_verspaetung</th><th>gleis_echt</th><th>tpname_bahnsteig_echt</th><th>gattung</th><th>case</th></tr><tr><td>str</td><td>i64</td><td>str</td><td>i64</td><td>str</td><td>str</td><td>str</td><td>str</td></tr></thead><tbody><tr><td>&quot;20241130-f7563…</td><td>238</td><td>&quot;2024-12-01 00:…</td><td>4</td><td>&quot;00238-01-B02-G…</td><td>&quot;Bahnsteig 2, G…</td><td>&quot;VIA&quot;</td><td>&quot;ankunft&quot;</td></tr><tr><td>&quot;20241130-ae4fd…</td><td>4614</td><td>&quot;2024-12-01 00:…</td><td>0</td><td>&quot;04614-01-B01-G…</td><td>&quot;Bahnsteig 1, G…</td><td>&quot;VIA&quot;</td><td>&quot;abfahrt&quot;</td></tr><tr><td>&quot;20241130-dc1e0…</td><td>238</td><td>&quot;2024-12-01 00:…</td><td>3</td><td>&quot;00238-01-B01-G…</td><td>&quot;Bahnsteig 1, G…</td><td>&quot;HLB&quot;</td><td>&quot;ankunft&quot;</td></tr><tr><td>&quot;20241130-67b5c…</td><td>238</td><td>&quot;2024-12-01 00:…</td><td>1</td><td>&quot;00238-01-B01-G…</td><td>&quot;Bahnsteig 1, G…</td><td>&quot;HLB&quot;</td><td>&quot;abfahrt&quot;</td></tr><tr><td>&quot;20241130-dc1e0…</td><td>238</td><td>&quot;2024-12-01 00:…</td><td>1</td><td>&quot;00238-01-B01-G…</td><td>&quot;Bahnsteig 1, G…</td><td>&quot;HLB&quot;</td><td>&quot;abfahrt&quot;</td></tr></tbody></table></div>"
      ],
      "text/plain": [
       "shape: (5, 8)\n",
       "┌─────────────┬────────────┬────────────┬────────────┬────────────┬────────────┬─────────┬─────────┐\n",
       "│ fahrtid     ┆ ereignis_s ┆ zeit_echt  ┆ zeit_echt_ ┆ gleis_echt ┆ tpname_bah ┆ gattung ┆ case    │\n",
       "│ ---         ┆ tation_id  ┆ ---        ┆ verspaetun ┆ ---        ┆ nsteig_ech ┆ ---     ┆ ---     │\n",
       "│ str         ┆ ---        ┆ str        ┆ g          ┆ str        ┆ t          ┆ str     ┆ str     │\n",
       "│             ┆ i64        ┆            ┆ ---        ┆            ┆ ---        ┆         ┆         │\n",
       "│             ┆            ┆            ┆ i64        ┆            ┆ str        ┆         ┆         │\n",
       "╞═════════════╪════════════╪════════════╪════════════╪════════════╪════════════╪═════════╪═════════╡\n",
       "│ 20241130-f7 ┆ 238        ┆ 2024-12-01 ┆ 4          ┆ 00238-01-B ┆ Bahnsteig  ┆ VIA     ┆ ankunft │\n",
       "│ 563f2a-5ecf ┆            ┆ 00:00:28   ┆            ┆ 02-G03     ┆ 2, Gleis   ┆         ┆         │\n",
       "│ -30da-bf2c… ┆            ┆            ┆            ┆            ┆ 3/4        ┆         ┆         │\n",
       "│ 20241130-ae ┆ 4614       ┆ 2024-12-01 ┆ 0          ┆ 04614-01-B ┆ Bahnsteig  ┆ VIA     ┆ abfahrt │\n",
       "│ 4fd8e2-80db ┆            ┆ 00:00:48   ┆            ┆ 01-G01     ┆ 1, Gleis 1 ┆         ┆         │\n",
       "│ -336a-8436… ┆            ┆            ┆            ┆            ┆            ┆         ┆         │\n",
       "│ 20241130-dc ┆ 238        ┆ 2024-12-01 ┆ 3          ┆ 00238-01-B ┆ Bahnsteig  ┆ HLB     ┆ ankunft │\n",
       "│ 1e0f89-99c7 ┆            ┆ 00:01:09   ┆            ┆ 01-G02     ┆ 1, Gleis   ┆         ┆         │\n",
       "│ -33bf-a0b2… ┆            ┆            ┆            ┆            ┆ 1/2        ┆         ┆         │\n",
       "│ 20241130-67 ┆ 238        ┆ 2024-12-01 ┆ 1          ┆ 00238-01-B ┆ Bahnsteig  ┆ HLB     ┆ abfahrt │\n",
       "│ b5cbce-ad9d ┆            ┆ 00:01:35   ┆            ┆ 01-G01     ┆ 1, Gleis   ┆         ┆         │\n",
       "│ -3596-8917… ┆            ┆            ┆            ┆            ┆ 1/2        ┆         ┆         │\n",
       "│ 20241130-dc ┆ 238        ┆ 2024-12-01 ┆ 1          ┆ 00238-01-B ┆ Bahnsteig  ┆ HLB     ┆ abfahrt │\n",
       "│ 1e0f89-99c7 ┆            ┆ 00:01:59   ┆            ┆ 01-G02     ┆ 1, Gleis   ┆         ┆         │\n",
       "│ -33bf-a0b2… ┆            ┆            ┆            ┆            ┆ 1/2        ┆         ┆         │\n",
       "└─────────────┴────────────┴────────────┴────────────┴────────────┴────────────┴─────────┴─────────┘"
      ]
     },
     "execution_count": 35,
     "metadata": {},
     "output_type": "execute_result"
    }
   ],
   "source": [
    "df_ris.head()"
   ]
  },
  {
   "cell_type": "markdown",
   "id": "d99bb712",
   "metadata": {},
   "source": [
    "## joins"
   ]
  },
  {
   "cell_type": "code",
   "execution_count": 36,
   "id": "02c00944",
   "metadata": {},
   "outputs": [
    {
     "data": {
      "text/html": [
       "<div><style>\n",
       ".dataframe > thead > tr,\n",
       ".dataframe > tbody > tr {\n",
       "  text-align: right;\n",
       "  white-space: pre-wrap;\n",
       "}\n",
       "</style>\n",
       "<small>shape: (5, 14)</small><table border=\"1\" class=\"dataframe\"><thead><tr><th>pax_counter_id</th><th>equipmentname</th><th>station_id</th><th>tplnr</th><th>tpname</th><th>station_name</th><th>station_ril100</th><th>management_name</th><th>region_name</th><th>federal_state_name</th><th>station_longitude</th><th>station_latitude</th><th>produktlinie</th><th>untersegment</th></tr><tr><td>str</td><td>str</td><td>i64</td><td>str</td><td>str</td><td>str</td><td>str</td><td>str</td><td>str</td><td>str</td><td>f64</td><td>f64</td><td>str</td><td>str</td></tr></thead><tbody><tr><td>&quot;d48afc8ec697&quot;</td><td>&quot;DSA+_Typ2S_Gl2…</td><td>238</td><td>&quot;00238-01-B01&quot;</td><td>&quot;Bahnsteig 1, G…</td><td>&quot;Babenhausen (H…</td><td>&quot;FBA&quot;</td><td>&quot;Darmstadt&quot;</td><td>&quot;Mitte&quot;</td><td>&quot;Hessen&quot;</td><td>8.957182</td><td>49.957963</td><td>&quot;Knotenbahnhof&quot;</td><td>&quot;Regionaler Kno…</td></tr><tr><td>&quot;a0a3b38ca087&quot;</td><td>&quot;DSA+_Typ2S_Gl1…</td><td>238</td><td>&quot;00238-01-B01&quot;</td><td>&quot;Bahnsteig 1, G…</td><td>&quot;Babenhausen (H…</td><td>&quot;FBA&quot;</td><td>&quot;Darmstadt&quot;</td><td>&quot;Mitte&quot;</td><td>&quot;Hessen&quot;</td><td>8.957182</td><td>49.957963</td><td>&quot;Knotenbahnhof&quot;</td><td>&quot;Regionaler Kno…</td></tr><tr><td>&quot;244cab062d53&quot;</td><td>&quot;DSA+_Typ2S_Gl4…</td><td>238</td><td>&quot;00238-01-B02&quot;</td><td>&quot;Bahnsteig 2, G…</td><td>&quot;Babenhausen (H…</td><td>&quot;FBA&quot;</td><td>&quot;Darmstadt&quot;</td><td>&quot;Mitte&quot;</td><td>&quot;Hessen&quot;</td><td>8.957182</td><td>49.957963</td><td>&quot;Knotenbahnhof&quot;</td><td>&quot;Regionaler Kno…</td></tr><tr><td>&quot;3494545a211f&quot;</td><td>&quot;DSA+_Typ2S_Gl3…</td><td>238</td><td>&quot;00238-01-B02&quot;</td><td>&quot;Bahnsteig 2, G…</td><td>&quot;Babenhausen (H…</td><td>&quot;FBA&quot;</td><td>&quot;Darmstadt&quot;</td><td>&quot;Mitte&quot;</td><td>&quot;Hessen&quot;</td><td>8.957182</td><td>49.957963</td><td>&quot;Knotenbahnhof&quot;</td><td>&quot;Regionaler Kno…</td></tr><tr><td>&quot;a0a3b38c6c4f&quot;</td><td>&quot;DSA+_Typ2P_Gl4…</td><td>614</td><td>&quot;00614-01-B03&quot;</td><td>&quot;Bahnsteig 3, G…</td><td>&quot;Biblis&quot;</td><td>&quot;FBL&quot;</td><td>&quot;Darmstadt&quot;</td><td>&quot;Mitte&quot;</td><td>&quot;Hessen&quot;</td><td>8.450413</td><td>49.688881</td><td>&quot;Zubringerbahnh…</td><td>&quot;Regionaler Zub…</td></tr></tbody></table></div>"
      ],
      "text/plain": [
       "shape: (5, 14)\n",
       "┌───────────┬───────────┬───────────┬───────────┬───┬───────────┬───────────┬───────────┬──────────┐\n",
       "│ pax_count ┆ equipment ┆ station_i ┆ tplnr     ┆ … ┆ station_l ┆ station_l ┆ produktli ┆ unterseg │\n",
       "│ er_id     ┆ name      ┆ d         ┆ ---       ┆   ┆ ongitude  ┆ atitude   ┆ nie       ┆ ment     │\n",
       "│ ---       ┆ ---       ┆ ---       ┆ str       ┆   ┆ ---       ┆ ---       ┆ ---       ┆ ---      │\n",
       "│ str       ┆ str       ┆ i64       ┆           ┆   ┆ f64       ┆ f64       ┆ str       ┆ str      │\n",
       "╞═══════════╪═══════════╪═══════════╪═══════════╪═══╪═══════════╪═══════════╪═══════════╪══════════╡\n",
       "│ d48afc8ec ┆ DSA+_Typ2 ┆ 238       ┆ 00238-01- ┆ … ┆ 8.957182  ┆ 49.957963 ┆ Knotenbah ┆ Regional │\n",
       "│ 697       ┆ S_Gl2_FBA ┆           ┆ B01       ┆   ┆           ┆           ┆ nhof      ┆ er       │\n",
       "│           ┆ 2         ┆           ┆           ┆   ┆           ┆           ┆           ┆ Knoten   │\n",
       "│ a0a3b38ca ┆ DSA+_Typ2 ┆ 238       ┆ 00238-01- ┆ … ┆ 8.957182  ┆ 49.957963 ┆ Knotenbah ┆ Regional │\n",
       "│ 087       ┆ S_Gl1_FBA ┆           ┆ B01       ┆   ┆           ┆           ┆ nhof      ┆ er       │\n",
       "│           ┆ 1         ┆           ┆           ┆   ┆           ┆           ┆           ┆ Knoten   │\n",
       "│ 244cab062 ┆ DSA+_Typ2 ┆ 238       ┆ 00238-01- ┆ … ┆ 8.957182  ┆ 49.957963 ┆ Knotenbah ┆ Regional │\n",
       "│ d53       ┆ S_Gl4_FBA ┆           ┆ B02       ┆   ┆           ┆           ┆ nhof      ┆ er       │\n",
       "│           ┆ 4         ┆           ┆           ┆   ┆           ┆           ┆           ┆ Knoten   │\n",
       "│ 3494545a2 ┆ DSA+_Typ2 ┆ 238       ┆ 00238-01- ┆ … ┆ 8.957182  ┆ 49.957963 ┆ Knotenbah ┆ Regional │\n",
       "│ 11f       ┆ S_Gl3_FBA ┆           ┆ B02       ┆   ┆           ┆           ┆ nhof      ┆ er       │\n",
       "│           ┆ 3         ┆           ┆           ┆   ┆           ┆           ┆           ┆ Knoten   │\n",
       "│ a0a3b38c6 ┆ DSA+_Typ2 ┆ 614       ┆ 00614-01- ┆ … ┆ 8.450413  ┆ 49.688881 ┆ Zubringer ┆ Regional │\n",
       "│ c4f       ┆ P_Gl4_FBL ┆           ┆ B03       ┆   ┆           ┆           ┆ bahnhof   ┆ er Zubri │\n",
       "│           ┆ 4         ┆           ┆           ┆   ┆           ┆           ┆           ┆ nger     │\n",
       "└───────────┴───────────┴───────────┴───────────┴───┴───────────┴───────────┴───────────┴──────────┘"
      ]
     },
     "execution_count": 36,
     "metadata": {},
     "output_type": "execute_result"
    }
   ],
   "source": [
    "df_master.filter(pl.col(\"management_name\") == region).head()"
   ]
  },
  {
   "cell_type": "code",
   "execution_count": 39,
   "id": "a105aa00",
   "metadata": {},
   "outputs": [],
   "source": [
    "cols_of_interest_master = [\"pax_counter_id\", \"station_id\", \"station_name\", \"station_longitude\", \"station_latitude\"]"
   ]
  },
  {
   "cell_type": "code",
   "execution_count": 48,
   "id": "8ec6dc76",
   "metadata": {},
   "outputs": [
    {
     "data": {
      "text/html": [
       "<div><style>\n",
       ".dataframe > thead > tr,\n",
       ".dataframe > tbody > tr {\n",
       "  text-align: right;\n",
       "  white-space: pre-wrap;\n",
       "}\n",
       "</style>\n",
       "<small>shape: (5, 7)</small><table border=\"1\" class=\"dataframe\"><thead><tr><th>pax_counter_id</th><th>time_iot</th><th>data_pax</th><th>station_id</th><th>station_name</th><th>station_longitude</th><th>station_latitude</th></tr><tr><td>str</td><td>str</td><td>i64</td><td>i64</td><td>str</td><td>f64</td><td>f64</td></tr></thead><tbody><tr><td>&quot;244cab022ddf&quot;</td><td>&quot;2024-12-01 00:…</td><td>9</td><td>5815</td><td>&quot;Seligenstadt (…</td><td>8.967472</td><td>50.04146</td></tr><tr><td>&quot;244cab022ddf&quot;</td><td>&quot;2024-12-01 00:…</td><td>5</td><td>5815</td><td>&quot;Seligenstadt (…</td><td>8.967472</td><td>50.04146</td></tr><tr><td>&quot;244cab022ddf&quot;</td><td>&quot;2024-12-01 00:…</td><td>6</td><td>5815</td><td>&quot;Seligenstadt (…</td><td>8.967472</td><td>50.04146</td></tr><tr><td>&quot;244cab022ddf&quot;</td><td>&quot;2024-12-01 00:…</td><td>6</td><td>5815</td><td>&quot;Seligenstadt (…</td><td>8.967472</td><td>50.04146</td></tr><tr><td>&quot;244cab022ddf&quot;</td><td>&quot;2024-12-01 00:…</td><td>8</td><td>5815</td><td>&quot;Seligenstadt (…</td><td>8.967472</td><td>50.04146</td></tr></tbody></table></div>"
      ],
      "text/plain": [
       "shape: (5, 7)\n",
       "┌──────────────┬──────────────┬──────────┬────────────┬──────────────┬──────────────┬──────────────┐\n",
       "│ pax_counter_ ┆ time_iot     ┆ data_pax ┆ station_id ┆ station_name ┆ station_long ┆ station_lati │\n",
       "│ id           ┆ ---          ┆ ---      ┆ ---        ┆ ---          ┆ itude        ┆ tude         │\n",
       "│ ---          ┆ str          ┆ i64      ┆ i64        ┆ str          ┆ ---          ┆ ---          │\n",
       "│ str          ┆              ┆          ┆            ┆              ┆ f64          ┆ f64          │\n",
       "╞══════════════╪══════════════╪══════════╪════════════╪══════════════╪══════════════╪══════════════╡\n",
       "│ 244cab022ddf ┆ 2024-12-01   ┆ 9        ┆ 5815       ┆ Seligenstadt ┆ 8.967472     ┆ 50.04146     │\n",
       "│              ┆ 00:00:03     ┆          ┆            ┆ (Hess)       ┆              ┆              │\n",
       "│ 244cab022ddf ┆ 2024-12-01   ┆ 5        ┆ 5815       ┆ Seligenstadt ┆ 8.967472     ┆ 50.04146     │\n",
       "│              ┆ 00:00:13     ┆          ┆            ┆ (Hess)       ┆              ┆              │\n",
       "│ 244cab022ddf ┆ 2024-12-01   ┆ 6        ┆ 5815       ┆ Seligenstadt ┆ 8.967472     ┆ 50.04146     │\n",
       "│              ┆ 00:00:23     ┆          ┆            ┆ (Hess)       ┆              ┆              │\n",
       "│ 244cab022ddf ┆ 2024-12-01   ┆ 6        ┆ 5815       ┆ Seligenstadt ┆ 8.967472     ┆ 50.04146     │\n",
       "│              ┆ 00:00:33     ┆          ┆            ┆ (Hess)       ┆              ┆              │\n",
       "│ 244cab022ddf ┆ 2024-12-01   ┆ 8        ┆ 5815       ┆ Seligenstadt ┆ 8.967472     ┆ 50.04146     │\n",
       "│              ┆ 00:00:43     ┆          ┆            ┆ (Hess)       ┆              ┆              │\n",
       "└──────────────┴──────────────┴──────────┴────────────┴──────────────┴──────────────┴──────────────┘"
      ]
     },
     "execution_count": 48,
     "metadata": {},
     "output_type": "execute_result"
    }
   ],
   "source": [
    "df_jd = df_pax.join(df_master.select(cols_of_interest_master), on = \"pax_counter_id\", how = \"left\")\n",
    "df_jd.head()"
   ]
  }
 ],
 "metadata": {
  "kernelspec": {
   "display_name": "Python 3",
   "language": "python",
   "name": "python3"
  },
  "language_info": {
   "codemirror_mode": {
    "name": "ipython",
    "version": 3
   },
   "file_extension": ".py",
   "mimetype": "text/x-python",
   "name": "python",
   "nbconvert_exporter": "python",
   "pygments_lexer": "ipython3",
   "version": "3.11.3"
  }
 },
 "nbformat": 4,
 "nbformat_minor": 5
}
