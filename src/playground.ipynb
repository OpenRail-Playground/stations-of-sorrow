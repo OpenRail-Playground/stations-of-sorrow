{
 "cells": [
  {
   "cell_type": "markdown",
   "id": "b464bd0c",
   "metadata": {},
   "source": [
    "## Setup"
   ]
  },
  {
   "cell_type": "code",
   "execution_count": 1,
   "id": "385198a1",
   "metadata": {},
   "outputs": [],
   "source": [
    "import os\n",
    "import polars as pl"
   ]
  },
  {
   "cell_type": "markdown",
   "id": "e2a35204",
   "metadata": {},
   "source": [
    "## paths"
   ]
  },
  {
   "cell_type": "code",
   "execution_count": 2,
   "id": "ac61dc02",
   "metadata": {},
   "outputs": [],
   "source": [
    "region_name = \"Ost\"\n",
    "mngmt_name = \"Mecklenburg-Vorpommern\"\n",
    "mngmt_filter = \"Mecklenburg-Vorpommern\""
   ]
  },
  {
   "cell_type": "code",
   "execution_count": 3,
   "id": "9368dd15",
   "metadata": {},
   "outputs": [],
   "source": [
    "pth_data = f\"C:/Users/z187070/Documents/Projects/PAXCOUNTER/data/\""
   ]
  },
  {
   "cell_type": "code",
   "execution_count": 4,
   "id": "dd053c4f",
   "metadata": {},
   "outputs": [],
   "source": [
    "pth_master = pth_data + f\"master/master/{region_name}/master_data/master_data.csv\"\n",
    "pth_ris = pth_data + f\"ris/ris/{region_name}/{mngmt_name}/ris_data/ris_data.csv\"\n",
    "pth_pax = pth_data + f\"pax/pax/{region_name}/{mngmt_name}/\""
   ]
  },
  {
   "cell_type": "markdown",
   "id": "51deb3ea",
   "metadata": {},
   "source": [
    "## Load data"
   ]
  },
  {
   "cell_type": "code",
   "execution_count": 5,
   "id": "2f7e7e65",
   "metadata": {},
   "outputs": [],
   "source": [
    "df_master = pl.read_csv(pth_master, has_header = True, separator=\";\")"
   ]
  },
  {
   "cell_type": "code",
   "execution_count": 6,
   "id": "d7b22494",
   "metadata": {},
   "outputs": [
    {
     "data": {
      "text/plain": [
       "'C:/Users/z187070/Documents/Projects/PAXCOUNTER/data/ris/ris/Ost/Mecklenburg-Vorpommern/ris_data/ris_data.csv'"
      ]
     },
     "execution_count": 6,
     "metadata": {},
     "output_type": "execute_result"
    }
   ],
   "source": [
    "pth_ris"
   ]
  },
  {
   "cell_type": "code",
   "execution_count": 7,
   "id": "726c00ba",
   "metadata": {},
   "outputs": [],
   "source": [
    "df_ris = pl.read_csv(pth_ris, has_header = True, separator=\";\")"
   ]
  },
  {
   "cell_type": "code",
   "execution_count": 8,
   "id": "c5613caf",
   "metadata": {},
   "outputs": [],
   "source": [
    "df_pax = pl.read_csv(pth_pax + f\"*.csv\", has_header=True, separator=\";\")"
   ]
  },
  {
   "cell_type": "markdown",
   "id": "e57cfd7b",
   "metadata": {},
   "source": [
    "## Descriptives"
   ]
  },
  {
   "cell_type": "code",
   "execution_count": 9,
   "id": "0e45938c",
   "metadata": {},
   "outputs": [
    {
     "data": {
      "text/html": [
       "<div><style>\n",
       ".dataframe > thead > tr,\n",
       ".dataframe > tbody > tr {\n",
       "  text-align: right;\n",
       "  white-space: pre-wrap;\n",
       "}\n",
       "</style>\n",
       "<small>shape: (5, 3)</small><table border=\"1\" class=\"dataframe\"><thead><tr><th>pax_counter_id</th><th>time_iot</th><th>data_pax</th></tr><tr><td>str</td><td>str</td><td>i64</td></tr></thead><tbody><tr><td>&quot;083af23fd0df&quot;</td><td>&quot;2024-12-01 00:…</td><td>0</td></tr><tr><td>&quot;083af23fd0df&quot;</td><td>&quot;2024-12-01 00:…</td><td>0</td></tr><tr><td>&quot;083af23fd0df&quot;</td><td>&quot;2024-12-01 00:…</td><td>0</td></tr><tr><td>&quot;083af23fd0df&quot;</td><td>&quot;2024-12-01 00:…</td><td>0</td></tr><tr><td>&quot;083af23fd0df&quot;</td><td>&quot;2024-12-01 00:…</td><td>0</td></tr></tbody></table></div>"
      ],
      "text/plain": [
       "shape: (5, 3)\n",
       "┌────────────────┬─────────────────────┬──────────┐\n",
       "│ pax_counter_id ┆ time_iot            ┆ data_pax │\n",
       "│ ---            ┆ ---                 ┆ ---      │\n",
       "│ str            ┆ str                 ┆ i64      │\n",
       "╞════════════════╪═════════════════════╪══════════╡\n",
       "│ 083af23fd0df   ┆ 2024-12-01 00:00:45 ┆ 0        │\n",
       "│ 083af23fd0df   ┆ 2024-12-01 00:01:45 ┆ 0        │\n",
       "│ 083af23fd0df   ┆ 2024-12-01 00:02:45 ┆ 0        │\n",
       "│ 083af23fd0df   ┆ 2024-12-01 00:03:45 ┆ 0        │\n",
       "│ 083af23fd0df   ┆ 2024-12-01 00:04:46 ┆ 0        │\n",
       "└────────────────┴─────────────────────┴──────────┘"
      ]
     },
     "execution_count": 9,
     "metadata": {},
     "output_type": "execute_result"
    }
   ],
   "source": [
    "df_pax.head()"
   ]
  },
  {
   "cell_type": "code",
   "execution_count": 10,
   "id": "062bb411",
   "metadata": {},
   "outputs": [
    {
     "data": {
      "text/html": [
       "<div><style>\n",
       ".dataframe > thead > tr,\n",
       ".dataframe > tbody > tr {\n",
       "  text-align: right;\n",
       "  white-space: pre-wrap;\n",
       "}\n",
       "</style>\n",
       "<small>shape: (1, 1)</small><table border=\"1\" class=\"dataframe\"><thead><tr><th>count</th></tr><tr><td>u32</td></tr></thead><tbody><tr><td>22961666</td></tr></tbody></table></div>"
      ],
      "text/plain": [
       "shape: (1, 1)\n",
       "┌──────────┐\n",
       "│ count    │\n",
       "│ ---      │\n",
       "│ u32      │\n",
       "╞══════════╡\n",
       "│ 22961666 │\n",
       "└──────────┘"
      ]
     },
     "execution_count": 10,
     "metadata": {},
     "output_type": "execute_result"
    }
   ],
   "source": [
    "df_pax.select(pl.count())"
   ]
  },
  {
   "cell_type": "code",
   "execution_count": 11,
   "id": "203ec70c",
   "metadata": {},
   "outputs": [
    {
     "data": {
      "text/html": [
       "<div><style>\n",
       ".dataframe > thead > tr,\n",
       ".dataframe > tbody > tr {\n",
       "  text-align: right;\n",
       "  white-space: pre-wrap;\n",
       "}\n",
       "</style>\n",
       "<small>shape: (105, 1)</small><table border=\"1\" class=\"dataframe\"><thead><tr><th>pax_counter_id</th></tr><tr><td>str</td></tr></thead><tbody><tr><td>&quot;a0a3b32f9e87&quot;</td></tr><tr><td>&quot;e831cdc25807&quot;</td></tr><tr><td>&quot;244cab0700ef&quot;</td></tr><tr><td>&quot;a0a3b330e483&quot;</td></tr><tr><td>&quot;3494545a2a77&quot;</td></tr><tr><td>&quot;a0a3b32f53fb&quot;</td></tr><tr><td>&quot;a0a3b32f82e7&quot;</td></tr><tr><td>&quot;244cab06259f&quot;</td></tr><tr><td>&quot;c45bbe93286f&quot;</td></tr><tr><td>&quot;a0a3b38c536f&quot;</td></tr><tr><td>&quot;244cab02fcff&quot;</td></tr><tr><td>&quot;244cab07105b&quot;</td></tr><tr><td>&hellip;</td></tr><tr><td>&quot;244cab00b52b&quot;</td></tr><tr><td>&quot;3494545a2a2b&quot;</td></tr><tr><td>&quot;e831cdc26497&quot;</td></tr><tr><td>&quot;d48afc8ed833&quot;</td></tr><tr><td>&quot;e831cdc2595b&quot;</td></tr><tr><td>&quot;3494545a2107&quot;</td></tr><tr><td>&quot;244cab01f99f&quot;</td></tr><tr><td>&quot;244cab068dcb&quot;</td></tr><tr><td>&quot;244cab06f80b&quot;</td></tr><tr><td>&quot;d48afc8efb9f&quot;</td></tr><tr><td>&quot;e831cdc2581f&quot;</td></tr><tr><td>&quot;34ab954069df&quot;</td></tr></tbody></table></div>"
      ],
      "text/plain": [
       "shape: (105, 1)\n",
       "┌────────────────┐\n",
       "│ pax_counter_id │\n",
       "│ ---            │\n",
       "│ str            │\n",
       "╞════════════════╡\n",
       "│ a0a3b32f9e87   │\n",
       "│ e831cdc25807   │\n",
       "│ 244cab0700ef   │\n",
       "│ a0a3b330e483   │\n",
       "│ …              │\n",
       "│ 244cab06f80b   │\n",
       "│ d48afc8efb9f   │\n",
       "│ e831cdc2581f   │\n",
       "│ 34ab954069df   │\n",
       "└────────────────┘"
      ]
     },
     "execution_count": 11,
     "metadata": {},
     "output_type": "execute_result"
    }
   ],
   "source": [
    "df_pax.select(pl.col(\"pax_counter_id\").unique())"
   ]
  },
  {
   "cell_type": "code",
   "execution_count": 12,
   "id": "4b78e80c",
   "metadata": {},
   "outputs": [
    {
     "data": {
      "text/plain": [
       "['Mecklenburg-Vorpommern', 'Cottbus', 'Potsdam']"
      ]
     },
     "execution_count": 12,
     "metadata": {},
     "output_type": "execute_result"
    }
   ],
   "source": [
    "df_master.select(pl.col(\"management_name\").unique()).to_series().to_list()"
   ]
  },
  {
   "cell_type": "code",
   "execution_count": 13,
   "id": "3b82776f",
   "metadata": {},
   "outputs": [
    {
     "data": {
      "text/html": [
       "<div><style>\n",
       ".dataframe > thead > tr,\n",
       ".dataframe > tbody > tr {\n",
       "  text-align: right;\n",
       "  white-space: pre-wrap;\n",
       "}\n",
       "</style>\n",
       "<small>shape: (1, 1)</small><table border=\"1\" class=\"dataframe\"><thead><tr><th>count</th></tr><tr><td>u32</td></tr></thead><tbody><tr><td>105</td></tr></tbody></table></div>"
      ],
      "text/plain": [
       "shape: (1, 1)\n",
       "┌───────┐\n",
       "│ count │\n",
       "│ ---   │\n",
       "│ u32   │\n",
       "╞═══════╡\n",
       "│ 105   │\n",
       "└───────┘"
      ]
     },
     "execution_count": 13,
     "metadata": {},
     "output_type": "execute_result"
    }
   ],
   "source": [
    "df_master.filter(pl.col(\"management_name\") == mngmt_filter).select(pl.count())"
   ]
  },
  {
   "cell_type": "code",
   "execution_count": 14,
   "id": "d27a1490",
   "metadata": {},
   "outputs": [
    {
     "data": {
      "text/plain": [
       "'Mecklenburg-Vorpommern'"
      ]
     },
     "execution_count": 14,
     "metadata": {},
     "output_type": "execute_result"
    }
   ],
   "source": [
    "mngmt_filter"
   ]
  },
  {
   "cell_type": "code",
   "execution_count": 15,
   "id": "19c048e8",
   "metadata": {},
   "outputs": [
    {
     "data": {
      "text/html": [
       "<div><style>\n",
       ".dataframe > thead > tr,\n",
       ".dataframe > tbody > tr {\n",
       "  text-align: right;\n",
       "  white-space: pre-wrap;\n",
       "}\n",
       "</style>\n",
       "<small>shape: (78, 1)</small><table border=\"1\" class=\"dataframe\"><thead><tr><th>station_name</th></tr><tr><td>str</td></tr></thead><tbody><tr><td>&quot;Groß Lüsewitz&quot;</td></tr><tr><td>&quot;Priemerburg&quot;</td></tr><tr><td>&quot;Sukow (b Schwe…</td></tr><tr><td>&quot;Rostock Kasseb…</td></tr><tr><td>&quot;Schwerin Indus…</td></tr><tr><td>&quot;Friedrichsruhe…</td></tr><tr><td>&quot;Herrnburg&quot;</td></tr><tr><td>&quot;Bentwisch&quot;</td></tr><tr><td>&quot;Mistorf&quot;</td></tr><tr><td>&quot;Mölln (Meckl)&quot;</td></tr><tr><td>&quot;Mönchhagen&quot;</td></tr><tr><td>&quot;Domsühl&quot;</td></tr><tr><td>&hellip;</td></tr><tr><td>&quot;Gnevkow&quot;</td></tr><tr><td>&quot;Bobitz&quot;</td></tr><tr><td>&quot;Lüssow (Meckl)…</td></tr><tr><td>&quot;Kavelstorf&quot;</td></tr><tr><td>&quot;Parkentin&quot;</td></tr><tr><td>&quot;Langhagen&quot;</td></tr><tr><td>&quot;Grabow (Meckl)…</td></tr><tr><td>&quot;Prora&quot;</td></tr><tr><td>&quot;Lützow&quot;</td></tr><tr><td>&quot;Ribnitz-Damgar…</td></tr><tr><td>&quot;Utzedel&quot;</td></tr><tr><td>&quot;Sanitz (b Rost…</td></tr></tbody></table></div>"
      ],
      "text/plain": [
       "shape: (78, 1)\n",
       "┌───────────────────────┐\n",
       "│ station_name          │\n",
       "│ ---                   │\n",
       "│ str                   │\n",
       "╞═══════════════════════╡\n",
       "│ Groß Lüsewitz         │\n",
       "│ Priemerburg           │\n",
       "│ Sukow (b Schwerin)    │\n",
       "│ Rostock Kassebohm     │\n",
       "│ …                     │\n",
       "│ Lützow                │\n",
       "│ Ribnitz-Damgarten Ost │\n",
       "│ Utzedel               │\n",
       "│ Sanitz (b Rostock)    │\n",
       "└───────────────────────┘"
      ]
     },
     "execution_count": 15,
     "metadata": {},
     "output_type": "execute_result"
    }
   ],
   "source": [
    "df_master.filter(pl.col(\"management_name\") == mngmt_filter).select(pl.col(\"station_name\").unique())"
   ]
  },
  {
   "cell_type": "code",
   "execution_count": 16,
   "id": "7e85479f",
   "metadata": {},
   "outputs": [],
   "source": [
    "master_pcid = df_master.filter(pl.col(\"management_name\") == mngmt_filter).select(pl.col(\"pax_counter_id\").unique()).to_series().to_list()"
   ]
  },
  {
   "cell_type": "code",
   "execution_count": 17,
   "id": "67f44405",
   "metadata": {},
   "outputs": [],
   "source": [
    "pax_pcid = df_pax.select(pl.col(\"pax_counter_id\").unique()).to_series().to_list()"
   ]
  },
  {
   "cell_type": "code",
   "execution_count": 18,
   "id": "88438cb8",
   "metadata": {},
   "outputs": [
    {
     "data": {
      "text/plain": [
       "[]"
      ]
     },
     "execution_count": 18,
     "metadata": {},
     "output_type": "execute_result"
    }
   ],
   "source": [
    "list(set(master_pcid) - set(pax_pcid))"
   ]
  },
  {
   "cell_type": "code",
   "execution_count": 19,
   "id": "76fcd59e",
   "metadata": {},
   "outputs": [
    {
     "data": {
      "text/plain": [
       "[]"
      ]
     },
     "execution_count": 19,
     "metadata": {},
     "output_type": "execute_result"
    }
   ],
   "source": [
    "list(set(pax_pcid) - set(master_pcid))"
   ]
  },
  {
   "cell_type": "code",
   "execution_count": 20,
   "id": "943b6b37",
   "metadata": {},
   "outputs": [
    {
     "data": {
      "text/html": [
       "<div><style>\n",
       ".dataframe > thead > tr,\n",
       ".dataframe > tbody > tr {\n",
       "  text-align: right;\n",
       "  white-space: pre-wrap;\n",
       "}\n",
       "</style>\n",
       "<small>shape: (5, 8)</small><table border=\"1\" class=\"dataframe\"><thead><tr><th>fahrtid</th><th>ereignis_station_id</th><th>zeit_echt</th><th>zeit_echt_verspaetung</th><th>gleis_echt</th><th>tpname_bahnsteig_echt</th><th>gattung</th><th>case</th></tr><tr><td>str</td><td>i64</td><td>str</td><td>i64</td><td>str</td><td>str</td><td>str</td><td>str</td></tr></thead><tbody><tr><td>&quot;20241130-6c7c3…</td><td>2468</td><td>&quot;2024-12-01 00:…</td><td>4</td><td>&quot;02468-01-B02-G…</td><td>&quot;Bahnsteig 02&quot;</td><td>&quot;RE&quot;</td><td>&quot;ankunft&quot;</td></tr><tr><td>&quot;20241130-6c7c3…</td><td>2468</td><td>&quot;2024-12-01 00:…</td><td>5</td><td>&quot;02468-01-B02-G…</td><td>&quot;Bahnsteig 02&quot;</td><td>&quot;RE&quot;</td><td>&quot;abfahrt&quot;</td></tr><tr><td>&quot;20241130-2262f…</td><td>5127</td><td>&quot;2024-12-01 00:…</td><td>1</td><td>&quot;05127-01-B02-G…</td><td>&quot;Bahnsteig 02&quot;</td><td>&quot;RB&quot;</td><td>&quot;ankunft&quot;</td></tr><tr><td>&quot;20241130-2262f…</td><td>5127</td><td>&quot;2024-12-01 00:…</td><td>1</td><td>&quot;05127-01-B02-G…</td><td>&quot;Bahnsteig 02&quot;</td><td>&quot;RB&quot;</td><td>&quot;abfahrt&quot;</td></tr><tr><td>&quot;20241130-6f3f7…</td><td>6407</td><td>&quot;2024-12-01 00:…</td><td>18</td><td>null</td><td>null</td><td>&quot;RE&quot;</td><td>&quot;ankunft&quot;</td></tr></tbody></table></div>"
      ],
      "text/plain": [
       "shape: (5, 8)\n",
       "┌─────────────┬────────────┬────────────┬────────────┬────────────┬────────────┬─────────┬─────────┐\n",
       "│ fahrtid     ┆ ereignis_s ┆ zeit_echt  ┆ zeit_echt_ ┆ gleis_echt ┆ tpname_bah ┆ gattung ┆ case    │\n",
       "│ ---         ┆ tation_id  ┆ ---        ┆ verspaetun ┆ ---        ┆ nsteig_ech ┆ ---     ┆ ---     │\n",
       "│ str         ┆ ---        ┆ str        ┆ g          ┆ str        ┆ t          ┆ str     ┆ str     │\n",
       "│             ┆ i64        ┆            ┆ ---        ┆            ┆ ---        ┆         ┆         │\n",
       "│             ┆            ┆            ┆ i64        ┆            ┆ str        ┆         ┆         │\n",
       "╞═════════════╪════════════╪════════════╪════════════╪════════════╪════════════╪═════════╪═════════╡\n",
       "│ 20241130-6c ┆ 2468       ┆ 2024-12-01 ┆ 4          ┆ 02468-01-B ┆ Bahnsteig  ┆ RE      ┆ ankunft │\n",
       "│ 7c332f-4123 ┆            ┆ 00:03:14   ┆            ┆ 02-G02     ┆ 02         ┆         ┆         │\n",
       "│ -3241-8638… ┆            ┆            ┆            ┆            ┆            ┆         ┆         │\n",
       "│ 20241130-6c ┆ 2468       ┆ 2024-12-01 ┆ 5          ┆ 02468-01-B ┆ Bahnsteig  ┆ RE      ┆ abfahrt │\n",
       "│ 7c332f-4123 ┆            ┆ 00:04:21   ┆            ┆ 02-G02     ┆ 02         ┆         ┆         │\n",
       "│ -3241-8638… ┆            ┆            ┆            ┆            ┆            ┆         ┆         │\n",
       "│ 20241130-22 ┆ 5127       ┆ 2024-12-01 ┆ 1          ┆ 05127-01-B ┆ Bahnsteig  ┆ RB      ┆ ankunft │\n",
       "│ 62fbea-4e43 ┆            ┆ 00:08:07   ┆            ┆ 02-G01     ┆ 02         ┆         ┆         │\n",
       "│ -317b-95b1… ┆            ┆            ┆            ┆            ┆            ┆         ┆         │\n",
       "│ 20241130-22 ┆ 5127       ┆ 2024-12-01 ┆ 1          ┆ 05127-01-B ┆ Bahnsteig  ┆ RB      ┆ abfahrt │\n",
       "│ 62fbea-4e43 ┆            ┆ 00:08:25   ┆            ┆ 02-G01     ┆ 02         ┆         ┆         │\n",
       "│ -317b-95b1… ┆            ┆            ┆            ┆            ┆            ┆         ┆         │\n",
       "│ 20241130-6f ┆ 6407       ┆ 2024-12-01 ┆ 18         ┆ null       ┆ null       ┆ RE      ┆ ankunft │\n",
       "│ 3f7f2e-1e23 ┆            ┆ 00:09:09   ┆            ┆            ┆            ┆         ┆         │\n",
       "│ -39c9-a72c… ┆            ┆            ┆            ┆            ┆            ┆         ┆         │\n",
       "└─────────────┴────────────┴────────────┴────────────┴────────────┴────────────┴─────────┴─────────┘"
      ]
     },
     "execution_count": 20,
     "metadata": {},
     "output_type": "execute_result"
    }
   ],
   "source": [
    "df_ris.head()"
   ]
  },
  {
   "cell_type": "markdown",
   "id": "d99bb712",
   "metadata": {},
   "source": [
    "## joins"
   ]
  },
  {
   "cell_type": "code",
   "execution_count": 21,
   "id": "02c00944",
   "metadata": {},
   "outputs": [
    {
     "data": {
      "text/html": [
       "<div><style>\n",
       ".dataframe > thead > tr,\n",
       ".dataframe > tbody > tr {\n",
       "  text-align: right;\n",
       "  white-space: pre-wrap;\n",
       "}\n",
       "</style>\n",
       "<small>shape: (5, 14)</small><table border=\"1\" class=\"dataframe\"><thead><tr><th>pax_counter_id</th><th>equipmentname</th><th>station_id</th><th>tplnr</th><th>tpname</th><th>station_name</th><th>station_ril100</th><th>management_name</th><th>region_name</th><th>federal_state_name</th><th>station_longitude</th><th>station_latitude</th><th>produktlinie</th><th>untersegment</th></tr><tr><td>str</td><td>str</td><td>i64</td><td>str</td><td>str</td><td>str</td><td>str</td><td>str</td><td>str</td><td>str</td><td>f64</td><td>f64</td><td>str</td><td>str</td></tr></thead><tbody><tr><td>&quot;244cab034443&quot;</td><td>&quot;DSA+_Typ3_GL12…</td><td>79</td><td>&quot;00079-01-B01&quot;</td><td>&quot;Bahnsteig 01&quot;</td><td>&quot;Altefähr&quot;</td><td>&quot;WAF&quot;</td><td>&quot;Mecklenburg-Vo…</td><td>&quot;Ost&quot;</td><td>&quot;Mecklenburg-Vo…</td><td>13.14101</td><td>54.322927</td><td>&quot;Zubringerbahnh…</td><td>&quot;ländlicher Zub…</td></tr><tr><td>&quot;244cab067843&quot;</td><td>&quot;DSA+_Typ2_GL1_…</td><td>121</td><td>&quot;00121-01-B01&quot;</td><td>&quot;Bahnsteig 01&quot;</td><td>&quot;Althof&quot;</td><td>&quot;WAH&quot;</td><td>&quot;Mecklenburg-Vo…</td><td>&quot;Ost&quot;</td><td>&quot;Mecklenburg-Vo…</td><td>11.922341</td><td>54.090442</td><td>&quot;Zubringerbahnh…</td><td>&quot;ländlicher Zub…</td></tr><tr><td>&quot;a0a3b3311b9f&quot;</td><td>&quot;DSA+_Typ2_GL1_…</td><td>490</td><td>&quot;00490-30&quot;</td><td>&quot;Zuwegung&quot;</td><td>&quot;Bentwisch&quot;</td><td>&quot;WBE&quot;</td><td>&quot;Mecklenburg-Vo…</td><td>&quot;Ost&quot;</td><td>&quot;Mecklenburg-Vo…</td><td>12.210506</td><td>54.117193</td><td>&quot;Zubringerbahnh…</td><td>&quot;ländlicher Zub…</td></tr><tr><td>&quot;244cab03327b&quot;</td><td>&quot;DSA+_Typ2_GL1_…</td><td>719</td><td>&quot;00719-01-B01&quot;</td><td>&quot;Bahnsteig 01&quot;</td><td>&quot;Bobitz&quot;</td><td>&quot;WBO&quot;</td><td>&quot;Mecklenburg-Vo…</td><td>&quot;Ost&quot;</td><td>&quot;Mecklenburg-Vo…</td><td>11.3628</td><td>53.804534</td><td>&quot;Zubringerbahnh…</td><td>&quot;ländlicher Zub…</td></tr><tr><td>&quot;083af23fd0df&quot;</td><td>&quot;DSA+_Typ2_GL2_…</td><td>719</td><td>&quot;00719-01-B02&quot;</td><td>&quot;Bahnsteig 02&quot;</td><td>&quot;Bobitz&quot;</td><td>&quot;WBO&quot;</td><td>&quot;Mecklenburg-Vo…</td><td>&quot;Ost&quot;</td><td>&quot;Mecklenburg-Vo…</td><td>11.3628</td><td>53.804534</td><td>&quot;Zubringerbahnh…</td><td>&quot;ländlicher Zub…</td></tr></tbody></table></div>"
      ],
      "text/plain": [
       "shape: (5, 14)\n",
       "┌───────────┬───────────┬───────────┬───────────┬───┬───────────┬───────────┬───────────┬──────────┐\n",
       "│ pax_count ┆ equipment ┆ station_i ┆ tplnr     ┆ … ┆ station_l ┆ station_l ┆ produktli ┆ unterseg │\n",
       "│ er_id     ┆ name      ┆ d         ┆ ---       ┆   ┆ ongitude  ┆ atitude   ┆ nie       ┆ ment     │\n",
       "│ ---       ┆ ---       ┆ ---       ┆ str       ┆   ┆ ---       ┆ ---       ┆ ---       ┆ ---      │\n",
       "│ str       ┆ str       ┆ i64       ┆           ┆   ┆ f64       ┆ f64       ┆ str       ┆ str      │\n",
       "╞═══════════╪═══════════╪═══════════╪═══════════╪═══╪═══════════╪═══════════╪═══════════╪══════════╡\n",
       "│ 244cab034 ┆ DSA+_Typ3 ┆ 79        ┆ 00079-01- ┆ … ┆ 13.14101  ┆ 54.322927 ┆ Zubringer ┆ ländlich │\n",
       "│ 443       ┆ _GL12_WAF ┆           ┆ B01       ┆   ┆           ┆           ┆ bahnhof   ┆ er Zubri │\n",
       "│           ┆ 12        ┆           ┆           ┆   ┆           ┆           ┆           ┆ nger     │\n",
       "│ 244cab067 ┆ DSA+_Typ2 ┆ 121       ┆ 00121-01- ┆ … ┆ 11.922341 ┆ 54.090442 ┆ Zubringer ┆ ländlich │\n",
       "│ 843       ┆ _GL1_WAH1 ┆           ┆ B01       ┆   ┆           ┆           ┆ bahnhof   ┆ er Zubri │\n",
       "│           ┆           ┆           ┆           ┆   ┆           ┆           ┆           ┆ nger     │\n",
       "│ a0a3b3311 ┆ DSA+_Typ2 ┆ 490       ┆ 00490-30  ┆ … ┆ 12.210506 ┆ 54.117193 ┆ Zubringer ┆ ländlich │\n",
       "│ b9f       ┆ _GL1_WBE1 ┆           ┆           ┆   ┆           ┆           ┆ bahnhof   ┆ er Zubri │\n",
       "│           ┆ 2         ┆           ┆           ┆   ┆           ┆           ┆           ┆ nger     │\n",
       "│ 244cab033 ┆ DSA+_Typ2 ┆ 719       ┆ 00719-01- ┆ … ┆ 11.3628   ┆ 53.804534 ┆ Zubringer ┆ ländlich │\n",
       "│ 27b       ┆ _GL1_WBO1 ┆           ┆ B01       ┆   ┆           ┆           ┆ bahnhof   ┆ er Zubri │\n",
       "│           ┆           ┆           ┆           ┆   ┆           ┆           ┆           ┆ nger     │\n",
       "│ 083af23fd ┆ DSA+_Typ2 ┆ 719       ┆ 00719-01- ┆ … ┆ 11.3628   ┆ 53.804534 ┆ Zubringer ┆ ländlich │\n",
       "│ 0df       ┆ _GL2_WBO2 ┆           ┆ B02       ┆   ┆           ┆           ┆ bahnhof   ┆ er Zubri │\n",
       "│           ┆           ┆           ┆           ┆   ┆           ┆           ┆           ┆ nger     │\n",
       "└───────────┴───────────┴───────────┴───────────┴───┴───────────┴───────────┴───────────┴──────────┘"
      ]
     },
     "execution_count": 21,
     "metadata": {},
     "output_type": "execute_result"
    }
   ],
   "source": [
    "df_master.filter(pl.col(\"management_name\") == mngmt_filter).head()"
   ]
  },
  {
   "cell_type": "code",
   "execution_count": 34,
   "id": "a105aa00",
   "metadata": {},
   "outputs": [],
   "source": [
    "cols_of_interest_master = [\"pax_counter_id\", \"station_id\", \"station_name\", \"tpname\", \"station_longitude\", \"station_latitude\"]"
   ]
  },
  {
   "cell_type": "code",
   "execution_count": 35,
   "id": "8ec6dc76",
   "metadata": {},
   "outputs": [
    {
     "data": {
      "text/html": [
       "<div><style>\n",
       ".dataframe > thead > tr,\n",
       ".dataframe > tbody > tr {\n",
       "  text-align: right;\n",
       "  white-space: pre-wrap;\n",
       "}\n",
       "</style>\n",
       "<small>shape: (5, 8)</small><table border=\"1\" class=\"dataframe\"><thead><tr><th>pax_counter_id</th><th>time_iot</th><th>data_pax</th><th>station_id</th><th>station_name</th><th>tpname</th><th>station_longitude</th><th>station_latitude</th></tr><tr><td>str</td><td>str</td><td>i64</td><td>i64</td><td>str</td><td>str</td><td>f64</td><td>f64</td></tr></thead><tbody><tr><td>&quot;083af23fd0df&quot;</td><td>&quot;2024-12-01 00:…</td><td>0</td><td>719</td><td>&quot;Bobitz&quot;</td><td>&quot;Bahnsteig 02&quot;</td><td>11.3628</td><td>53.804534</td></tr><tr><td>&quot;083af23fd0df&quot;</td><td>&quot;2024-12-01 00:…</td><td>0</td><td>719</td><td>&quot;Bobitz&quot;</td><td>&quot;Bahnsteig 02&quot;</td><td>11.3628</td><td>53.804534</td></tr><tr><td>&quot;083af23fd0df&quot;</td><td>&quot;2024-12-01 00:…</td><td>0</td><td>719</td><td>&quot;Bobitz&quot;</td><td>&quot;Bahnsteig 02&quot;</td><td>11.3628</td><td>53.804534</td></tr><tr><td>&quot;083af23fd0df&quot;</td><td>&quot;2024-12-01 00:…</td><td>0</td><td>719</td><td>&quot;Bobitz&quot;</td><td>&quot;Bahnsteig 02&quot;</td><td>11.3628</td><td>53.804534</td></tr><tr><td>&quot;083af23fd0df&quot;</td><td>&quot;2024-12-01 00:…</td><td>0</td><td>719</td><td>&quot;Bobitz&quot;</td><td>&quot;Bahnsteig 02&quot;</td><td>11.3628</td><td>53.804534</td></tr></tbody></table></div>"
      ],
      "text/plain": [
       "shape: (5, 8)\n",
       "┌────────────┬────────────┬──────────┬────────────┬────────────┬───────────┬───────────┬───────────┐\n",
       "│ pax_counte ┆ time_iot   ┆ data_pax ┆ station_id ┆ station_na ┆ tpname    ┆ station_l ┆ station_l │\n",
       "│ r_id       ┆ ---        ┆ ---      ┆ ---        ┆ me         ┆ ---       ┆ ongitude  ┆ atitude   │\n",
       "│ ---        ┆ str        ┆ i64      ┆ i64        ┆ ---        ┆ str       ┆ ---       ┆ ---       │\n",
       "│ str        ┆            ┆          ┆            ┆ str        ┆           ┆ f64       ┆ f64       │\n",
       "╞════════════╪════════════╪══════════╪════════════╪════════════╪═══════════╪═══════════╪═══════════╡\n",
       "│ 083af23fd0 ┆ 2024-12-01 ┆ 0        ┆ 719        ┆ Bobitz     ┆ Bahnsteig ┆ 11.3628   ┆ 53.804534 │\n",
       "│ df         ┆ 00:00:45   ┆          ┆            ┆            ┆ 02        ┆           ┆           │\n",
       "│ 083af23fd0 ┆ 2024-12-01 ┆ 0        ┆ 719        ┆ Bobitz     ┆ Bahnsteig ┆ 11.3628   ┆ 53.804534 │\n",
       "│ df         ┆ 00:01:45   ┆          ┆            ┆            ┆ 02        ┆           ┆           │\n",
       "│ 083af23fd0 ┆ 2024-12-01 ┆ 0        ┆ 719        ┆ Bobitz     ┆ Bahnsteig ┆ 11.3628   ┆ 53.804534 │\n",
       "│ df         ┆ 00:02:45   ┆          ┆            ┆            ┆ 02        ┆           ┆           │\n",
       "│ 083af23fd0 ┆ 2024-12-01 ┆ 0        ┆ 719        ┆ Bobitz     ┆ Bahnsteig ┆ 11.3628   ┆ 53.804534 │\n",
       "│ df         ┆ 00:03:45   ┆          ┆            ┆            ┆ 02        ┆           ┆           │\n",
       "│ 083af23fd0 ┆ 2024-12-01 ┆ 0        ┆ 719        ┆ Bobitz     ┆ Bahnsteig ┆ 11.3628   ┆ 53.804534 │\n",
       "│ df         ┆ 00:04:46   ┆          ┆            ┆            ┆ 02        ┆           ┆           │\n",
       "└────────────┴────────────┴──────────┴────────────┴────────────┴───────────┴───────────┴───────────┘"
      ]
     },
     "execution_count": 35,
     "metadata": {},
     "output_type": "execute_result"
    }
   ],
   "source": [
    "df_jd = df_pax.join(df_master.select(cols_of_interest_master), on = \"pax_counter_id\", how = \"left\")\n",
    "df_jd.head()"
   ]
  },
  {
   "cell_type": "code",
   "execution_count": 25,
   "id": "29646a6d",
   "metadata": {},
   "outputs": [
    {
     "data": {
      "text/html": [
       "<div><style>\n",
       ".dataframe > thead > tr,\n",
       ".dataframe > tbody > tr {\n",
       "  text-align: right;\n",
       "  white-space: pre-wrap;\n",
       "}\n",
       "</style>\n",
       "<small>shape: (1, 1)</small><table border=\"1\" class=\"dataframe\"><thead><tr><th>time_iot</th></tr><tr><td>str</td></tr></thead><tbody><tr><td>&quot;2024-12-01 00:…</td></tr></tbody></table></div>"
      ],
      "text/plain": [
       "shape: (1, 1)\n",
       "┌─────────────────────┐\n",
       "│ time_iot            │\n",
       "│ ---                 │\n",
       "│ str                 │\n",
       "╞═════════════════════╡\n",
       "│ 2024-12-01 00:00:00 │\n",
       "└─────────────────────┘"
      ]
     },
     "execution_count": 25,
     "metadata": {},
     "output_type": "execute_result"
    }
   ],
   "source": [
    "df_jd.select(pl.col(\"time_iot\").min())"
   ]
  },
  {
   "cell_type": "markdown",
   "id": "0c904907",
   "metadata": {},
   "source": [
    "### checks"
   ]
  },
  {
   "cell_type": "code",
   "execution_count": 31,
   "id": "f5325b51",
   "metadata": {},
   "outputs": [
    {
     "data": {
      "text/html": [
       "<div><style>\n",
       ".dataframe > thead > tr,\n",
       ".dataframe > tbody > tr {\n",
       "  text-align: right;\n",
       "  white-space: pre-wrap;\n",
       "}\n",
       "</style>\n",
       "<small>shape: (5, 2)</small><table border=\"1\" class=\"dataframe\"><thead><tr><th>station_name</th><th>n_sensors</th></tr><tr><td>str</td><td>u32</td></tr></thead><tbody><tr><td>&quot;Parchim&quot;</td><td>3</td></tr><tr><td>&quot;Holthusen&quot;</td><td>3</td></tr><tr><td>&quot;Schwerin Görri…</td><td>2</td></tr><tr><td>&quot;Teschenhagen&quot;</td><td>2</td></tr><tr><td>&quot;Hagenow Land&quot;</td><td>2</td></tr></tbody></table></div>"
      ],
      "text/plain": [
       "shape: (5, 2)\n",
       "┌──────────────────┬───────────┐\n",
       "│ station_name     ┆ n_sensors │\n",
       "│ ---              ┆ ---       │\n",
       "│ str              ┆ u32       │\n",
       "╞══════════════════╪═══════════╡\n",
       "│ Parchim          ┆ 3         │\n",
       "│ Holthusen        ┆ 3         │\n",
       "│ Schwerin Görries ┆ 2         │\n",
       "│ Teschenhagen     ┆ 2         │\n",
       "│ Hagenow Land     ┆ 2         │\n",
       "└──────────────────┴───────────┘"
      ]
     },
     "execution_count": 31,
     "metadata": {},
     "output_type": "execute_result"
    }
   ],
   "source": [
    "df_jd.group_by(\"station_name\").agg(pl.col(\"pax_counter_id\").unique().count().alias(\"n_sensors\")).sort(\"n_sensors\", descending = True).head()"
   ]
  },
  {
   "cell_type": "code",
   "execution_count": 33,
   "id": "5b395b45",
   "metadata": {},
   "outputs": [
    {
     "data": {
      "text/html": [
       "<div><style>\n",
       ".dataframe > thead > tr,\n",
       ".dataframe > tbody > tr {\n",
       "  text-align: right;\n",
       "  white-space: pre-wrap;\n",
       "}\n",
       "</style>\n",
       "<small>shape: (372_298, 7)</small><table border=\"1\" class=\"dataframe\"><thead><tr><th>pax_counter_id</th><th>time_iot</th><th>data_pax</th><th>station_id</th><th>station_name</th><th>station_longitude</th><th>station_latitude</th></tr><tr><td>str</td><td>str</td><td>i64</td><td>i64</td><td>str</td><td>f64</td><td>f64</td></tr></thead><tbody><tr><td>&quot;3494545a2107&quot;</td><td>&quot;2025-03-05 17:…</td><td>6</td><td>2877</td><td>&quot;Holthusen&quot;</td><td>11.364809</td><td>53.555831</td></tr><tr><td>&quot;3494545a2107&quot;</td><td>&quot;2025-03-05 17:…</td><td>6</td><td>2877</td><td>&quot;Holthusen&quot;</td><td>11.364809</td><td>53.555831</td></tr><tr><td>&quot;3494545a2107&quot;</td><td>&quot;2025-03-05 17:…</td><td>1</td><td>2877</td><td>&quot;Holthusen&quot;</td><td>11.364809</td><td>53.555831</td></tr><tr><td>&quot;3494545a2107&quot;</td><td>&quot;2025-03-05 17:…</td><td>5</td><td>2877</td><td>&quot;Holthusen&quot;</td><td>11.364809</td><td>53.555831</td></tr><tr><td>&quot;3494545a2107&quot;</td><td>&quot;2025-03-05 17:…</td><td>4</td><td>2877</td><td>&quot;Holthusen&quot;</td><td>11.364809</td><td>53.555831</td></tr><tr><td>&quot;3494545a2107&quot;</td><td>&quot;2025-03-05 17:…</td><td>8</td><td>2877</td><td>&quot;Holthusen&quot;</td><td>11.364809</td><td>53.555831</td></tr><tr><td>&quot;3494545a2107&quot;</td><td>&quot;2025-03-05 17:…</td><td>7</td><td>2877</td><td>&quot;Holthusen&quot;</td><td>11.364809</td><td>53.555831</td></tr><tr><td>&quot;3494545a2107&quot;</td><td>&quot;2025-03-05 17:…</td><td>6</td><td>2877</td><td>&quot;Holthusen&quot;</td><td>11.364809</td><td>53.555831</td></tr><tr><td>&quot;3494545a2107&quot;</td><td>&quot;2025-03-05 17:…</td><td>3</td><td>2877</td><td>&quot;Holthusen&quot;</td><td>11.364809</td><td>53.555831</td></tr><tr><td>&quot;3494545a2107&quot;</td><td>&quot;2025-03-05 17:…</td><td>5</td><td>2877</td><td>&quot;Holthusen&quot;</td><td>11.364809</td><td>53.555831</td></tr><tr><td>&quot;3494545a2107&quot;</td><td>&quot;2025-03-05 17:…</td><td>2</td><td>2877</td><td>&quot;Holthusen&quot;</td><td>11.364809</td><td>53.555831</td></tr><tr><td>&quot;3494545a2107&quot;</td><td>&quot;2025-03-05 17:…</td><td>2</td><td>2877</td><td>&quot;Holthusen&quot;</td><td>11.364809</td><td>53.555831</td></tr><tr><td>&hellip;</td><td>&hellip;</td><td>&hellip;</td><td>&hellip;</td><td>&hellip;</td><td>&hellip;</td><td>&hellip;</td></tr><tr><td>&quot;a0a3b38c5463&quot;</td><td>&quot;2025-05-31 23:…</td><td>0</td><td>2877</td><td>&quot;Holthusen&quot;</td><td>11.364809</td><td>53.555831</td></tr><tr><td>&quot;a0a3b38c5463&quot;</td><td>&quot;2025-05-31 23:…</td><td>0</td><td>2877</td><td>&quot;Holthusen&quot;</td><td>11.364809</td><td>53.555831</td></tr><tr><td>&quot;a0a3b38c5463&quot;</td><td>&quot;2025-05-31 23:…</td><td>0</td><td>2877</td><td>&quot;Holthusen&quot;</td><td>11.364809</td><td>53.555831</td></tr><tr><td>&quot;a0a3b38c5463&quot;</td><td>&quot;2025-05-31 23:…</td><td>0</td><td>2877</td><td>&quot;Holthusen&quot;</td><td>11.364809</td><td>53.555831</td></tr><tr><td>&quot;a0a3b38c5463&quot;</td><td>&quot;2025-05-31 23:…</td><td>0</td><td>2877</td><td>&quot;Holthusen&quot;</td><td>11.364809</td><td>53.555831</td></tr><tr><td>&quot;a0a3b38c5463&quot;</td><td>&quot;2025-05-31 23:…</td><td>0</td><td>2877</td><td>&quot;Holthusen&quot;</td><td>11.364809</td><td>53.555831</td></tr><tr><td>&quot;a0a3b38c5463&quot;</td><td>&quot;2025-05-31 23:…</td><td>0</td><td>2877</td><td>&quot;Holthusen&quot;</td><td>11.364809</td><td>53.555831</td></tr><tr><td>&quot;a0a3b38c5463&quot;</td><td>&quot;2025-05-31 23:…</td><td>0</td><td>2877</td><td>&quot;Holthusen&quot;</td><td>11.364809</td><td>53.555831</td></tr><tr><td>&quot;a0a3b38c5463&quot;</td><td>&quot;2025-05-31 23:…</td><td>0</td><td>2877</td><td>&quot;Holthusen&quot;</td><td>11.364809</td><td>53.555831</td></tr><tr><td>&quot;a0a3b38c5463&quot;</td><td>&quot;2025-05-31 23:…</td><td>0</td><td>2877</td><td>&quot;Holthusen&quot;</td><td>11.364809</td><td>53.555831</td></tr><tr><td>&quot;a0a3b38c5463&quot;</td><td>&quot;2025-05-31 23:…</td><td>0</td><td>2877</td><td>&quot;Holthusen&quot;</td><td>11.364809</td><td>53.555831</td></tr><tr><td>&quot;a0a3b38c5463&quot;</td><td>&quot;2025-05-31 23:…</td><td>0</td><td>2877</td><td>&quot;Holthusen&quot;</td><td>11.364809</td><td>53.555831</td></tr></tbody></table></div>"
      ],
      "text/plain": [
       "shape: (372_298, 7)\n",
       "┌──────────────┬──────────────┬──────────┬────────────┬──────────────┬──────────────┬──────────────┐\n",
       "│ pax_counter_ ┆ time_iot     ┆ data_pax ┆ station_id ┆ station_name ┆ station_long ┆ station_lati │\n",
       "│ id           ┆ ---          ┆ ---      ┆ ---        ┆ ---          ┆ itude        ┆ tude         │\n",
       "│ ---          ┆ str          ┆ i64      ┆ i64        ┆ str          ┆ ---          ┆ ---          │\n",
       "│ str          ┆              ┆          ┆            ┆              ┆ f64          ┆ f64          │\n",
       "╞══════════════╪══════════════╪══════════╪════════════╪══════════════╪══════════════╪══════════════╡\n",
       "│ 3494545a2107 ┆ 2025-03-05   ┆ 6        ┆ 2877       ┆ Holthusen    ┆ 11.364809    ┆ 53.555831    │\n",
       "│              ┆ 17:29:18     ┆          ┆            ┆              ┆              ┆              │\n",
       "│ 3494545a2107 ┆ 2025-03-05   ┆ 6        ┆ 2877       ┆ Holthusen    ┆ 11.364809    ┆ 53.555831    │\n",
       "│              ┆ 17:30:18     ┆          ┆            ┆              ┆              ┆              │\n",
       "│ 3494545a2107 ┆ 2025-03-05   ┆ 1        ┆ 2877       ┆ Holthusen    ┆ 11.364809    ┆ 53.555831    │\n",
       "│              ┆ 17:31:18     ┆          ┆            ┆              ┆              ┆              │\n",
       "│ 3494545a2107 ┆ 2025-03-05   ┆ 5        ┆ 2877       ┆ Holthusen    ┆ 11.364809    ┆ 53.555831    │\n",
       "│              ┆ 17:32:18     ┆          ┆            ┆              ┆              ┆              │\n",
       "│ …            ┆ …            ┆ …        ┆ …          ┆ …            ┆ …            ┆ …            │\n",
       "│ a0a3b38c5463 ┆ 2025-05-31   ┆ 0        ┆ 2877       ┆ Holthusen    ┆ 11.364809    ┆ 53.555831    │\n",
       "│              ┆ 23:56:23     ┆          ┆            ┆              ┆              ┆              │\n",
       "│ a0a3b38c5463 ┆ 2025-05-31   ┆ 0        ┆ 2877       ┆ Holthusen    ┆ 11.364809    ┆ 53.555831    │\n",
       "│              ┆ 23:57:23     ┆          ┆            ┆              ┆              ┆              │\n",
       "│ a0a3b38c5463 ┆ 2025-05-31   ┆ 0        ┆ 2877       ┆ Holthusen    ┆ 11.364809    ┆ 53.555831    │\n",
       "│              ┆ 23:58:23     ┆          ┆            ┆              ┆              ┆              │\n",
       "│ a0a3b38c5463 ┆ 2025-05-31   ┆ 0        ┆ 2877       ┆ Holthusen    ┆ 11.364809    ┆ 53.555831    │\n",
       "│              ┆ 23:59:24     ┆          ┆            ┆              ┆              ┆              │\n",
       "└──────────────┴──────────────┴──────────┴────────────┴──────────────┴──────────────┴──────────────┘"
      ]
     },
     "execution_count": 33,
     "metadata": {},
     "output_type": "execute_result"
    }
   ],
   "source": [
    "df_jd.filter(pl.col(\"station_name\") == \"Holthusen\")"
   ]
  },
  {
   "cell_type": "code",
   "execution_count": 36,
   "id": "762fe6fe",
   "metadata": {},
   "outputs": [],
   "source": [
    "df_jd.write_csv(f\"pax_data_{region_name}_{mngmt_name}.csv\")"
   ]
  },
  {
   "cell_type": "code",
   "execution_count": 37,
   "id": "7eb417fe",
   "metadata": {},
   "outputs": [],
   "source": [
    "df_jd.write_parquet(f\"pax_data_{region_name}_{mngmt_name}.parquet\")"
   ]
  }
 ],
 "metadata": {
  "kernelspec": {
   "display_name": "Python 3",
   "language": "python",
   "name": "python3"
  },
  "language_info": {
   "codemirror_mode": {
    "name": "ipython",
    "version": 3
   },
   "file_extension": ".py",
   "mimetype": "text/x-python",
   "name": "python",
   "nbconvert_exporter": "python",
   "pygments_lexer": "ipython3",
   "version": "3.11.3"
  }
 },
 "nbformat": 4,
 "nbformat_minor": 5
}
