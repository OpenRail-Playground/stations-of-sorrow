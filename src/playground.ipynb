{
 "cells": [
  {
   "cell_type": "markdown",
   "id": "b464bd0c",
   "metadata": {},
   "source": [
    "## Setup"
   ]
  },
  {
   "cell_type": "code",
   "execution_count": 2,
   "id": "385198a1",
   "metadata": {},
   "outputs": [],
   "source": [
    "import os\n",
    "import polars as pl"
   ]
  },
  {
   "cell_type": "markdown",
   "id": "e2a35204",
   "metadata": {},
   "source": [
    "## paths"
   ]
  },
  {
   "cell_type": "code",
   "execution_count": 14,
   "id": "9368dd15",
   "metadata": {},
   "outputs": [],
   "source": [
    "pth_data = f\"C:/Users/z187070/Documents/Projects/PAXCOUNTER/data/\""
   ]
  },
  {
   "cell_type": "code",
   "execution_count": 15,
   "id": "dd053c4f",
   "metadata": {},
   "outputs": [],
   "source": [
    "pth_pax = pth_data + f\"pax/pax/Mitte/Darmstadt/\""
   ]
  },
  {
   "cell_type": "markdown",
   "id": "51deb3ea",
   "metadata": {},
   "source": [
    "## Load data"
   ]
  },
  {
   "cell_type": "code",
   "execution_count": 20,
   "id": "c5613caf",
   "metadata": {},
   "outputs": [],
   "source": [
    "df_pax_darmstadt = pl.read_csv(pth_pax + f\"*.csv\", has_header=True, separator=\";\")"
   ]
  },
  {
   "cell_type": "code",
   "execution_count": 22,
   "id": "f6e44ccf",
   "metadata": {},
   "outputs": [
    {
     "data": {
      "text/html": [
       "<div><style>\n",
       ".dataframe > thead > tr,\n",
       ".dataframe > tbody > tr {\n",
       "  text-align: right;\n",
       "  white-space: pre-wrap;\n",
       "}\n",
       "</style>\n",
       "<small>shape: (1, 1)</small><table border=\"1\" class=\"dataframe\"><thead><tr><th>count</th></tr><tr><td>u32</td></tr></thead><tbody><tr><td>16058238</td></tr></tbody></table></div>"
      ],
      "text/plain": [
       "shape: (1, 1)\n",
       "┌──────────┐\n",
       "│ count    │\n",
       "│ ---      │\n",
       "│ u32      │\n",
       "╞══════════╡\n",
       "│ 16058238 │\n",
       "└──────────┘"
      ]
     },
     "execution_count": 22,
     "metadata": {},
     "output_type": "execute_result"
    }
   ],
   "source": [
    "df_pax_darmstadt.select(pl.count())"
   ]
  }
 ],
 "metadata": {
  "kernelspec": {
   "display_name": "Python 3",
   "language": "python",
   "name": "python3"
  },
  "language_info": {
   "codemirror_mode": {
    "name": "ipython",
    "version": 3
   },
   "file_extension": ".py",
   "mimetype": "text/x-python",
   "name": "python",
   "nbconvert_exporter": "python",
   "pygments_lexer": "ipython3",
   "version": "3.11.3"
  }
 },
 "nbformat": 4,
 "nbformat_minor": 5
}
